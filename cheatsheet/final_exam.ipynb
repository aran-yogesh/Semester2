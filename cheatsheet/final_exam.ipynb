{
 "cells": [
  {
   "cell_type": "code",
   "execution_count": 1,
   "metadata": {},
   "outputs": [],
   "source": [
    "import numpy as np\n",
    "import pandas as pd"
   ]
  },
  {
   "cell_type": "code",
   "execution_count": 3,
   "metadata": {},
   "outputs": [
    {
     "name": "stdout",
     "output_type": "stream",
     "text": [
      "Prior probability for playing tennis: 0.533\n",
      "Likelihood of having a hot weather, given there was no play: 0.286\n"
     ]
    }
   ],
   "source": [
    "# data = {\n",
    "#     'Sunny': ['Yes', 'Yes', 'Yes', 'Yes', 'Yes', 'Yes', 'No', 'No', 'No', 'No', 'No', 'Yes', 'Yes', 'Yes', 'Yes'],\n",
    "#     'Hot': ['Yes', 'No', 'No', 'No', 'No', 'No', 'No', 'No', 'No', 'No', 'No', 'No', 'Yes', 'Yes', 'Yes'],\n",
    "#     'Windy': ['Yes', 'Yes', 'Yes', 'Yes', 'Yes', 'No', 'No', 'No', 'No', 'No', 'No', 'Yes', 'Yes', 'Yes', 'Yes'],\n",
    "#     'Play': ['No', 'Yes', 'Yes', 'Yes', 'No', 'No', 'Yes', 'No', 'No', 'Yes', 'Yes', 'No', 'Yes', 'Yes', 'No']\n",
    "# }\n",
    "# df = pd.DataFrame(data)\n",
    "\n",
    "# prior_play = df['Play'].value_counts(normalize=True)['Yes']\n",
    "\n",
    "# likelihood_hot_no_play = df[df['Play'] == 'No']['Hot'].value_counts(normalize=True)['Yes']\n",
    "\n",
    "# print(f\"Prior probability: {prior_play:.3f}\")\n",
    "# print(f\"Likelihood: {likelihood_hot_no_play:.3f}\")\n",
    "\n"
   ]
  },
  {
   "cell_type": "code",
   "execution_count": 1,
   "metadata": {},
   "outputs": [
    {
     "name": "stdout",
     "output_type": "stream",
     "text": [
      "Prior probability for playing tennis (with Laplace smoothing): 0.530\n",
      "Likelihood of having a hot weather, given there was no play (with Laplace smoothing): 0.330\n"
     ]
    }
   ],
   "source": [
    "import pandas as pd\n",
    "\n",
    "data = {\n",
    "    'Sunny': ['Yes', 'Yes', 'Yes', 'Yes', 'Yes', 'Yes', 'No', 'No', 'No', 'No', 'No', 'Yes', 'Yes', 'Yes', 'Yes'],\n",
    "    'Hot': ['Yes', 'No', 'No', 'No', 'No', 'No', 'No', 'No', 'No', 'No', 'No', 'No', 'Yes', 'Yes', 'Yes'],\n",
    "    'Windy': ['Yes', 'Yes', 'Yes', 'Yes', 'Yes', 'No', 'No', 'No', 'No', 'No', 'No', 'Yes', 'Yes', 'Yes', 'Yes'],\n",
    "    'Play': ['No', 'Yes', 'Yes', 'Yes', 'No', 'No', 'Yes', 'No', 'No', 'Yes', 'Yes', 'No', 'Yes', 'Yes', 'No']\n",
    "}\n",
    "df = pd.DataFrame(data)\n",
    "\n",
    "alpha = 0.9\n",
    "\n",
    "n_total = df.shape[0]\n",
    "\n",
    "n_play_yes = df[df['Play'] == 'Yes'].shape[0]\n",
    "\n",
    "prior_play_laplace = (n_play_yes + alpha) / (n_total + 2 * alpha)\n",
    "\n",
    "n_unique_hot = df['Hot'].nunique()\n",
    "\n",
    "n_no_play = df[df['Play'] == 'No'].shape[0]\n",
    "\n",
    "n_hot_no_play = df[(df['Play'] == 'No') & (df['Hot'] == 'Yes')].shape[0]\n",
    "\n",
    "likelihood_hot_no_play_laplace = (n_hot_no_play + alpha) / (n_no_play + n_unique_hot * alpha)\n",
    "\n",
    "print(f\"Prior probability: {prior_play_laplace:.3f}\")\n",
    "print(f\"Likelihood: {likelihood_hot_no_play_laplace:.3f}\")"
   ]
  },
  {
   "cell_type": "code",
   "execution_count": 1,
   "metadata": {},
   "outputs": [
    {
     "name": "stdout",
     "output_type": "stream",
     "text": [
      "Average value of g(x) at x=0: -1.89\n"
     ]
    }
   ],
   "source": [
    "g_values_at_0 = [-1.52, -2.5, -1.51, -2.02]\n",
    "\n",
    "average_g_at_0 = sum(g_values_at_0) / len(g_values_at_0)\n",
    "\n",
    "print(f\"Average value of g(x) at x=0: {average_g_at_0:.2f}\")"
   ]
  },
  {
   "cell_type": "code",
   "execution_count": 1,
   "metadata": {},
   "outputs": [
    {
     "name": "stdout",
     "output_type": "stream",
     "text": [
      "Probability of admission: 0.750\n"
     ]
    }
   ],
   "source": [
    "import math\n",
    "\n",
    "w0 = -2\n",
    "w1 = 0.5\n",
    "x1 = 3\n",
    "w2 = 0.8\n",
    "x2 = 2\n",
    "\n",
    "prob_admission = 1 / (1 + math.exp(-(w0 + w1*x1 + w2*x2)))\n",
    "\n",
    "print(f\"Probability of admission: {prob_admission:.3f}\")"
   ]
  },
  {
   "cell_type": "code",
   "execution_count": 2,
   "metadata": {},
   "outputs": [
    {
     "name": "stdout",
     "output_type": "stream",
     "text": [
      "Squared bias at x=1: 1.40\n"
     ]
    }
   ],
   "source": [
    "# bias\n",
    "\n",
    "g_values_at_1 = [0.22, -0.5, 4.5, -1.8]\n",
    "\n",
    "f_at_1 = -0.58\n",
    "\n",
    "average_g_at_1 = sum(g_values_at_1) / len(g_values_at_1)\n",
    "\n",
    "bias_squared_at_1 = (average_g_at_1 - f_at_1) ** 2\n",
    "\n",
    "print(f\"Squared bias at x=1: {bias_squared_at_1:.2f}\")"
   ]
  },
  {
   "cell_type": "code",
   "execution_count": 1,
   "metadata": {},
   "outputs": [
    {
     "name": "stdout",
     "output_type": "stream",
     "text": [
      "Cross-validation mean squared error: 1.642\n"
     ]
    }
   ],
   "source": [
    "import pandas as pd\n",
    "from sklearn.model_selection import cross_val_score, LeaveOneOut\n",
    "from sklearn.linear_model import LinearRegression\n",
    "from sklearn.preprocessing import MinMaxScaler\n",
    "from sklearn.pipeline import make_pipeline\n",
    "from sklearn.metrics import make_scorer, mean_squared_error\n",
    "\n",
    "data = pd.read_csv('w4.csv')\n",
    "\n",
    "X = data.iloc[:, :5]\n",
    "y = data.iloc[:, -1]\n",
    "\n",
    "model = make_pipeline(MinMaxScaler(), LinearRegression())\n",
    "\n",
    "loo = LeaveOneOut()\n",
    "mse_scorer = make_scorer(mean_squared_error)\n",
    "scores = cross_val_score(model, X, y, cv=loo, scoring=mse_scorer)\n",
    "\n",
    "cv_mse = scores.mean()\n",
    "\n",
    "print(f\"Cross-validation mean squared error: {cv_mse:.3f}\")"
   ]
  },
  {
   "cell_type": "code",
   "execution_count": null,
   "metadata": {},
   "outputs": [],
   "source": []
  }
 ],
 "metadata": {
  "kernelspec": {
   "display_name": "Python 3 (ipykernel)",
   "language": "python",
   "name": "python3"
  },
  "language_info": {
   "codemirror_mode": {
    "name": "ipython",
    "version": 3
   },
   "file_extension": ".py",
   "mimetype": "text/x-python",
   "name": "python",
   "nbconvert_exporter": "python",
   "pygments_lexer": "ipython3",
   "version": "3.11.4"
  }
 },
 "nbformat": 4,
 "nbformat_minor": 2
}
