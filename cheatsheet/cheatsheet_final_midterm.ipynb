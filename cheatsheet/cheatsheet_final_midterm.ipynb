{
 "cells": [
  {
   "cell_type": "code",
   "execution_count": null,
   "metadata": {},
   "outputs": [],
   "source": []
  },
  {
   "cell_type": "markdown",
   "metadata": {},
   "source": [
    "## VDM"
   ]
  },
  {
   "cell_type": "code",
   "execution_count": 22,
   "metadata": {},
   "outputs": [
    {
     "name": "stdout",
     "output_type": "stream",
     "text": [
      "   Color  HWY MPG Car Type  Euclidean Distance       VDM  Final Distance\n",
      "0  White       23      Van                 5.0  1.555556        5.153208\n",
      "1    Red       28    Sport                 0.0  0.000000        0.000000\n",
      "2  Black       32    Sport                 4.0  0.888889        4.109609\n",
      "3    Red       42    Sedan                14.0  0.000000       14.000000\n",
      "4    Red       40    Sedan                12.0  0.000000       12.000000\n",
      "5  White       20      Van                 8.0  1.555556        8.096639\n"
     ]
    }
   ],
   "source": [
    "import numpy as np\n",
    "import pandas as pd\n",
    "\n",
    "# Your data and test point\n",
    "data = {\n",
    "    'Color': ['White', 'Red', 'Black', 'Red', 'Red', 'White'],\n",
    "    'HWY MPG': [23, 28, 32, 42, 40, 20],\n",
    "    'Car Type': ['Van', 'Sport', 'Sport', 'Sedan', 'Sedan', 'Van']\n",
    "}\n",
    "df = pd.DataFrame(data)\n",
    "test_point = {'Color': 'Red', 'HWY MPG': 28}\n",
    "\n",
    "# Your VDM function\n",
    "def vdm(val_i, val_j, attribute, df):\n",
    "    classes = df['Car Type'].unique()\n",
    "    vdm_sum = 0\n",
    "    for c in classes:\n",
    "        p_c_val_i = len(df[(df[attribute] == val_i) & (df['Car Type'] == c)]) / len(df[df[attribute] == val_i])\n",
    "        p_c_val_j = len(df[(df[attribute] == val_j) & (df['Car Type'] == c)]) / len(df[df[attribute] == val_j])\n",
    "        vdm_sum += (p_c_val_i - p_c_val_j) ** 2\n",
    "    return vdm_sum\n",
    "\n",
    "# Calculate Euclidean distance for 'HWY MPG'\n",
    "df['Euclidean Distance'] = np.sqrt((df['HWY MPG'] - test_point['HWY MPG'])**2)\n",
    "\n",
    "# Calculate VDM for 'Color'\n",
    "df['VDM'] = df['Color'].apply(lambda x: vdm(x, test_point['Color'], 'Color', df))\n",
    "\n",
    "# Calculate the final distance\n",
    "df['Final Distance'] = np.sqrt(df['Euclidean Distance'] ** 2 + df['VDM'])\n",
    "\n",
    "print(df)"
   ]
  },
  {
   "cell_type": "code",
   "execution_count": 23,
   "metadata": {},
   "outputs": [
    {
     "name": "stdout",
     "output_type": "stream",
     "text": [
      "          White       Red     Black\n",
      "White       0.0  1.555556       2.0\n",
      "Red    1.555556       0.0  0.888889\n",
      "Black       2.0  0.888889       0.0\n"
     ]
    }
   ],
   "source": [
    "# Calculate VDM for 'Colors' and represent it as a table\n",
    "colors = df['Color'].unique()\n",
    "vdm_table = pd.DataFrame(index=colors, columns=colors)\n",
    "for i in colors:\n",
    "    for j in colors:\n",
    "        vdm_table.loc[i, j] = vdm(i, j, 'Color', df)\n",
    "print(vdm_table)\n"
   ]
  },
  {
   "cell_type": "code",
   "execution_count": 24,
   "metadata": {},
   "outputs": [
    {
     "name": "stdout",
     "output_type": "stream",
     "text": [
      "Predicted car type for the test point: Sport\n"
     ]
    }
   ],
   "source": [
    "# Assume your friend tells you that\n",
    "# she bought a red car with MPG of\n",
    "# 28. Predict her car type using 3-NN\n",
    "# algorithm.\n",
    "\n",
    "\n",
    "# Sort the dataframe by the final distance in ascending order\n",
    "df = df.sort_values('Final Distance')\n",
    "\n",
    "# Get the top 3 nearest neighbors\n",
    "nearest_neighbors = df.head(3)\n",
    "\n",
    "# Predict the car type based on the majority car type among the nearest neighbors\n",
    "predicted_car_type = nearest_neighbors['Car Type'].mode()[0]\n",
    "\n",
    "print(f\"Predicted car type for the test point: {predicted_car_type}\")\n"
   ]
  },
  {
   "cell_type": "code",
   "execution_count": 25,
   "metadata": {},
   "outputs": [
    {
     "name": "stdout",
     "output_type": "stream",
     "text": [
      "Predicted car type: Sport\n",
      "Predicted car type using only color: Sedan\n"
     ]
    }
   ],
   "source": [
    "# Sort the dataframe by the final distance in ascending order\n",
    "df = df.sort_values('Final Distance')\n",
    "\n",
    "# Get the top 3 nearest neighbors\n",
    "nearest_neighbors = df.head(3)\n",
    "\n",
    "# Predict the car type based on the majority car type among the nearest neighbors\n",
    "predicted_car_type = nearest_neighbors['Car Type'].mode()[0]\n",
    "\n",
    "print(f\"Predicted car type: {predicted_car_type}\")\n",
    "# Sort the dataframe by the final distance in ascending order\n",
    "df_color = df.sort_values('VDM')\n",
    "\n",
    "# Get the top 3 nearest neighbors based on color\n",
    "nearest_neighbors_color = df_color.head(3)\n",
    "\n",
    "# Predict the car type based on the majority car type among the nearest neighbors\n",
    "predicted_car_type_color = nearest_neighbors_color['Car Type'].mode()[0]\n",
    "\n",
    "print(f\"Predicted car type using only color: {predicted_car_type_color}\")\n"
   ]
  },
  {
   "cell_type": "code",
   "execution_count": 26,
   "metadata": {},
   "outputs": [
    {
     "name": "stdout",
     "output_type": "stream",
     "text": [
      "Predicted car type: Sport\n"
     ]
    }
   ],
   "source": [
    "# Assume your friend tells you that\n",
    "# she bought a car with MPG of 28. Predict her car type using 3-NN algorithm.\n",
    "\n",
    "# Calculate Euclidean distance for 'HWY MPG'\n",
    "df['Euclidean Distance'] = np.sqrt((df['HWY MPG'] - test_point['HWY MPG'])**2)\n",
    "\n",
    "# Sort the dataframe by the final distance in ascending order\n",
    "df = df.sort_values('Euclidean Distance')\n",
    "\n",
    "# Get the top 3 nearest neighbors\n",
    "nearest_neighbors = df.head(3)\n",
    "\n",
    "# Predict the car type based on the majority car type among the nearest neighbors\n",
    "predicted_car_type = nearest_neighbors['Car Type'].mode()[0]\n",
    "\n",
    "print(f\"Predicted car type: {predicted_car_type}\")\n"
   ]
  },
  {
   "cell_type": "markdown",
   "metadata": {},
   "source": [
    "## Normalization methods:"
   ]
  },
  {
   "cell_type": "code",
   "execution_count": 34,
   "metadata": {},
   "outputs": [],
   "source": [
    "# Using min max and standardization example\n",
    "# Your data and test point\n",
    "data = {\n",
    "    'Color': ['White', 'Red', 'Black', 'Red', 'Red', 'White'],\n",
    "    'HWY MPG': [23, 28, 32, 42, 40, 20],\n",
    "    'Car Type': ['Van', 'Sport', 'Sport', 'Sedan', 'Sedan', 'Van']\n",
    "}\n",
    "df = pd.DataFrame(data)\n",
    "test_point = {'Color': 'Red', 'HWY MPG': 28}\n",
    "\n",
    "# Min-max scaling or Linear\n",
    "df['HWY MPG Min-Max'] = (df['HWY MPG'] - df['HWY MPG'].min()) / (df['HWY MPG'].max() - df['HWY MPG'].min())\n",
    "\n",
    "# Standardization or Gaussian\n",
    "df['HWY MPG Standardization'] = (df['HWY MPG'] - df['HWY MPG'].mean()) / df['HWY MPG'].std()"
   ]
  },
  {
   "cell_type": "markdown",
   "metadata": {},
   "source": [
    "## KNN classification"
   ]
  },
  {
   "cell_type": "code",
   "execution_count": 27,
   "metadata": {},
   "outputs": [
    {
     "name": "stdout",
     "output_type": "stream",
     "text": [
      "Accuracy: 1.00\n",
      "Predicted class: setosa\n"
     ]
    }
   ],
   "source": [
    "import numpy as np\n",
    "import pandas as pd\n",
    "from sklearn.model_selection import train_test_split\n",
    "from sklearn.neighbors import KNeighborsClassifier\n",
    "from sklearn.metrics import accuracy_score\n",
    "\n",
    "# Your data\n",
    "# use built-in iris dataset\n",
    "from sklearn.datasets import load_iris\n",
    "iris = load_iris()\n",
    "X = iris.data\n",
    "y = iris.target\n",
    "\n",
    "# Split the data into training and testing sets\n",
    "X_train, X_test, y_train, y_test = train_test_split(X, y, test_size=0.2, random_state=42)\n",
    "\n",
    "# Create a KNN classifier with 3 neighbors\n",
    "knn = KNeighborsClassifier(n_neighbors=3)\n",
    "\n",
    "# Train the classifier\n",
    "knn.fit(X_train, y_train)\n",
    "\n",
    "# Test the classifier\n",
    "y_pred = knn.predict(X_test)\n",
    "\n",
    "# Calculate the accuracy\n",
    "accuracy = accuracy_score(y_test, y_pred)\n",
    "\n",
    "print(f\"Accuracy: {accuracy:.2f}\")\n",
    "\n",
    "# Input a test point to predict class\n",
    "test_point = np.array([[5.1, 3.5, 1.4, 0.2]])\n",
    "\n",
    "# Predict the class of the test point\n",
    "predicted_class = knn.predict(test_point)\n",
    "\n",
    "print(f\"Predicted class: {iris.target_names[predicted_class][0]}\")\n"
   ]
  },
  {
   "cell_type": "markdown",
   "metadata": {},
   "source": [
    "## Norms:"
   ]
  },
  {
   "cell_type": "code",
   "execution_count": 28,
   "metadata": {},
   "outputs": [
    {
     "name": "stdout",
     "output_type": "stream",
     "text": [
      "   L1 Norm   L2 Norm  L_inf Norm\n",
      "0     10.2  6.345077         5.1\n",
      "1      9.5  5.916925         4.9\n",
      "2      9.4  5.836095         4.7\n",
      "3      9.4  5.749783         4.6\n",
      "4     10.2  6.321392         5.0\n"
     ]
    },
    {
     "data": {
      "text/plain": [
       "(150, 3)"
      ]
     },
     "execution_count": 28,
     "metadata": {},
     "output_type": "execute_result"
    }
   ],
   "source": [
    "# I want to calculate norms based on iris dataset, l1 l2 and l_inf\n",
    "# Your data\n",
    "# use built-in iris dataset\n",
    "from sklearn.datasets import load_iris\n",
    "iris = load_iris()\n",
    "X = iris.data\n",
    "\n",
    "\n",
    "# Calculate L1 norm\n",
    "l1_norm = np.linalg.norm(X, ord=1, axis=1)\n",
    "\n",
    "# Calculate L2 norm\n",
    "l2_norm = np.linalg.norm(X, ord=2, axis=1)\n",
    "\n",
    "# Calculate L_inf norm\n",
    "l_inf_norm = np.linalg.norm(X, ord=np.inf, axis=1)\n",
    "\n",
    "# Create a dataframe to display the results\n",
    "df = pd.DataFrame({'L1 Norm': l1_norm, 'L2 Norm': l2_norm, 'L_inf Norm': l_inf_norm})\n",
    "print(df.head())\n",
    "df.shape"
   ]
  },
  {
   "cell_type": "markdown",
   "metadata": {},
   "source": [
    "## KNN regression"
   ]
  },
  {
   "cell_type": "code",
   "execution_count": 29,
   "metadata": {},
   "outputs": [
    {
     "name": "stdout",
     "output_type": "stream",
     "text": [
      "Mean Squared Error: 3364.39\n",
      "Predicted target: 164.33\n"
     ]
    }
   ],
   "source": [
    "from sklearn.datasets import load_diabetes\n",
    "from sklearn.model_selection import train_test_split\n",
    "from sklearn.neighbors import KNeighborsRegressor\n",
    "from sklearn.metrics import mean_squared_error\n",
    "import numpy as np\n",
    "\n",
    "# Load the diabetes dataset\n",
    "diabetes = load_diabetes()\n",
    "X = diabetes.data\n",
    "y = diabetes.target\n",
    "\n",
    "# Split the data into training and testing sets\n",
    "X_train, X_test, y_train, y_test = train_test_split(X, y, test_size=0.2, random_state=42)\n",
    "\n",
    "# Normalize the data\n",
    "# X_train = (X_train - X_train.mean(axis=0)) / X_train.std(axis=0)\n",
    "# X_test = (X_test - X_test.mean(axis=0)) / X_test.std(axis=0)\n",
    "\n",
    "# Create a KNN regressor with 3 neighbors\n",
    "knn = KNeighborsRegressor(n_neighbors=3)\n",
    "\n",
    "# Train the regressor\n",
    "knn.fit(X_train, y_train)\n",
    "\n",
    "# Test the regressor\n",
    "y_pred = knn.predict(X_test)\n",
    "\n",
    "# Calculate the mean squared error\n",
    "mse = mean_squared_error(y_test, y_pred)\n",
    "\n",
    "print(f\"Mean Squared Error: {mse:.2f}\")\n",
    "\n",
    "# Input a test point to predict the target\n",
    "# This is a random test point. Replace it with a valid test point from your context.\n",
    "test_point = np.array([[0.03807591, 0.05068012, 0.06169621, 0.02187235, -0.0442235,\n",
    "                        -0.03482076, -0.04340085, -0.00259226, 0.0199071, -0.01764613]])\n",
    "\n",
    "# Predict the target of the test point\n",
    "predicted_target = knn.predict(test_point)\n",
    "\n",
    "print(f\"Predicted target: {predicted_target[0]:.2f}\")"
   ]
  },
  {
   "cell_type": "markdown",
   "metadata": {},
   "source": [
    "## Weighted knn"
   ]
  },
  {
   "cell_type": "code",
   "execution_count": 30,
   "metadata": {},
   "outputs": [
    {
     "name": "stdout",
     "output_type": "stream",
     "text": [
      "Accuracy for cityblock norm is 87.5\n",
      "Accuracy for euclidean norm is 82.5\n",
      "Accuracy for chebyshev norm is 87.5\n"
     ]
    }
   ],
   "source": [
    "import pandas as pd\n",
    "import numpy as np\n",
    "from scipy.spatial.distance import cdist\n",
    "\n",
    "data = pd.read_csv('knnData.csv')\n",
    "\n",
    "# If you want to use train_test_split on the question's data\n",
    "# X = df['feature1', 'feature2]\n",
    "# y = df['target variable']\n",
    "# X_train, X_test, y_train, y_test = train_test_split(X, y, test_size=0.2, random_state=42)\n",
    "\n",
    "train_x = np.array(data[['trainPoints_x1', 'trainPoints_x2']])\n",
    "train_y = np.array(data[['trainLabel']])\n",
    "test_x = np.array(data[['testPoints_x1', 'testPoints_x2']])\n",
    "test_y = np.array(data[['testLabel']])\n",
    "\n",
    "def myKnn(xTrain, yTrain, xTest, yTest, distMetric):\n",
    "    distArray = cdist(xTest, xTrain, distMetric) # The first row contains the distances of the first test from every train point\n",
    "    w = 1/(np.sort(distArray, axis = 1)**2)\n",
    "    idx = np.argsort(distArray, axis = 1)\n",
    "    nearTrain_y=train_y[idx[:,0:3]].reshape((40,3)) # output of the nearest 3 neighbors\n",
    "    pred = np.where(np.multiply(w[:,0:3],nearTrain_y).sum(axis = 1) < 0,  -1, 1)\n",
    "    pred = pred.reshape(40,1)\n",
    "    print('Accuracy for %s norm is' % distMetric, (pred == test_y).sum()/len(test_y)*100)\n",
    "\n",
    "\n",
    "myMetrics = ['cityblock','euclidean','chebyshev'] # L1, L2, L_inf respectively\n",
    "results = [myKnn(train_x, train_y, test_x, test_y, i) for i in myMetrics]"
   ]
  },
  {
   "cell_type": "markdown",
   "metadata": {},
   "source": []
  },
  {
   "cell_type": "code",
   "execution_count": null,
   "metadata": {},
   "outputs": [],
   "source": []
  },
  {
   "cell_type": "markdown",
   "metadata": {},
   "source": [
    "## Gaussian radial distance:"
   ]
  },
  {
   "cell_type": "code",
   "execution_count": 31,
   "metadata": {},
   "outputs": [
    {
     "data": {
      "text/plain": [
       "3.2574885322074285e-70"
      ]
     },
     "execution_count": 31,
     "metadata": {},
     "output_type": "execute_result"
    }
   ],
   "source": [
    "def gaussian_rbf(x, c, gamma):\n",
    "    return np.exp(-np.linalg.norm(x - c)**2 / r)\n",
    "\n",
    "# Example usage with sample vectors:\n",
    "# Define vectors x and c\n",
    "x_vector = np.array([1, 2])\n",
    "c_vector = np.array([3, 4])\n",
    "\n",
    "# Gamma value\n",
    "r = 0.05\n",
    "\n",
    "# Calculate the Gaussian RBF kernel with the sample vectors\n",
    "result = gaussian_rbf(x_vector, c_vector, r)\n",
    "result"
   ]
  },
  {
   "cell_type": "markdown",
   "metadata": {},
   "source": [
    "## Logistic Regression\n"
   ]
  },
  {
   "cell_type": "code",
   "execution_count": 32,
   "metadata": {},
   "outputs": [
    {
     "name": "stdout",
     "output_type": "stream",
     "text": [
      "Accuracy: 1.00\n",
      "Predicted class: setosa\n"
     ]
    },
    {
     "name": "stderr",
     "output_type": "stream",
     "text": [
      "c:\\Users\\kusha\\AppData\\Local\\Programs\\Python\\Python310\\lib\\site-packages\\sklearn\\linear_model\\_logistic.py:460: ConvergenceWarning: lbfgs failed to converge (status=1):\n",
      "STOP: TOTAL NO. of ITERATIONS REACHED LIMIT.\n",
      "\n",
      "Increase the number of iterations (max_iter) or scale the data as shown in:\n",
      "    https://scikit-learn.org/stable/modules/preprocessing.html\n",
      "Please also refer to the documentation for alternative solver options:\n",
      "    https://scikit-learn.org/stable/modules/linear_model.html#logistic-regression\n",
      "  n_iter_i = _check_optimize_result(\n"
     ]
    }
   ],
   "source": [
    "# Use built in dataset to perform logistic regression\n",
    "from sklearn.datasets import load_iris\n",
    "from sklearn.model_selection import train_test_split\n",
    "from sklearn.linear_model import LogisticRegression\n",
    "from sklearn.metrics import accuracy_score\n",
    "\n",
    "# Load the iris dataset\n",
    "iris = load_iris()\n",
    "\n",
    "X = iris.data\n",
    "y = iris.target\n",
    "\n",
    "# Split the data into training and testing sets\n",
    "X_train, X_test, y_train, y_test = train_test_split(X, y, test_size=0.2, random_state=42)\n",
    "\n",
    "# Create a logistic regression classifier\n",
    "log_reg = LogisticRegression()\n",
    "\n",
    "# Train the classifier\n",
    "log_reg.fit(X_train, y_train)\n",
    "\n",
    "# Test the classifier\n",
    "y_pred = log_reg.predict(X_test)\n",
    "\n",
    "# Calculate the accuracy\n",
    "accuracy = accuracy_score(y_test, y_pred)\n",
    "\n",
    "print(f\"Accuracy: {accuracy:.2f}\")\n",
    "\n",
    "# Input a test point to predict class\n",
    "test_point = np.array([[5.1, 3.5, 1.4, 0.2]])\n",
    "\n",
    "# Predict the class of the test point\n",
    "predicted_class = log_reg.predict(test_point)\n",
    "\n",
    "print(f\"Predicted class: {iris.target_names[predicted_class][0]}\")\n"
   ]
  },
  {
   "cell_type": "code",
   "execution_count": 43,
   "metadata": {},
   "outputs": [
    {
     "name": "stdout",
     "output_type": "stream",
     "text": [
      "[-0.33653443 -0.27662725  0.08593618 -0.33145513 -0.35223917]\n",
      "[ 3.61351366  2.99075058 -1.22373305  3.69013403  3.86761184]\n"
     ]
    }
   ],
   "source": [
    "# How to get gradient descent and cost function and weights for the above logistic regression example\n",
    "import numpy as np\n",
    "from sklearn.datasets import load_iris\n",
    "from sklearn.model_selection import train_test_split\n",
    "from sklearn.preprocessing import StandardScaler\n",
    "from sklearn.linear_model import LogisticRegression\n",
    "from sklearn.metrics import accuracy_score\n",
    "\n",
    "# Load the iris dataset\n",
    "iris = load_iris()\n",
    "X = iris.data\n",
    "y = iris.target\n",
    "\n",
    "# Split the data into training and testing sets\n",
    "X_train, X_test, y_train, y_test = train_test_split(X, y, test_size=0.2, random_state=42)\n",
    "\n",
    "# Standardize the data\n",
    "scaler = StandardScaler()\n",
    "X_train = scaler.fit_transform(X_train)\n",
    "X_test = scaler.transform(X_test)\n",
    "\n",
    "# Add a column of ones to the X_train and X_test\n",
    "X_train = np.hstack((np.ones((X_train.shape[0], 1)), X_train))\n",
    "X_test = np.hstack((np.ones((X_test.shape[0], 1)), X_test))\n",
    "\n",
    "# Initialize the weights\n",
    "weights = np.zeros(X_train.shape[1])\n",
    "\n",
    "# Set the learning rate and the number of iterations\n",
    "learning_rate = 0.01\n",
    "num_iterations = 1000\n",
    "\n",
    "# Perform gradient descent\n",
    "for i in range(num_iterations):\n",
    "    # Calculate the predicted probabilities\n",
    "    z = np.dot(X_train, weights)\n",
    "    predicted_probabilities = 1 / (1 + np.exp(-z))\n",
    "\n",
    "    # Calculate the gradient\n",
    "    gradient = np.dot(X_train.T, (predicted_probabilities - y_train)) / y_train.size\n",
    "\n",
    "    # Update the weights\n",
    "    weights -= learning_rate * gradient\n",
    "\n",
    "# Calculate the predicted probabilities for the test set\n",
    "z = np.dot(X_test, weights)\n",
    "predicted_probabilities = 1 / (1 + np.exp(-z))\n",
    "\n",
    "# Convert the predicted probabilities to class labels\n",
    "predicted_class = (predicted_probabilities >= 0.5).astype(int)\n",
    "\n",
    "# Calculate the accuracy\n",
    "# Reshape or transpose the arrays to ensure compatibility\n",
    "y_train = y_train.reshape(-1, 1)\n",
    "y_test = y_test.reshape(-1, 1)\n",
    "\n",
    "print(gradient) \n",
    "print(weights)"
   ]
  },
  {
   "attachments": {
    "image.png": {
     "image/png": "[encoded data removed]"
    }
   },
   "cell_type": "markdown",
   "metadata": {},
   "source": [
    "## Kmeans example - finding centroid\n",
    "![image.png](attachment:image.png)"
   ]
  },
  {
   "cell_type": "code",
   "execution_count": 2,
   "metadata": {},
   "outputs": [],
   "source": [
    "import numpy as np"
   ]
  },
  {
   "cell_type": "code",
   "execution_count": 3,
   "metadata": {},
   "outputs": [],
   "source": [
    "# x1,y1 -> class 1 (purple)\n",
    "# x2,y2 -> class 2 (yellow)\n",
    "\n",
    "# Finding centroids\n",
    "x1 = [3, 3, 4]\n",
    "y1 = [7, 6, 6]\n",
    "\n",
    "x2 = [5, 7, 7, 9]\n",
    "y2 = [6, 4, 4, 3]\n",
    "\n",
    "x1_centroid = np.mean(x1)\n",
    "y1_centroid = np.mean(y1)\n",
    "\n",
    "x2_centroid = np.mean(x2)\n",
    "y2_centroid = np.mean(y2)\n"
   ]
  },
  {
   "cell_type": "code",
   "execution_count": 5,
   "metadata": {},
   "outputs": [
    {
     "name": "stdout",
     "output_type": "stream",
     "text": [
      "3.3333333333333335 6.333333333333333\n",
      "7.0 4.25\n"
     ]
    },
    {
     "data": {
      "text/plain": [
       "(3.33, 6.33, 7.0, 4.25)"
      ]
     },
     "execution_count": 5,
     "metadata": {},
     "output_type": "execute_result"
    }
   ],
   "source": [
    "print(x1_centroid, y1_centroid) # purple\n",
    "print(x2_centroid, y2_centroid) # yellow\n",
    "\n",
    "round(x1_centroid, 2), round(y1_centroid, 2), round(x2_centroid, 2), round(y2_centroid, 2)"
   ]
  },
  {
   "cell_type": "markdown",
   "metadata": {},
   "source": [
    "## RBF with k centers:"
   ]
  },
  {
   "cell_type": "code",
   "execution_count": 44,
   "metadata": {},
   "outputs": [
    {
     "data": {
      "text/html": [
       "<div>\n",
       "<style scoped>\n",
       "    .dataframe tbody tr th:only-of-type {\n",
       "        vertical-align: middle;\n",
       "    }\n",
       "\n",
       "    .dataframe tbody tr th {\n",
       "        vertical-align: top;\n",
       "    }\n",
       "\n",
       "    .dataframe thead th {\n",
       "        text-align: right;\n",
       "    }\n",
       "</style>\n",
       "<table border=\"1\" class=\"dataframe\">\n",
       "  <thead>\n",
       "    <tr style=\"text-align: right;\">\n",
       "      <th></th>\n",
       "      <th>x1</th>\n",
       "      <th>x2</th>\n",
       "      <th>cls</th>\n",
       "    </tr>\n",
       "  </thead>\n",
       "  <tbody>\n",
       "    <tr>\n",
       "      <th>0</th>\n",
       "      <td>-2.427236</td>\n",
       "      <td>1.965984</td>\n",
       "      <td>1</td>\n",
       "    </tr>\n",
       "    <tr>\n",
       "      <th>1</th>\n",
       "      <td>2.382605</td>\n",
       "      <td>2.256614</td>\n",
       "      <td>0</td>\n",
       "    </tr>\n",
       "    <tr>\n",
       "      <th>2</th>\n",
       "      <td>-2.680668</td>\n",
       "      <td>2.379979</td>\n",
       "      <td>1</td>\n",
       "    </tr>\n",
       "    <tr>\n",
       "      <th>3</th>\n",
       "      <td>-2.620277</td>\n",
       "      <td>2.913823</td>\n",
       "      <td>0</td>\n",
       "    </tr>\n",
       "    <tr>\n",
       "      <th>4</th>\n",
       "      <td>1.513792</td>\n",
       "      <td>-2.312650</td>\n",
       "      <td>0</td>\n",
       "    </tr>\n",
       "  </tbody>\n",
       "</table>\n",
       "</div>"
      ],
      "text/plain": [
       "         x1        x2  cls\n",
       "0 -2.427236  1.965984    1\n",
       "1  2.382605  2.256614    0\n",
       "2 -2.680668  2.379979    1\n",
       "3 -2.620277  2.913823    0\n",
       "4  1.513792 -2.312650    0"
      ]
     },
     "execution_count": 44,
     "metadata": {},
     "output_type": "execute_result"
    }
   ],
   "source": [
    "df = pd.read_csv(\"rbfClassification.csv\")\n",
    "df.head()"
   ]
  },
  {
   "cell_type": "code",
   "execution_count": 45,
   "metadata": {},
   "outputs": [
    {
     "name": "stderr",
     "output_type": "stream",
     "text": [
      "c:\\Users\\kusha\\AppData\\Local\\Programs\\Python\\Python310\\lib\\site-packages\\sklearn\\cluster\\_kmeans.py:1416: FutureWarning: The default value of `n_init` will change from 10 to 'auto' in 1.4. Set the value of `n_init` explicitly to suppress the warning\n",
      "  super()._check_params_vs_input(X, default_n_init=10)\n"
     ]
    },
    {
     "name": "stdout",
     "output_type": "stream",
     "text": [
      "Cluster center: [-2.26014807  2.1265868 ]\n",
      "Cluster center: [ 1.30641042 -0.37348593]\n"
     ]
    }
   ],
   "source": [
    "from sklearn.cluster import KMeans\n",
    "\n",
    "# Assuming you have a dataframe called 'df' with the data\n",
    "# Select the features you want to use for clustering\n",
    "features = ['x1', 'x2']\n",
    "\n",
    "# Create an instance of KMeans with 2 clusters\n",
    "kmeans = KMeans(n_clusters=2)\n",
    "\n",
    "# Fit the data to the KMeans model\n",
    "kmeans.fit(df[features])\n",
    "\n",
    "# Get the coordinates of the cluster centers\n",
    "cluster_centers = kmeans.cluster_centers_\n",
    "\n",
    "# Print the coordinates of the cluster centers\n",
    "for center in cluster_centers:\n",
    "    print(f\"Cluster center: {center}\")\n"
   ]
  },
  {
   "cell_type": "code",
   "execution_count": 46,
   "metadata": {},
   "outputs": [
    {
     "name": "stdout",
     "output_type": "stream",
     "text": [
      "[1.15858194 0.21915424]\n",
      "Classification rate: 0.75\n"
     ]
    }
   ],
   "source": [
    "from numpy.linalg import pinv\n",
    "import numpy as np\n",
    "\n",
    "def design_matrix(X, mus, gamma):\n",
    "    # Construct the design matrix for RBF\n",
    "    N = X.shape[0]  # Number of data points\n",
    "    K = len(mus)    # Number of centers\n",
    "    Φ = np.zeros((N, K))\n",
    "    for i in range(N):\n",
    "        for k in range(K):\n",
    "            Φ[i, k] = np.exp(-gamma * np.linalg.norm(X[i] - mus[k])**2)\n",
    "    return Φ\n",
    "\n",
    "# Your input data points\n",
    "X = df[features].values\n",
    "\n",
    "# Your target outputs\n",
    "# Replace 'target' with the name of your target column\n",
    "Y = df['cls'].values\n",
    "\n",
    "# Your chosen RBF centers are the cluster centers from KMeans\n",
    "mus = kmeans.cluster_centers_\n",
    "\n",
    "# Your chosen gamma value\n",
    "gamma = 0.5\n",
    "\n",
    "# Calculate the design matrix\n",
    "Φ = design_matrix(X, mus, gamma)\n",
    "\n",
    "# Calculate the weights using the pseudo-inverse\n",
    "weights = pinv(Φ).dot(Y)\n",
    "\n",
    "print(weights)\n",
    "\n",
    "# Report the classification rate of the model\n",
    "# Your input data points\n",
    "X = df[features].values\n",
    "\n",
    "# Your target outputs\n",
    "# Replace 'target' with the name of your target column\n",
    "Y = df['cls'].values\n",
    "\n",
    "# Calculate the design matrix\n",
    "Φ = design_matrix(X, mus, gamma)\n",
    "\n",
    "# Calculate the predicted outputs\n",
    "Y_pred = Φ.dot(weights)\n",
    "\n",
    "# Calculate the classification rate\n",
    "classification_rate = np.mean(np.round(Y_pred) == Y)\n",
    "\n",
    "print(f\"Classification rate: {classification_rate:.2f}\")"
   ]
  },
  {
   "cell_type": "code",
   "execution_count": null,
   "metadata": {},
   "outputs": [],
   "source": [
    "print(Φ.shape)\n",
    "print(weights.shape)\n",
    "print(Y_pred.shape)"
   ]
  }
 ],
 "metadata": {
  "kernelspec": {
   "display_name": "Python 3",
   "language": "python",
   "name": "python3"
  },
  "language_info": {
   "codemirror_mode": {
    "name": "ipython",
    "version": 3
   },
   "file_extension": ".py",
   "mimetype": "text/x-python",
   "name": "python",
   "nbconvert_exporter": "python",
   "pygments_lexer": "ipython3",
   "version": "3.10.8"
  }
 },
 "nbformat": 4,
 "nbformat_minor": 2
}
