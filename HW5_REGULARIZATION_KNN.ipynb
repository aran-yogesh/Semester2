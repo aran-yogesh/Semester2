{
 "cells": [
  {
   "cell_type": "code",
   "execution_count": null,
   "metadata": {},
   "outputs": [],
   "source": []
  },
  {
   "cell_type": "markdown",
   "metadata": {},
   "source": [
    "Assignment 5\n",
    "Validation and Regularization\n",
    "Libraries"
   ]
  },
  {
   "cell_type": "code",
   "execution_count": null,
   "metadata": {},
   "outputs": [],
   "source": [
    "import pandas as pd\n",
    "import numpy as np\n",
    "from sklearn.neighbors import KNeighborsClassifier\n",
    "from sklearn.metrics import accuracy_score\n",
    "import plotly.express as px\n",
    "from sklearn.preprocessing import MinMaxScaler\n",
    "\n",
    "np.random.seed(42)"
   ]
  },
  {
   "cell_type": "code",
   "execution_count": null,
   "metadata": {},
   "outputs": [],
   "source": [
    "htrain=pd.read_csv('healthcareTrain.csv')\n",
    "htest=pd.read_csv('healthcareTest.csv')"
   ]
  },
  {
   "cell_type": "code",
   "execution_count": null,
   "metadata": {},
   "outputs": [],
   "source": [
    "htrain.head(5)\n"
   ]
  },
  {
   "cell_type": "code",
   "execution_count": null,
   "metadata": {},
   "outputs": [],
   "source": [
    "htest.head(5)\n"
   ]
  },
  {
   "cell_type": "markdown",
   "metadata": {},
   "source": [
    "Part 1"
   ]
  },
  {
   "cell_type": "code",
   "execution_count": null,
   "metadata": {},
   "outputs": [],
   "source": [
    "import warnings\n",
    "warnings.filterwarnings('ignore')\n",
    "accDf=pd.DataFrame()\n",
    "\n",
    "df=htrain[[\"total_los\",\"num_op\",\"num_er\",\"num_ndc\",\"pre_total_cost\", \"pre_CCI\",\"pdc_80_flag\"]]\n",
    "#Scale the input features\n",
    "sc = MinMaxScaler()\n",
    "df.iloc[:, :-1]= sc.fit_transform(df.iloc[:, :-1])\n",
    "#trainn = (trainn - trainn.min()) / (trainn.max() - trainn.min())\n",
    "\n",
    "k = 10\n",
    "kFoldsDf = np.array_split(df, k)\n",
    "\n",
    "for i in range(k):\n",
    "    # Save a copy, to be modified for each iteration.\n",
    "    trainDf = kFoldsDf.copy() \n",
    "    # Set aside the ith fold for validation.\n",
    "    valDf = trainDf[i]\n",
    "    # Delete the validation fold from training, for this training session\n",
    "    del(trainDf[i])\n",
    "    # Concatenate the remaining folds into one, for this training session \n",
    "    trainDf = pd.concat(trainDf, sort=False)\n",
    "    train_X = trainDf.iloc[:,:-1]\n",
    "    train_y = trainDf.iloc[:,-1]\n",
    "    val_X = valDf.iloc[:,:-1]\n",
    "    val_y = valDf.iloc[:,-1]\n",
    "\n",
    "    kn_range=np.arange(31,103,2)\n",
    "    for kn in kn_range:\n",
    "        model = KNeighborsClassifier(n_neighbors=kn,p=2)\n",
    "        model.fit(train_X, train_y)\n",
    "        # accDf gets filled row by row. First row is the accuracy of the first fold from 31NN to 103NN.\n",
    "        #Every row in accDf corresponds to a fold. Every column in accDf corresponds to a the number of neighbors (kn).\n",
    "        accDf.loc[i,str(kn)+'NN']=accuracy_score(val_y,model.predict(val_X))\n",
    "\n",
    "accDf"
   ]
  },
  {
   "cell_type": "code",
   "execution_count": null,
   "metadata": {},
   "outputs": [],
   "source": [
    "cv_accDf = pd.DataFrame(np.round(accDf.mean(axis='rows'),4))\n",
    "cv_accDf.columns = ['CV Accuracy']\n",
    "print('Cross Validation Accuracy for different number of neighbors are:\\n', cv_accDf)"
   ]
  },
  {
   "cell_type": "markdown",
   "metadata": {},
   "source": [
    "Part 2"
   ]
  },
  {
   "cell_type": "code",
   "execution_count": null,
   "metadata": {},
   "outputs": [],
   "source": [
    "fig = px.line(cv_accDf, x=np.arange(31,103,2), y='CV Accuracy', markers = 'True')\n",
    "fig.update_layout(xaxis_title = 'Number of neighbors (K)')\n",
    "fig.show()"
   ]
  },
  {
   "cell_type": "markdown",
   "metadata": {},
   "source": [
    "Part 3"
   ]
  },
  {
   "cell_type": "code",
   "execution_count": null,
   "metadata": {},
   "outputs": [],
   "source": [
    "train_XX=htrain[[\"total_los\",\"num_op\",\"num_er\",\"num_ndc\",\"pre_total_cost\", \"pre_CCI\"]]\n",
    "train_yy=htrain['pdc_80_flag']\n",
    "\n",
    "test_XX=htest[[\"total_los\",\"num_op\",\"num_er\",\"num_ndc\",\"pre_total_cost\", \"pre_CCI\"]]\n",
    "test_yy=htest['pdc_80_flag']\n",
    "\n",
    "norm=MinMaxScaler()\n",
    "train_XX = norm.fit_transform(train_XX)\n",
    "test_XX=norm.transform(test_XX)\n",
    "\n",
    "model2 = KNeighborsClassifier(n_neighbors=31,p=2)\n",
    "model2.fit(train_XX, train_yy)\n",
    "pred_yy = model2.predict(test_XX)\n",
    "acc2=accuracy_score(test_yy,pred_yy)\n",
    "print(\"Accuracy:\",acc2,\"(\",round((acc2)*100,2),\"%\",\").\")"
   ]
  },
  {
   "cell_type": "code",
   "execution_count": null,
   "metadata": {},
   "outputs": [],
   "source": [
    "validation_error=1-best_acc\n",
    "test_eror=1-acc2"
   ]
  },
  {
   "cell_type": "markdown",
   "metadata": {},
   "source": [
    "Comparison\n",
    "Accuracy - Error DataFrame"
   ]
  },
  {
   "cell_type": "code",
   "execution_count": null,
   "metadata": {},
   "outputs": [],
   "source": [
    "acc_err_df=pd.DataFrame({\"Set\":[\"Validation\",\"Test\"],\n",
    "                        \"Accuracy\":[round(cv_accDf['CV Accuracy'].max(),3),round(acc2,3)],\n",
    "                        })\n",
    "acc_err_df\n"
   ]
  },
  {
   "cell_type": "code",
   "execution_count": null,
   "metadata": {},
   "outputs": [],
   "source": []
  },
  {
   "cell_type": "code",
   "execution_count": null,
   "metadata": {},
   "outputs": [],
   "source": []
  }
 ],
 "metadata": {
  "language_info": {
   "name": "python"
  }
 },
 "nbformat": 4,
 "nbformat_minor": 2
}
