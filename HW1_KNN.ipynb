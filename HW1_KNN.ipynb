{
 "cells": [
  {
   "cell_type": "code",
   "execution_count": null,
   "metadata": {},
   "outputs": [],
   "source": [
    "import pandas as pd\n",
    "import numpy as np\n",
    "from scipy.spatial.distance import cdist"
   ]
  },
  {
   "cell_type": "code",
   "execution_count": null,
   "metadata": {},
   "outputs": [],
   "source": [
    "data = pd.read_csv('knnData.csv')\n",
    "data.describe()"
   ]
  },
  {
   "cell_type": "code",
   "execution_count": null,
   "metadata": {},
   "outputs": [],
   "source": [
    "train_x = np.array(data[['trainPoints_x1', 'trainPoints_x2']])\n",
    "train_y = np.array(data[['trainLabel']])\n",
    "test_x = np.array(data[['testPoints_x1', 'testPoints_x2']])\n",
    "test_y = np.array(data[['testLabel']])"
   ]
  },
  {
   "cell_type": "code",
   "execution_count": null,
   "metadata": {},
   "outputs": [],
   "source": [
    "def myKnn(xTrain, yTrain, xTest, yTest, distMetric):\n",
    "    distArray = cdist(xTest, xTrain, distMetric) # The first row contains the distances of the first test from every train point\n",
    "    w = 1/(np.sort(distArray, axis = 1)**2)\n",
    "    idx = np.argsort(distArray, axis = 1)\n",
    "    nearTrain_y=yTrain[idx[:,0:3]].reshape((40,3)) # output of the nearest 3 neighbors\n",
    "    pred = np.where(np.multiply(w[:,0:3],nearTrain_y).sum(axis = 1) < 0,  -1, 1)\n",
    "    pred = pred.reshape(40,1)\n",
    "    print('Accuracy for %s norm is' % distMetric, (pred == test_y).sum()/len(test_y)*100)"
   ]
  },
  {
   "cell_type": "code",
   "execution_count": null,
   "metadata": {},
   "outputs": [],
   "source": [
    "myMetrics = ['cityblock','euclidean','chebyshev']\n",
    "results = [myKnn(train_x, train_y, test_x, test_y, i) for i in myMetrics]"
   ]
  },
  {
   "cell_type": "code",
   "execution_count": null,
   "metadata": {},
   "outputs": [],
   "source": []
  },
  {
   "cell_type": "code",
   "execution_count": null,
   "metadata": {},
   "outputs": [],
   "source": []
  },
  {
   "cell_type": "code",
   "execution_count": null,
   "metadata": {},
   "outputs": [],
   "source": []
  },
  {
   "cell_type": "code",
   "execution_count": null,
   "metadata": {},
   "outputs": [],
   "source": []
  },
  {
   "cell_type": "code",
   "execution_count": null,
   "metadata": {},
   "outputs": [],
   "source": []
  },
  {
   "cell_type": "code",
   "execution_count": null,
   "metadata": {},
   "outputs": [],
   "source": []
  },
  {
   "cell_type": "code",
   "execution_count": null,
   "metadata": {},
   "outputs": [],
   "source": []
  },
  {
   "cell_type": "code",
   "execution_count": null,
   "metadata": {},
   "outputs": [],
   "source": []
  },
  {
   "cell_type": "code",
   "execution_count": null,
   "metadata": {},
   "outputs": [],
   "source": []
  },
  {
   "cell_type": "code",
   "execution_count": 1,
   "metadata": {},
   "outputs": [
    {
     "name": "stdout",
     "output_type": "stream",
     "text": [
      "Mean Squared Error for Constant Model: 1.625\n",
      "Mean Squared Error for Linear Model: 1.6378703703703745\n",
      "Constant model is preferred.\n"
     ]
    }
   ],
   "source": [
    "import numpy as np\n",
    "\n",
    "# Given data points\n",
    "data_points = [(1, 3), (4, 3.5), (6, 5)]\n",
    "\n",
    "# Function to calculate mean squared error\n",
    "def mse(y_true, y_pred):\n",
    "    return np.mean((y_true - y_pred)**2)\n",
    "\n",
    "# Constant model: y = c\n",
    "def constant_model(x, c):\n",
    "    return c\n",
    "\n",
    "# Linear model: y = mx + b\n",
    "def linear_model(x, m, b):\n",
    "    return m * x + b\n",
    "\n",
    "# Perform leave-one-out cross-validation for constant model\n",
    "constant_mse = []\n",
    "for i in range(len(data_points)):\n",
    "    x_train = [point[0] for j, point in enumerate(data_points) if j != i]\n",
    "    y_train = [point[1] for j, point in enumerate(data_points) if j != i]\n",
    "    x_test, y_test = data_points[i]\n",
    "    c = np.mean(y_train)  # Constant value is the mean of y_train\n",
    "    y_pred = constant_model(x_test, c)\n",
    "    constant_mse.append(mse(y_test, y_pred))\n",
    "\n",
    "# Perform leave-one-out cross-validation for linear model\n",
    "linear_mse = []\n",
    "for i in range(len(data_points)):\n",
    "    x_train = [point[0] for j, point in enumerate(data_points) if j != i]\n",
    "    y_train = [point[1] for j, point in enumerate(data_points) if j != i]\n",
    "    x_test, y_test = data_points[i]\n",
    "    # Fit a linear model (y = mx + b) using least squares\n",
    "    A = np.vstack([x_train, np.ones(len(x_train))]).T\n",
    "    m, b = np.linalg.lstsq(A, y_train, rcond=None)[0]\n",
    "    y_pred = linear_model(x_test, m, b)\n",
    "    linear_mse.append(mse(y_test, y_pred))\n",
    "\n",
    "# Compare mean squared errors\n",
    "avg_constant_mse = np.mean(constant_mse)\n",
    "avg_linear_mse = np.mean(linear_mse)\n",
    "\n",
    "print(\"Mean Squared Error for Constant Model:\", avg_constant_mse)\n",
    "print(\"Mean Squared Error for Linear Model:\", avg_linear_mse)\n",
    "\n",
    "if avg_constant_mse < avg_linear_mse:\n",
    "    print(\"Constant model is preferred.\")\n",
    "elif avg_constant_mse > avg_linear_mse:\n",
    "    print(\"Linear model is preferred.\")\n",
    "else:\n",
    "    print(\"Both models perform equally well.\")"
   ]
  },
  {
   "cell_type": "code",
   "execution_count": null,
   "metadata": {},
   "outputs": [],
   "source": []
  }
 ],
 "metadata": {
  "kernelspec": {
   "display_name": "base",
   "language": "python",
   "name": "python3"
  },
  "language_info": {
   "codemirror_mode": {
    "name": "ipython",
    "version": 3
   },
   "file_extension": ".py",
   "mimetype": "text/x-python",
   "name": "python",
   "nbconvert_exporter": "python",
   "pygments_lexer": "ipython3",
   "version": "3.11.4"
  }
 },
 "nbformat": 4,
 "nbformat_minor": 2
}
