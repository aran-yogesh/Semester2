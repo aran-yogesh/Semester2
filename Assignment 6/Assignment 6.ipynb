{
 "cells": [
  {
   "cell_type": "code",
   "execution_count": 18,
   "id": "e8c13b45-0aac-4aba-aac3-d3b2a1ae5f22",
   "metadata": {},
   "outputs": [],
   "source": [
    "import requests\n",
    "import pandas as pd\n",
    "import plotly.express as px\n",
    "import plotly.graph_objects as go\n",
    "from ipywidgets import widgets\n",
    "from IPython.display import display"
   ]
  },
  {
   "cell_type": "code",
   "execution_count": 19,
   "id": "7a355286-f8c4-4b10-a9bc-8aaa384b3686",
   "metadata": {},
   "outputs": [],
   "source": [
    "client_id = \"42766bfbd4ed4d179f316504c0141132\"\n",
    "client_secret_id = \"e5476fa1440e49fdb3ec30a4f3d0357b\""
   ]
  },
  {
   "cell_type": "code",
   "execution_count": 29,
   "id": "aeff0f83-c977-4457-ad40-e5a1f0c60a98",
   "metadata": {},
   "outputs": [],
   "source": [
    "def get_access_token():\n",
    "    url = \"https://accounts.spotify.com/api/token\"\n",
    "    headers = {\"Content-Type\": \"application/x-www-form-urlencoded\"}\n",
    "    data = {\"grant_type\": \"client_credentials\", \"client_id\": client_id, \"client_secret\": client_secret_id}\n",
    "    response = requests.post(url, headers=headers, data=data)\n",
    "    return response.json()[\"access_token\"]\n",
    "\n",
    "access_token = get_access_token()\n",
    "head = {\"Authorization\": f\"Bearer {access_token}\"}\n",
    "\n",
    "#i took help with chatgpt for this "
   ]
  },
  {
   "cell_type": "markdown",
   "id": "df1a9f5b-803f-4f7f-9fc5-d88906b6e39a",
   "metadata": {},
   "source": [
    "With this access token from Spotify so we can make API requests."
   ]
  },
  {
   "cell_type": "code",
   "execution_count": 30,
   "id": "bebcab1b-efef-447c-9d45-1c040102a37c",
   "metadata": {},
   "outputs": [],
   "source": [
    "def get_artist_id(artist_name):\n",
    "    url = f\"https://api.spotify.com/v1/search?q={artist_name.replace(' ', '%20')}&type=artist\"\n",
    "    response = requests.get(url, headers=head).json()\n",
    "    return response[\"artists\"][\"items\"][0][\"id\"] if response[\"artists\"][\"items\"] else None\n",
    "\n",
    "artist_name = \"Santhosh Narayanan\"  \n",
    "artist_id = get_artist_id(artist_name)\n",
    "\n",
    "#i took help with chatgpt for this "
   ]
  },
  {
   "cell_type": "markdown",
   "id": "519ff2d1-123b-4fe9-b0db-a1e52e3b89f2",
   "metadata": {},
   "source": [
    "this gets the artist’s unique Spotify ID by searching their name"
   ]
  },
  {
   "cell_type": "code",
   "execution_count": 31,
   "id": "820ec947-bb40-4341-aefb-8fa41bb6644d",
   "metadata": {},
   "outputs": [],
   "source": [
    "def get_albums(artist_id):\n",
    "    url = f\"https://api.spotify.com/v1/artists/{artist_id}/albums?include_groups=album&limit=50\"\n",
    "    response = requests.get(url, headers=head).json()\n",
    "    return [(album[\"id\"], album[\"name\"]) for album in response[\"items\"]]\n",
    "\n",
    "albums = get_albums(artist_id)"
   ]
  },
  {
   "cell_type": "code",
   "execution_count": 38,
   "id": "0cb45a01-1bc9-4805-a861-d6d912dbc810",
   "metadata": {},
   "outputs": [],
   "source": [
    "def get_tracks(album_id, album_name):\n",
    "    url = f\"https://api.spotify.com/v1/albums/{album_id}/tracks\"\n",
    "    response = requests.get(url, headers=head).json()\n",
    "    tracks = []\n",
    "    \n",
    "    for track in response.get(\"items\", []):\n",
    "        track_id = track.get(\"id\")\n",
    "        track_name = track.get(\"name\")\n",
    "        \n",
    "        if not track_id:\n",
    "            continue\n",
    "\n",
    "        popularity_url = f\"https://api.spotify.com/v1/tracks/{track_id}\"\n",
    "        track_response = requests.get(popularity_url, headers=head).json()\n",
    "        popularity = track_response.get(\"popularity\", 0)  # Default to 0 if missing\n",
    "        \n",
    "        tracks.append((track_name, album_name, popularity))\n",
    "    \n",
    "    return tracks\n",
    "\n",
    "#i took help with chatgpt for this "
   ]
  },
  {
   "cell_type": "code",
   "execution_count": 33,
   "id": "a12c7658-299d-467b-81f5-1e81e8d696a6",
   "metadata": {},
   "outputs": [],
   "source": [
    "all_tracks = []\n",
    "for album_id, album_name in albums:\n",
    "    all_tracks.extend(get_tracks(album_id, album_name))\n",
    "\n",
    "df = pd.DataFrame(all_tracks, columns=[\"Track\", \"Album\", \"Popularity\"])\n",
    "\n",
    "df = df.sort_values(by=\"Popularity\", ascending=False)\n",
    "df_top10 = df.groupby(\"Album\").head(10)"
   ]
  },
  {
   "cell_type": "code",
   "execution_count": 34,
   "id": "3d18a5ee-1bef-49d7-8868-178a1f95e351",
   "metadata": {},
   "outputs": [],
   "source": [
    "def create_bar_chart(album_name=\"All\"):\n",
    "    df_filtered = df_top10 if album_name == \"All\" else df_top10[df_top10[\"Album\"] == album_name]\n",
    "    df_filtered = df_filtered.sort_values(by=\"Popularity\", ascending=False)\n",
    "    colors = [\"blue\" if i < 3 else \"gray\" for i in range(len(df_filtered))]\n",
    "    \n",
    "    fig = go.Figure()\n",
    "    fig.add_trace(go.Bar(\n",
    "        x=df_filtered[\"Track\"],\n",
    "        y=df_filtered[\"Popularity\"],\n",
    "        text=df_filtered[\"Popularity\"],\n",
    "        textposition=\"inside\",\n",
    "        marker_color=colors,\n",
    "        hovertext=df_filtered.apply(lambda row: f\"Track: {row['Track']}<br>Popularity: {row['Popularity']}\", axis=1),\n",
    "        hoverinfo=\"text\"\n",
    "    ))\n",
    "    \n",
    "    fig.update_layout(\n",
    "        title=f\"Top 10 Tracks - {album_name}\",\n",
    "        xaxis_title=\"Track Name\",\n",
    "        yaxis_title=\"Popularity\",\n",
    "        xaxis_tickangle=-45\n",
    "    )\n",
    "    return fig\n"
   ]
  },
  {
   "cell_type": "code",
   "execution_count": 39,
   "id": "7d794712-df22-4321-92f9-eccd73f3fa42",
   "metadata": {},
   "outputs": [
    {
     "data": {
      "application/vnd.jupyter.widget-view+json": {
       "model_id": "2fe4356a70b347659172625cb5a736ff",
       "version_major": 2,
       "version_minor": 0
      },
      "text/plain": [
       "Dropdown(description='Album:', options=('All', '+', '+-=÷× (Tour Collection)', '+-=÷× (Tour Collection: Live)'…"
      ]
     },
     "metadata": {},
     "output_type": "display_data"
    },
    {
     "data": {
      "application/vnd.plotly.v1+json": {
       "config": {
        "plotlyServerURL": "https://plot.ly"
       },
       "data": [
        {
         "hoverinfo": "text",
         "hovertext": [
          "Track: Shape of You<br>Popularity: 87",
          "Track: Perfect<br>Popularity: 87",
          "Track: Photograph<br>Popularity: 86",
          "Track: Shivers<br>Popularity: 83",
          "Track: Thinking out Loud<br>Popularity: 82",
          "Track: Bad Habits<br>Popularity: 80",
          "Track: Castle on the Hill<br>Popularity: 78",
          "Track: Galway Girl<br>Popularity: 78",
          "Track: I Don't Care (with Justin Bieber)<br>Popularity: 76",
          "Track: Happier<br>Popularity: 75",
          "Track: Supermarket Flowers<br>Popularity: 73",
          "Track: Eyes Closed<br>Popularity: 72",
          "Track: Dive<br>Popularity: 72",
          "Track: South of the Border (feat. Camila Cabello & Cardi B)<br>Popularity: 71",
          "Track: Beautiful People (feat. Khalid)<br>Popularity: 70",
          "Track: Lego House<br>Popularity: 70",
          "Track: Don't<br>Popularity: 70",
          "Track: Photograph<br>Popularity: 70",
          "Track: Give Me Love<br>Popularity: 68",
          "Track: I See Fire<br>Popularity: 68",
          "Track: Tenerife Sea<br>Popularity: 67",
          "Track: Thinking out Loud<br>Popularity: 67",
          "Track: Sing<br>Popularity: 67",
          "Track: Overpass Graffiti<br>Popularity: 66",
          "Track: Kiss Me<br>Popularity: 66",
          "Track: Visiting Hours<br>Popularity: 66",
          "Track: The A Team<br>Popularity: 65",
          "Track: Remember The Name (feat. Eminem & 50 Cent)<br>Popularity: 65",
          "Track: Nancy Mulligan<br>Popularity: 64",
          "Track: What Do I Know?<br>Popularity: 64",
          "Track: 2step<br>Popularity: 63",
          "Track: How Would You Feel (Paean)<br>Popularity: 63",
          "Track: Bloodstream<br>Popularity: 62",
          "Track: All of the Stars<br>Popularity: 62",
          "Track: Take Me Back to London (feat. Stormzy)<br>Popularity: 61",
          "Track: Antisocial (with Travis Scott)<br>Popularity: 60",
          "Track: Drunk<br>Popularity: 60",
          "Track: Don't<br>Popularity: 59",
          "Track: American Town<br>Popularity: 59",
          "Track: Curtains<br>Popularity: 59",
          "Track: First Times<br>Popularity: 59",
          "Track: I'm a Mess<br>Popularity: 59",
          "Track: Boat<br>Popularity: 58",
          "Track: One<br>Popularity: 58",
          "Track: You Need Me, I Don't Need You<br>Popularity: 58",
          "Track: Cross Me (feat. Chance the Rapper & PnB Rock)<br>Popularity: 58",
          "Track: Small Bump<br>Popularity: 58",
          "Track: Put It All on Me (feat. Ella Mai)<br>Popularity: 58",
          "Track: Best Part of Me (feat. YEBBA)<br>Popularity: 58",
          "Track: BLOW (with Chris Stapleton & Bruno Mars)<br>Popularity: 57",
          "Track: End Of Youth<br>Popularity: 56",
          "Track: Life Goes On<br>Popularity: 56",
          "Track: Tides<br>Popularity: 55",
          "Track: Afire Love<br>Popularity: 55",
          "Track: Collide<br>Popularity: 55",
          "Track: The Hills of Aberfeldy<br>Popularity: 54",
          "Track: Runaway<br>Popularity: 54",
          "Track: Vega<br>Popularity: 53",
          "Track: Magical<br>Popularity: 53",
          "Track: Love In Slow Motion<br>Popularity: 53",
          "Track: Tenerife Sea<br>Popularity: 53",
          "Track: Dusty<br>Popularity: 52",
          "Track: Colourblind<br>Popularity: 52",
          "Track: Stop The Rain<br>Popularity: 52",
          "Track: Salt Water<br>Popularity: 52",
          "Track: Autumn Leaves - Deluxe Edition<br>Popularity: 52",
          "Track: All of the Stars<br>Popularity: 51",
          "Track: The Joker And The Queen (feat. Taylor Swift)<br>Popularity: 51",
          "Track: One Life<br>Popularity: 51",
          "Track: Blue<br>Popularity: 50",
          "Track: Wake Me Up<br>Popularity: 50",
          "Track: U.N.I.<br>Popularity: 50",
          "Track: Afterglow<br>Popularity: 50",
          "Track: Shivers - Live<br>Popularity: 47",
          "Track: Castle on the Hill - Live<br>Popularity: 47",
          "Track: Cold Coffee<br>Popularity: 47",
          "Track: 2step (feat. Lil Baby)<br>Popularity: 47",
          "Track: Sing<br>Popularity: 47",
          "Track: Tides - Live<br>Popularity: 46",
          "Track: Don't/Nina Medley - Live<br>Popularity: 46",
          "Track: I See Fire - Live<br>Popularity: 45",
          "Track: The A Team - Live<br>Popularity: 45",
          "Track: Lego House - Live<br>Popularity: 44",
          "Track: Dive - Live<br>Popularity: 44",
          "Track: Eyes Closed - Live<br>Popularity: 44",
          "Track: Give Me Love<br>Popularity: 44",
          "Track: BLOW - Live<br>Popularity: 44",
          "Track: One<br>Popularity: 43",
          "Track: Plastic Bag<br>Popularity: 42",
          "Track: That’s On Me<br>Popularity: 41",
          "Track: Amazing<br>Popularity: 41",
          "Track: Punchline<br>Popularity: 41",
          "Track: Spring<br>Popularity: 41",
          "Track: She<br>Popularity: 41",
          "Track: Bloodstream<br>Popularity: 40",
          "Track: Firefly<br>Popularity: 40",
          "Track: England<br>Popularity: 40",
          "Track: Page<br>Popularity: 39",
          "Track: American Town<br>Popularity: 39",
          "Track: I'm a Mess<br>Popularity: 38",
          "Track: One Night<br>Popularity: 38",
          "Track: Little Lady (feat. Mikill Pane)<br>Popularity: 38",
          "Track: Fall<br>Popularity: 38",
          "Track: So<br>Popularity: 38",
          "Track: Touch and Go<br>Popularity: 38",
          "Track: 2step (feat. Leto)<br>Popularity: 37",
          "Track: Let It Out<br>Popularity: 37",
          "Track: Firefly<br>Popularity: 37",
          "Track: The A Team<br>Popularity: 37",
          "Track: Sunburn<br>Popularity: 36",
          "Track: Be Like You<br>Popularity: 36",
          "Track: Where We Land<br>Popularity: 36",
          "Track: Magical<br>Popularity: 36",
          "Track: Lego House<br>Popularity: 35",
          "Track: Little Bird<br>Popularity: 35",
          "Track: I Don't Care<br>Popularity: 35",
          "Track: I Will Remember You<br>Popularity: 35",
          "Track: Penguins<br>Popularity: 35",
          "Track: Don't<br>Popularity: 35",
          "Track: Galway Girl<br>Popularity: 34",
          "Track: 2step (feat. 1.Cuz)<br>Popularity: 34",
          "Track: 2step (feat. Quevedo)<br>Popularity: 34",
          "Track: Homeless<br>Popularity: 34",
          "Track: Don't<br>Popularity: 34",
          "Track: Little Bird<br>Popularity: 34",
          "Track: Photograph<br>Popularity: 34",
          "Track: Photograph<br>Popularity: 34",
          "Track: Shape of You<br>Popularity: 34",
          "Track: One<br>Popularity: 34",
          "Track: You Need Me, I Don't Need You<br>Popularity: 34",
          "Track: Thinking out Loud<br>Popularity: 34",
          "Track: Sofa<br>Popularity: 33",
          "Track: Blue<br>Popularity: 33",
          "Track: Tenerife Sea<br>Popularity: 33",
          "Track: Radio (feat. JME)<br>Popularity: 33",
          "Track: Thinking out Loud<br>Popularity: 33",
          "Track: Sing<br>Popularity: 33",
          "Track: Plastic Bag<br>Popularity: 33",
          "Track: Lately (feat. Devlin)<br>Popularity: 32",
          "Track: I'm a Mess<br>Popularity: 32",
          "Track: That’s On Me<br>Popularity: 32",
          "Track: Sing<br>Popularity: 32",
          "Track: Amazing<br>Popularity: 32",
          "Track: Bloodstream<br>Popularity: 32",
          "Track: England<br>Popularity: 31",
          "Track: Shivers<br>Popularity: 31",
          "Track: Welcome To The World<br>Popularity: 31",
          "Track: 2step (feat. Antytila)<br>Popularity: 31",
          "Track: 2step (feat. Ultimo)<br>Popularity: 31",
          "Track: Spring<br>Popularity: 31",
          "Track: Wake Me Up - Live at the Bedford<br>Popularity: 30",
          "Track: Family (feat. P Money)<br>Popularity: 30",
          "Track: 2step (feat. Armaan Malik)<br>Popularity: 30",
          "Track: Punchline<br>Popularity: 30",
          "Track: Page<br>Popularity: 30",
          "Track: You (feat. Wiley)<br>Popularity: 30",
          "Track: 2step (feat. Budjerah)<br>Popularity: 29",
          "Track: Bad Habits<br>Popularity: 29",
          "Track: You Need Me, I Don't Need You - Live at the Bedford<br>Popularity: 29",
          "Track: 2step (feat. Chefin)<br>Popularity: 28",
          "Track: Overpass Graffiti<br>Popularity: 28",
          "Track: Nightmares (feat. Random Impulse, Sway & Wretch 32)<br>Popularity: 28",
          "Track: The City - Live at Sticky Studios; Loose Change EP<br>Popularity: 28",
          "Track: 2step (feat. Potter Payper)<br>Popularity: 28",
          "Track: First Times<br>Popularity: 27",
          "Track: The A Team - Live at the Bedford<br>Popularity: 27",
          "Track: Drown Me Out (feat. Ghetts) - + Ghetts<br>Popularity: 27",
          "Track: Goodbye to You (feat. Dot Rotten)<br>Popularity: 27",
          "Track: Fall - Live at the Bedford<br>Popularity: 25",
          "Track: Homeless - Live at the Bedford<br>Popularity: 25",
          "Track: Firefly - Bravado Dubstep Remix<br>Popularity: 24",
          "Track: The City - Live at the Bedford<br>Popularity: 23"
         ],
         "marker": {
          "color": [
           "blue",
           "blue",
           "blue",
           "gray",
           "gray",
           "gray",
           "gray",
           "gray",
           "gray",
           "gray",
           "gray",
           "gray",
           "gray",
           "gray",
           "gray",
           "gray",
           "gray",
           "gray",
           "gray",
           "gray",
           "gray",
           "gray",
           "gray",
           "gray",
           "gray",
           "gray",
           "gray",
           "gray",
           "gray",
           "gray",
           "gray",
           "gray",
           "gray",
           "gray",
           "gray",
           "gray",
           "gray",
           "gray",
           "gray",
           "gray",
           "gray",
           "gray",
           "gray",
           "gray",
           "gray",
           "gray",
           "gray",
           "gray",
           "gray",
           "gray",
           "gray",
           "gray",
           "gray",
           "gray",
           "gray",
           "gray",
           "gray",
           "gray",
           "gray",
           "gray",
           "gray",
           "gray",
           "gray",
           "gray",
           "gray",
           "gray",
           "gray",
           "gray",
           "gray",
           "gray",
           "gray",
           "gray",
           "gray",
           "gray",
           "gray",
           "gray",
           "gray",
           "gray",
           "gray",
           "gray",
           "gray",
           "gray",
           "gray",
           "gray",
           "gray",
           "gray",
           "gray",
           "gray",
           "gray",
           "gray",
           "gray",
           "gray",
           "gray",
           "gray",
           "gray",
           "gray",
           "gray",
           "gray",
           "gray",
           "gray",
           "gray",
           "gray",
           "gray",
           "gray",
           "gray",
           "gray",
           "gray",
           "gray",
           "gray",
           "gray",
           "gray",
           "gray",
           "gray",
           "gray",
           "gray",
           "gray",
           "gray",
           "gray",
           "gray",
           "gray",
           "gray",
           "gray",
           "gray",
           "gray",
           "gray",
           "gray",
           "gray",
           "gray",
           "gray",
           "gray",
           "gray",
           "gray",
           "gray",
           "gray",
           "gray",
           "gray",
           "gray",
           "gray",
           "gray",
           "gray",
           "gray",
           "gray",
           "gray",
           "gray",
           "gray",
           "gray",
           "gray",
           "gray",
           "gray",
           "gray",
           "gray",
           "gray",
           "gray",
           "gray",
           "gray",
           "gray",
           "gray",
           "gray",
           "gray",
           "gray",
           "gray",
           "gray",
           "gray",
           "gray",
           "gray",
           "gray",
           "gray",
           "gray",
           "gray",
           "gray",
           "gray",
           "gray"
          ]
         },
         "text": [
          87,
          87,
          86,
          83,
          82,
          80,
          78,
          78,
          76,
          75,
          73,
          72,
          72,
          71,
          70,
          70,
          70,
          70,
          68,
          68,
          67,
          67,
          67,
          66,
          66,
          66,
          65,
          65,
          64,
          64,
          63,
          63,
          62,
          62,
          61,
          60,
          60,
          59,
          59,
          59,
          59,
          59,
          58,
          58,
          58,
          58,
          58,
          58,
          58,
          57,
          56,
          56,
          55,
          55,
          55,
          54,
          54,
          53,
          53,
          53,
          53,
          52,
          52,
          52,
          52,
          52,
          51,
          51,
          51,
          50,
          50,
          50,
          50,
          47,
          47,
          47,
          47,
          47,
          46,
          46,
          45,
          45,
          44,
          44,
          44,
          44,
          44,
          43,
          42,
          41,
          41,
          41,
          41,
          41,
          40,
          40,
          40,
          39,
          39,
          38,
          38,
          38,
          38,
          38,
          38,
          37,
          37,
          37,
          37,
          36,
          36,
          36,
          36,
          35,
          35,
          35,
          35,
          35,
          35,
          34,
          34,
          34,
          34,
          34,
          34,
          34,
          34,
          34,
          34,
          34,
          34,
          33,
          33,
          33,
          33,
          33,
          33,
          33,
          32,
          32,
          32,
          32,
          32,
          32,
          31,
          31,
          31,
          31,
          31,
          31,
          30,
          30,
          30,
          30,
          30,
          30,
          29,
          29,
          29,
          28,
          28,
          28,
          28,
          28,
          27,
          27,
          27,
          27,
          25,
          25,
          24,
          23
         ],
         "textposition": "inside",
         "type": "bar",
         "x": [
          "Shape of You",
          "Perfect",
          "Photograph",
          "Shivers",
          "Thinking out Loud",
          "Bad Habits",
          "Castle on the Hill",
          "Galway Girl",
          "I Don't Care (with Justin Bieber)",
          "Happier",
          "Supermarket Flowers",
          "Eyes Closed",
          "Dive",
          "South of the Border (feat. Camila Cabello & Cardi B)",
          "Beautiful People (feat. Khalid)",
          "Lego House",
          "Don't",
          "Photograph",
          "Give Me Love",
          "I See Fire",
          "Tenerife Sea",
          "Thinking out Loud",
          "Sing",
          "Overpass Graffiti",
          "Kiss Me",
          "Visiting Hours",
          "The A Team",
          "Remember The Name (feat. Eminem & 50 Cent)",
          "Nancy Mulligan",
          "What Do I Know?",
          "2step",
          "How Would You Feel (Paean)",
          "Bloodstream",
          "All of the Stars",
          "Take Me Back to London (feat. Stormzy)",
          "Antisocial (with Travis Scott)",
          "Drunk",
          "Don't",
          "American Town",
          "Curtains",
          "First Times",
          "I'm a Mess",
          "Boat",
          "One",
          "You Need Me, I Don't Need You",
          "Cross Me (feat. Chance the Rapper & PnB Rock)",
          "Small Bump",
          "Put It All on Me (feat. Ella Mai)",
          "Best Part of Me (feat. YEBBA)",
          "BLOW (with Chris Stapleton & Bruno Mars)",
          "End Of Youth",
          "Life Goes On",
          "Tides",
          "Afire Love",
          "Collide",
          "The Hills of Aberfeldy",
          "Runaway",
          "Vega",
          "Magical",
          "Love In Slow Motion",
          "Tenerife Sea",
          "Dusty",
          "Colourblind",
          "Stop The Rain",
          "Salt Water",
          "Autumn Leaves - Deluxe Edition",
          "All of the Stars",
          "The Joker And The Queen (feat. Taylor Swift)",
          "One Life",
          "Blue",
          "Wake Me Up",
          "U.N.I.",
          "Afterglow",
          "Shivers - Live",
          "Castle on the Hill - Live",
          "Cold Coffee",
          "2step (feat. Lil Baby)",
          "Sing",
          "Tides - Live",
          "Don't/Nina Medley - Live",
          "I See Fire - Live",
          "The A Team - Live",
          "Lego House - Live",
          "Dive - Live",
          "Eyes Closed - Live",
          "Give Me Love",
          "BLOW - Live",
          "One",
          "Plastic Bag",
          "That’s On Me",
          "Amazing",
          "Punchline",
          "Spring",
          "She",
          "Bloodstream",
          "Firefly",
          "England",
          "Page",
          "American Town",
          "I'm a Mess",
          "One Night",
          "Little Lady (feat. Mikill Pane)",
          "Fall",
          "So",
          "Touch and Go",
          "2step (feat. Leto)",
          "Let It Out",
          "Firefly",
          "The A Team",
          "Sunburn",
          "Be Like You",
          "Where We Land",
          "Magical",
          "Lego House",
          "Little Bird",
          "I Don't Care",
          "I Will Remember You",
          "Penguins",
          "Don't",
          "Galway Girl",
          "2step (feat. 1.Cuz)",
          "2step (feat. Quevedo)",
          "Homeless",
          "Don't",
          "Little Bird",
          "Photograph",
          "Photograph",
          "Shape of You",
          "One",
          "You Need Me, I Don't Need You",
          "Thinking out Loud",
          "Sofa",
          "Blue",
          "Tenerife Sea",
          "Radio (feat. JME)",
          "Thinking out Loud",
          "Sing",
          "Plastic Bag",
          "Lately (feat. Devlin)",
          "I'm a Mess",
          "That’s On Me",
          "Sing",
          "Amazing",
          "Bloodstream",
          "England",
          "Shivers",
          "Welcome To The World",
          "2step (feat. Antytila)",
          "2step (feat. Ultimo)",
          "Spring",
          "Wake Me Up - Live at the Bedford",
          "Family (feat. P Money)",
          "2step (feat. Armaan Malik)",
          "Punchline",
          "Page",
          "You (feat. Wiley)",
          "2step (feat. Budjerah)",
          "Bad Habits",
          "You Need Me, I Don't Need You - Live at the Bedford",
          "2step (feat. Chefin)",
          "Overpass Graffiti",
          "Nightmares (feat. Random Impulse, Sway & Wretch 32)",
          "The City - Live at Sticky Studios; Loose Change EP",
          "2step (feat. Potter Payper)",
          "First Times",
          "The A Team - Live at the Bedford",
          "Drown Me Out (feat. Ghetts) - + Ghetts",
          "Goodbye to You (feat. Dot Rotten)",
          "Fall - Live at the Bedford",
          "Homeless - Live at the Bedford",
          "Firefly - Bravado Dubstep Remix",
          "The City - Live at the Bedford"
         ],
         "y": [
          87,
          87,
          86,
          83,
          82,
          80,
          78,
          78,
          76,
          75,
          73,
          72,
          72,
          71,
          70,
          70,
          70,
          70,
          68,
          68,
          67,
          67,
          67,
          66,
          66,
          66,
          65,
          65,
          64,
          64,
          63,
          63,
          62,
          62,
          61,
          60,
          60,
          59,
          59,
          59,
          59,
          59,
          58,
          58,
          58,
          58,
          58,
          58,
          58,
          57,
          56,
          56,
          55,
          55,
          55,
          54,
          54,
          53,
          53,
          53,
          53,
          52,
          52,
          52,
          52,
          52,
          51,
          51,
          51,
          50,
          50,
          50,
          50,
          47,
          47,
          47,
          47,
          47,
          46,
          46,
          45,
          45,
          44,
          44,
          44,
          44,
          44,
          43,
          42,
          41,
          41,
          41,
          41,
          41,
          40,
          40,
          40,
          39,
          39,
          38,
          38,
          38,
          38,
          38,
          38,
          37,
          37,
          37,
          37,
          36,
          36,
          36,
          36,
          35,
          35,
          35,
          35,
          35,
          35,
          34,
          34,
          34,
          34,
          34,
          34,
          34,
          34,
          34,
          34,
          34,
          34,
          33,
          33,
          33,
          33,
          33,
          33,
          33,
          32,
          32,
          32,
          32,
          32,
          32,
          31,
          31,
          31,
          31,
          31,
          31,
          30,
          30,
          30,
          30,
          30,
          30,
          29,
          29,
          29,
          28,
          28,
          28,
          28,
          28,
          27,
          27,
          27,
          27,
          25,
          25,
          24,
          23
         ]
        }
       ],
       "layout": {
        "template": {
         "data": {
          "bar": [
           {
            "error_x": {
             "color": "#2a3f5f"
            },
            "error_y": {
             "color": "#2a3f5f"
            },
            "marker": {
             "line": {
              "color": "#E5ECF6",
              "width": 0.5
             },
             "pattern": {
              "fillmode": "overlay",
              "size": 10,
              "solidity": 0.2
             }
            },
            "type": "bar"
           }
          ],
          "barpolar": [
           {
            "marker": {
             "line": {
              "color": "#E5ECF6",
              "width": 0.5
             },
             "pattern": {
              "fillmode": "overlay",
              "size": 10,
              "solidity": 0.2
             }
            },
            "type": "barpolar"
           }
          ],
          "carpet": [
           {
            "aaxis": {
             "endlinecolor": "#2a3f5f",
             "gridcolor": "white",
             "linecolor": "white",
             "minorgridcolor": "white",
             "startlinecolor": "#2a3f5f"
            },
            "baxis": {
             "endlinecolor": "#2a3f5f",
             "gridcolor": "white",
             "linecolor": "white",
             "minorgridcolor": "white",
             "startlinecolor": "#2a3f5f"
            },
            "type": "carpet"
           }
          ],
          "choropleth": [
           {
            "colorbar": {
             "outlinewidth": 0,
             "ticks": ""
            },
            "type": "choropleth"
           }
          ],
          "contour": [
           {
            "colorbar": {
             "outlinewidth": 0,
             "ticks": ""
            },
            "colorscale": [
             [
              0,
              "#0d0887"
             ],
             [
              0.1111111111111111,
              "#46039f"
             ],
             [
              0.2222222222222222,
              "#7201a8"
             ],
             [
              0.3333333333333333,
              "#9c179e"
             ],
             [
              0.4444444444444444,
              "#bd3786"
             ],
             [
              0.5555555555555556,
              "#d8576b"
             ],
             [
              0.6666666666666666,
              "#ed7953"
             ],
             [
              0.7777777777777778,
              "#fb9f3a"
             ],
             [
              0.8888888888888888,
              "#fdca26"
             ],
             [
              1,
              "#f0f921"
             ]
            ],
            "type": "contour"
           }
          ],
          "contourcarpet": [
           {
            "colorbar": {
             "outlinewidth": 0,
             "ticks": ""
            },
            "type": "contourcarpet"
           }
          ],
          "heatmap": [
           {
            "colorbar": {
             "outlinewidth": 0,
             "ticks": ""
            },
            "colorscale": [
             [
              0,
              "#0d0887"
             ],
             [
              0.1111111111111111,
              "#46039f"
             ],
             [
              0.2222222222222222,
              "#7201a8"
             ],
             [
              0.3333333333333333,
              "#9c179e"
             ],
             [
              0.4444444444444444,
              "#bd3786"
             ],
             [
              0.5555555555555556,
              "#d8576b"
             ],
             [
              0.6666666666666666,
              "#ed7953"
             ],
             [
              0.7777777777777778,
              "#fb9f3a"
             ],
             [
              0.8888888888888888,
              "#fdca26"
             ],
             [
              1,
              "#f0f921"
             ]
            ],
            "type": "heatmap"
           }
          ],
          "heatmapgl": [
           {
            "colorbar": {
             "outlinewidth": 0,
             "ticks": ""
            },
            "colorscale": [
             [
              0,
              "#0d0887"
             ],
             [
              0.1111111111111111,
              "#46039f"
             ],
             [
              0.2222222222222222,
              "#7201a8"
             ],
             [
              0.3333333333333333,
              "#9c179e"
             ],
             [
              0.4444444444444444,
              "#bd3786"
             ],
             [
              0.5555555555555556,
              "#d8576b"
             ],
             [
              0.6666666666666666,
              "#ed7953"
             ],
             [
              0.7777777777777778,
              "#fb9f3a"
             ],
             [
              0.8888888888888888,
              "#fdca26"
             ],
             [
              1,
              "#f0f921"
             ]
            ],
            "type": "heatmapgl"
           }
          ],
          "histogram": [
           {
            "marker": {
             "pattern": {
              "fillmode": "overlay",
              "size": 10,
              "solidity": 0.2
             }
            },
            "type": "histogram"
           }
          ],
          "histogram2d": [
           {
            "colorbar": {
             "outlinewidth": 0,
             "ticks": ""
            },
            "colorscale": [
             [
              0,
              "#0d0887"
             ],
             [
              0.1111111111111111,
              "#46039f"
             ],
             [
              0.2222222222222222,
              "#7201a8"
             ],
             [
              0.3333333333333333,
              "#9c179e"
             ],
             [
              0.4444444444444444,
              "#bd3786"
             ],
             [
              0.5555555555555556,
              "#d8576b"
             ],
             [
              0.6666666666666666,
              "#ed7953"
             ],
             [
              0.7777777777777778,
              "#fb9f3a"
             ],
             [
              0.8888888888888888,
              "#fdca26"
             ],
             [
              1,
              "#f0f921"
             ]
            ],
            "type": "histogram2d"
           }
          ],
          "histogram2dcontour": [
           {
            "colorbar": {
             "outlinewidth": 0,
             "ticks": ""
            },
            "colorscale": [
             [
              0,
              "#0d0887"
             ],
             [
              0.1111111111111111,
              "#46039f"
             ],
             [
              0.2222222222222222,
              "#7201a8"
             ],
             [
              0.3333333333333333,
              "#9c179e"
             ],
             [
              0.4444444444444444,
              "#bd3786"
             ],
             [
              0.5555555555555556,
              "#d8576b"
             ],
             [
              0.6666666666666666,
              "#ed7953"
             ],
             [
              0.7777777777777778,
              "#fb9f3a"
             ],
             [
              0.8888888888888888,
              "#fdca26"
             ],
             [
              1,
              "#f0f921"
             ]
            ],
            "type": "histogram2dcontour"
           }
          ],
          "mesh3d": [
           {
            "colorbar": {
             "outlinewidth": 0,
             "ticks": ""
            },
            "type": "mesh3d"
           }
          ],
          "parcoords": [
           {
            "line": {
             "colorbar": {
              "outlinewidth": 0,
              "ticks": ""
             }
            },
            "type": "parcoords"
           }
          ],
          "pie": [
           {
            "automargin": true,
            "type": "pie"
           }
          ],
          "scatter": [
           {
            "fillpattern": {
             "fillmode": "overlay",
             "size": 10,
             "solidity": 0.2
            },
            "type": "scatter"
           }
          ],
          "scatter3d": [
           {
            "line": {
             "colorbar": {
              "outlinewidth": 0,
              "ticks": ""
             }
            },
            "marker": {
             "colorbar": {
              "outlinewidth": 0,
              "ticks": ""
             }
            },
            "type": "scatter3d"
           }
          ],
          "scattercarpet": [
           {
            "marker": {
             "colorbar": {
              "outlinewidth": 0,
              "ticks": ""
             }
            },
            "type": "scattercarpet"
           }
          ],
          "scattergeo": [
           {
            "marker": {
             "colorbar": {
              "outlinewidth": 0,
              "ticks": ""
             }
            },
            "type": "scattergeo"
           }
          ],
          "scattergl": [
           {
            "marker": {
             "colorbar": {
              "outlinewidth": 0,
              "ticks": ""
             }
            },
            "type": "scattergl"
           }
          ],
          "scattermapbox": [
           {
            "marker": {
             "colorbar": {
              "outlinewidth": 0,
              "ticks": ""
             }
            },
            "type": "scattermapbox"
           }
          ],
          "scatterpolar": [
           {
            "marker": {
             "colorbar": {
              "outlinewidth": 0,
              "ticks": ""
             }
            },
            "type": "scatterpolar"
           }
          ],
          "scatterpolargl": [
           {
            "marker": {
             "colorbar": {
              "outlinewidth": 0,
              "ticks": ""
             }
            },
            "type": "scatterpolargl"
           }
          ],
          "scatterternary": [
           {
            "marker": {
             "colorbar": {
              "outlinewidth": 0,
              "ticks": ""
             }
            },
            "type": "scatterternary"
           }
          ],
          "surface": [
           {
            "colorbar": {
             "outlinewidth": 0,
             "ticks": ""
            },
            "colorscale": [
             [
              0,
              "#0d0887"
             ],
             [
              0.1111111111111111,
              "#46039f"
             ],
             [
              0.2222222222222222,
              "#7201a8"
             ],
             [
              0.3333333333333333,
              "#9c179e"
             ],
             [
              0.4444444444444444,
              "#bd3786"
             ],
             [
              0.5555555555555556,
              "#d8576b"
             ],
             [
              0.6666666666666666,
              "#ed7953"
             ],
             [
              0.7777777777777778,
              "#fb9f3a"
             ],
             [
              0.8888888888888888,
              "#fdca26"
             ],
             [
              1,
              "#f0f921"
             ]
            ],
            "type": "surface"
           }
          ],
          "table": [
           {
            "cells": {
             "fill": {
              "color": "#EBF0F8"
             },
             "line": {
              "color": "white"
             }
            },
            "header": {
             "fill": {
              "color": "#C8D4E3"
             },
             "line": {
              "color": "white"
             }
            },
            "type": "table"
           }
          ]
         },
         "layout": {
          "annotationdefaults": {
           "arrowcolor": "#2a3f5f",
           "arrowhead": 0,
           "arrowwidth": 1
          },
          "autotypenumbers": "strict",
          "coloraxis": {
           "colorbar": {
            "outlinewidth": 0,
            "ticks": ""
           }
          },
          "colorscale": {
           "diverging": [
            [
             0,
             "#8e0152"
            ],
            [
             0.1,
             "#c51b7d"
            ],
            [
             0.2,
             "#de77ae"
            ],
            [
             0.3,
             "#f1b6da"
            ],
            [
             0.4,
             "#fde0ef"
            ],
            [
             0.5,
             "#f7f7f7"
            ],
            [
             0.6,
             "#e6f5d0"
            ],
            [
             0.7,
             "#b8e186"
            ],
            [
             0.8,
             "#7fbc41"
            ],
            [
             0.9,
             "#4d9221"
            ],
            [
             1,
             "#276419"
            ]
           ],
           "sequential": [
            [
             0,
             "#0d0887"
            ],
            [
             0.1111111111111111,
             "#46039f"
            ],
            [
             0.2222222222222222,
             "#7201a8"
            ],
            [
             0.3333333333333333,
             "#9c179e"
            ],
            [
             0.4444444444444444,
             "#bd3786"
            ],
            [
             0.5555555555555556,
             "#d8576b"
            ],
            [
             0.6666666666666666,
             "#ed7953"
            ],
            [
             0.7777777777777778,
             "#fb9f3a"
            ],
            [
             0.8888888888888888,
             "#fdca26"
            ],
            [
             1,
             "#f0f921"
            ]
           ],
           "sequentialminus": [
            [
             0,
             "#0d0887"
            ],
            [
             0.1111111111111111,
             "#46039f"
            ],
            [
             0.2222222222222222,
             "#7201a8"
            ],
            [
             0.3333333333333333,
             "#9c179e"
            ],
            [
             0.4444444444444444,
             "#bd3786"
            ],
            [
             0.5555555555555556,
             "#d8576b"
            ],
            [
             0.6666666666666666,
             "#ed7953"
            ],
            [
             0.7777777777777778,
             "#fb9f3a"
            ],
            [
             0.8888888888888888,
             "#fdca26"
            ],
            [
             1,
             "#f0f921"
            ]
           ]
          },
          "colorway": [
           "#636efa",
           "#EF553B",
           "#00cc96",
           "#ab63fa",
           "#FFA15A",
           "#19d3f3",
           "#FF6692",
           "#B6E880",
           "#FF97FF",
           "#FECB52"
          ],
          "font": {
           "color": "#2a3f5f"
          },
          "geo": {
           "bgcolor": "white",
           "lakecolor": "white",
           "landcolor": "#E5ECF6",
           "showlakes": true,
           "showland": true,
           "subunitcolor": "white"
          },
          "hoverlabel": {
           "align": "left"
          },
          "hovermode": "closest",
          "mapbox": {
           "style": "light"
          },
          "paper_bgcolor": "white",
          "plot_bgcolor": "#E5ECF6",
          "polar": {
           "angularaxis": {
            "gridcolor": "white",
            "linecolor": "white",
            "ticks": ""
           },
           "bgcolor": "#E5ECF6",
           "radialaxis": {
            "gridcolor": "white",
            "linecolor": "white",
            "ticks": ""
           }
          },
          "scene": {
           "xaxis": {
            "backgroundcolor": "#E5ECF6",
            "gridcolor": "white",
            "gridwidth": 2,
            "linecolor": "white",
            "showbackground": true,
            "ticks": "",
            "zerolinecolor": "white"
           },
           "yaxis": {
            "backgroundcolor": "#E5ECF6",
            "gridcolor": "white",
            "gridwidth": 2,
            "linecolor": "white",
            "showbackground": true,
            "ticks": "",
            "zerolinecolor": "white"
           },
           "zaxis": {
            "backgroundcolor": "#E5ECF6",
            "gridcolor": "white",
            "gridwidth": 2,
            "linecolor": "white",
            "showbackground": true,
            "ticks": "",
            "zerolinecolor": "white"
           }
          },
          "shapedefaults": {
           "line": {
            "color": "#2a3f5f"
           }
          },
          "ternary": {
           "aaxis": {
            "gridcolor": "white",
            "linecolor": "white",
            "ticks": ""
           },
           "baxis": {
            "gridcolor": "white",
            "linecolor": "white",
            "ticks": ""
           },
           "bgcolor": "#E5ECF6",
           "caxis": {
            "gridcolor": "white",
            "linecolor": "white",
            "ticks": ""
           }
          },
          "title": {
           "x": 0.05
          },
          "xaxis": {
           "automargin": true,
           "gridcolor": "white",
           "linecolor": "white",
           "ticks": "",
           "title": {
            "standoff": 15
           },
           "zerolinecolor": "white",
           "zerolinewidth": 2
          },
          "yaxis": {
           "automargin": true,
           "gridcolor": "white",
           "linecolor": "white",
           "ticks": "",
           "title": {
            "standoff": 15
           },
           "zerolinecolor": "white",
           "zerolinewidth": 2
          }
         }
        },
        "title": {
         "text": "Top 10 Tracks - All"
        },
        "xaxis": {
         "tickangle": -45,
         "title": {
          "text": "Track Name"
         }
        },
        "yaxis": {
         "title": {
          "text": "Popularity"
         }
        }
       }
      },
      "image/png": "[encoded data removed]",
      "text/html": [
       "<div>                            <div id=\"60c0b9a2-29a2-445b-b100-7e72650495b1\" class=\"plotly-graph-div\" style=\"height:525px; width:100%;\"></div>            <script type=\"text/javascript\">                require([\"plotly\"], function(Plotly) {                    window.PLOTLYENV=window.PLOTLYENV || {};                                    if (document.getElementById(\"60c0b9a2-29a2-445b-b100-7e72650495b1\")) {                    Plotly.newPlot(                        \"60c0b9a2-29a2-445b-b100-7e72650495b1\",                        [{\"hoverinfo\":\"text\",\"hovertext\":[\"Track: Shape of You\\u003cbr\\u003ePopularity: 87\",\"Track: Perfect\\u003cbr\\u003ePopularity: 87\",\"Track: Photograph\\u003cbr\\u003ePopularity: 86\",\"Track: Shivers\\u003cbr\\u003ePopularity: 83\",\"Track: Thinking out Loud\\u003cbr\\u003ePopularity: 82\",\"Track: Bad Habits\\u003cbr\\u003ePopularity: 80\",\"Track: Castle on the Hill\\u003cbr\\u003ePopularity: 78\",\"Track: Galway Girl\\u003cbr\\u003ePopularity: 78\",\"Track: I Don't Care (with Justin Bieber)\\u003cbr\\u003ePopularity: 76\",\"Track: Happier\\u003cbr\\u003ePopularity: 75\",\"Track: Supermarket Flowers\\u003cbr\\u003ePopularity: 73\",\"Track: Eyes Closed\\u003cbr\\u003ePopularity: 72\",\"Track: Dive\\u003cbr\\u003ePopularity: 72\",\"Track: South of the Border (feat. Camila Cabello & Cardi B)\\u003cbr\\u003ePopularity: 71\",\"Track: Beautiful People (feat. Khalid)\\u003cbr\\u003ePopularity: 70\",\"Track: Lego House\\u003cbr\\u003ePopularity: 70\",\"Track: Don't\\u003cbr\\u003ePopularity: 70\",\"Track: Photograph\\u003cbr\\u003ePopularity: 70\",\"Track: Give Me Love\\u003cbr\\u003ePopularity: 68\",\"Track: I See Fire\\u003cbr\\u003ePopularity: 68\",\"Track: Tenerife Sea\\u003cbr\\u003ePopularity: 67\",\"Track: Thinking out Loud\\u003cbr\\u003ePopularity: 67\",\"Track: Sing\\u003cbr\\u003ePopularity: 67\",\"Track: Overpass Graffiti\\u003cbr\\u003ePopularity: 66\",\"Track: Kiss Me\\u003cbr\\u003ePopularity: 66\",\"Track: Visiting Hours\\u003cbr\\u003ePopularity: 66\",\"Track: The A Team\\u003cbr\\u003ePopularity: 65\",\"Track: Remember The Name (feat. Eminem & 50 Cent)\\u003cbr\\u003ePopularity: 65\",\"Track: Nancy Mulligan\\u003cbr\\u003ePopularity: 64\",\"Track: What Do I Know?\\u003cbr\\u003ePopularity: 64\",\"Track: 2step\\u003cbr\\u003ePopularity: 63\",\"Track: How Would You Feel (Paean)\\u003cbr\\u003ePopularity: 63\",\"Track: Bloodstream\\u003cbr\\u003ePopularity: 62\",\"Track: All of the Stars\\u003cbr\\u003ePopularity: 62\",\"Track: Take Me Back to London (feat. Stormzy)\\u003cbr\\u003ePopularity: 61\",\"Track: Antisocial (with Travis Scott)\\u003cbr\\u003ePopularity: 60\",\"Track: Drunk\\u003cbr\\u003ePopularity: 60\",\"Track: Don't\\u003cbr\\u003ePopularity: 59\",\"Track: American Town\\u003cbr\\u003ePopularity: 59\",\"Track: Curtains\\u003cbr\\u003ePopularity: 59\",\"Track: First Times\\u003cbr\\u003ePopularity: 59\",\"Track: I'm a Mess\\u003cbr\\u003ePopularity: 59\",\"Track: Boat\\u003cbr\\u003ePopularity: 58\",\"Track: One\\u003cbr\\u003ePopularity: 58\",\"Track: You Need Me, I Don't Need You\\u003cbr\\u003ePopularity: 58\",\"Track: Cross Me (feat. Chance the Rapper & PnB Rock)\\u003cbr\\u003ePopularity: 58\",\"Track: Small Bump\\u003cbr\\u003ePopularity: 58\",\"Track: Put It All on Me (feat. Ella Mai)\\u003cbr\\u003ePopularity: 58\",\"Track: Best Part of Me (feat. YEBBA)\\u003cbr\\u003ePopularity: 58\",\"Track: BLOW (with Chris Stapleton & Bruno Mars)\\u003cbr\\u003ePopularity: 57\",\"Track: End Of Youth\\u003cbr\\u003ePopularity: 56\",\"Track: Life Goes On\\u003cbr\\u003ePopularity: 56\",\"Track: Tides\\u003cbr\\u003ePopularity: 55\",\"Track: Afire Love\\u003cbr\\u003ePopularity: 55\",\"Track: Collide\\u003cbr\\u003ePopularity: 55\",\"Track: The Hills of Aberfeldy\\u003cbr\\u003ePopularity: 54\",\"Track: Runaway\\u003cbr\\u003ePopularity: 54\",\"Track: Vega\\u003cbr\\u003ePopularity: 53\",\"Track: Magical\\u003cbr\\u003ePopularity: 53\",\"Track: Love In Slow Motion\\u003cbr\\u003ePopularity: 53\",\"Track: Tenerife Sea\\u003cbr\\u003ePopularity: 53\",\"Track: Dusty\\u003cbr\\u003ePopularity: 52\",\"Track: Colourblind\\u003cbr\\u003ePopularity: 52\",\"Track: Stop The Rain\\u003cbr\\u003ePopularity: 52\",\"Track: Salt Water\\u003cbr\\u003ePopularity: 52\",\"Track: Autumn Leaves - Deluxe Edition\\u003cbr\\u003ePopularity: 52\",\"Track: All of the Stars\\u003cbr\\u003ePopularity: 51\",\"Track: The Joker And The Queen (feat. Taylor Swift)\\u003cbr\\u003ePopularity: 51\",\"Track: One Life\\u003cbr\\u003ePopularity: 51\",\"Track: Blue\\u003cbr\\u003ePopularity: 50\",\"Track: Wake Me Up\\u003cbr\\u003ePopularity: 50\",\"Track: U.N.I.\\u003cbr\\u003ePopularity: 50\",\"Track: Afterglow\\u003cbr\\u003ePopularity: 50\",\"Track: Shivers - Live\\u003cbr\\u003ePopularity: 47\",\"Track: Castle on the Hill - Live\\u003cbr\\u003ePopularity: 47\",\"Track: Cold Coffee\\u003cbr\\u003ePopularity: 47\",\"Track: 2step (feat. Lil Baby)\\u003cbr\\u003ePopularity: 47\",\"Track: Sing\\u003cbr\\u003ePopularity: 47\",\"Track: Tides - Live\\u003cbr\\u003ePopularity: 46\",\"Track: Don't\\u002fNina Medley - Live\\u003cbr\\u003ePopularity: 46\",\"Track: I See Fire - Live\\u003cbr\\u003ePopularity: 45\",\"Track: The A Team - Live\\u003cbr\\u003ePopularity: 45\",\"Track: Lego House - Live\\u003cbr\\u003ePopularity: 44\",\"Track: Dive - Live\\u003cbr\\u003ePopularity: 44\",\"Track: Eyes Closed - Live\\u003cbr\\u003ePopularity: 44\",\"Track: Give Me Love\\u003cbr\\u003ePopularity: 44\",\"Track: BLOW - Live\\u003cbr\\u003ePopularity: 44\",\"Track: One\\u003cbr\\u003ePopularity: 43\",\"Track: Plastic Bag\\u003cbr\\u003ePopularity: 42\",\"Track: That’s On Me\\u003cbr\\u003ePopularity: 41\",\"Track: Amazing\\u003cbr\\u003ePopularity: 41\",\"Track: Punchline\\u003cbr\\u003ePopularity: 41\",\"Track: Spring\\u003cbr\\u003ePopularity: 41\",\"Track: She\\u003cbr\\u003ePopularity: 41\",\"Track: Bloodstream\\u003cbr\\u003ePopularity: 40\",\"Track: Firefly\\u003cbr\\u003ePopularity: 40\",\"Track: England\\u003cbr\\u003ePopularity: 40\",\"Track: Page\\u003cbr\\u003ePopularity: 39\",\"Track: American Town\\u003cbr\\u003ePopularity: 39\",\"Track: I'm a Mess\\u003cbr\\u003ePopularity: 38\",\"Track: One Night\\u003cbr\\u003ePopularity: 38\",\"Track: Little Lady (feat. Mikill Pane)\\u003cbr\\u003ePopularity: 38\",\"Track: Fall\\u003cbr\\u003ePopularity: 38\",\"Track: So\\u003cbr\\u003ePopularity: 38\",\"Track: Touch and Go\\u003cbr\\u003ePopularity: 38\",\"Track: 2step (feat. Leto)\\u003cbr\\u003ePopularity: 37\",\"Track: Let It Out\\u003cbr\\u003ePopularity: 37\",\"Track: Firefly\\u003cbr\\u003ePopularity: 37\",\"Track: The A Team\\u003cbr\\u003ePopularity: 37\",\"Track: Sunburn\\u003cbr\\u003ePopularity: 36\",\"Track: Be Like You\\u003cbr\\u003ePopularity: 36\",\"Track: Where We Land\\u003cbr\\u003ePopularity: 36\",\"Track: Magical\\u003cbr\\u003ePopularity: 36\",\"Track: Lego House\\u003cbr\\u003ePopularity: 35\",\"Track: Little Bird\\u003cbr\\u003ePopularity: 35\",\"Track: I Don't Care\\u003cbr\\u003ePopularity: 35\",\"Track: I Will Remember You\\u003cbr\\u003ePopularity: 35\",\"Track: Penguins\\u003cbr\\u003ePopularity: 35\",\"Track: Don't\\u003cbr\\u003ePopularity: 35\",\"Track: Galway Girl\\u003cbr\\u003ePopularity: 34\",\"Track: 2step (feat. 1.Cuz)\\u003cbr\\u003ePopularity: 34\",\"Track: 2step (feat. Quevedo)\\u003cbr\\u003ePopularity: 34\",\"Track: Homeless\\u003cbr\\u003ePopularity: 34\",\"Track: Don't\\u003cbr\\u003ePopularity: 34\",\"Track: Little Bird\\u003cbr\\u003ePopularity: 34\",\"Track: Photograph\\u003cbr\\u003ePopularity: 34\",\"Track: Photograph\\u003cbr\\u003ePopularity: 34\",\"Track: Shape of You\\u003cbr\\u003ePopularity: 34\",\"Track: One\\u003cbr\\u003ePopularity: 34\",\"Track: You Need Me, I Don't Need You\\u003cbr\\u003ePopularity: 34\",\"Track: Thinking out Loud\\u003cbr\\u003ePopularity: 34\",\"Track: Sofa\\u003cbr\\u003ePopularity: 33\",\"Track: Blue\\u003cbr\\u003ePopularity: 33\",\"Track: Tenerife Sea\\u003cbr\\u003ePopularity: 33\",\"Track: Radio (feat. JME)\\u003cbr\\u003ePopularity: 33\",\"Track: Thinking out Loud\\u003cbr\\u003ePopularity: 33\",\"Track: Sing\\u003cbr\\u003ePopularity: 33\",\"Track: Plastic Bag\\u003cbr\\u003ePopularity: 33\",\"Track: Lately (feat. Devlin)\\u003cbr\\u003ePopularity: 32\",\"Track: I'm a Mess\\u003cbr\\u003ePopularity: 32\",\"Track: That’s On Me\\u003cbr\\u003ePopularity: 32\",\"Track: Sing\\u003cbr\\u003ePopularity: 32\",\"Track: Amazing\\u003cbr\\u003ePopularity: 32\",\"Track: Bloodstream\\u003cbr\\u003ePopularity: 32\",\"Track: England\\u003cbr\\u003ePopularity: 31\",\"Track: Shivers\\u003cbr\\u003ePopularity: 31\",\"Track: Welcome To The World\\u003cbr\\u003ePopularity: 31\",\"Track: 2step (feat. Antytila)\\u003cbr\\u003ePopularity: 31\",\"Track: 2step (feat. Ultimo)\\u003cbr\\u003ePopularity: 31\",\"Track: Spring\\u003cbr\\u003ePopularity: 31\",\"Track: Wake Me Up - Live at the Bedford\\u003cbr\\u003ePopularity: 30\",\"Track: Family (feat. P Money)\\u003cbr\\u003ePopularity: 30\",\"Track: 2step (feat. Armaan Malik)\\u003cbr\\u003ePopularity: 30\",\"Track: Punchline\\u003cbr\\u003ePopularity: 30\",\"Track: Page\\u003cbr\\u003ePopularity: 30\",\"Track: You (feat. Wiley)\\u003cbr\\u003ePopularity: 30\",\"Track: 2step (feat. Budjerah)\\u003cbr\\u003ePopularity: 29\",\"Track: Bad Habits\\u003cbr\\u003ePopularity: 29\",\"Track: You Need Me, I Don't Need You - Live at the Bedford\\u003cbr\\u003ePopularity: 29\",\"Track: 2step (feat. Chefin)\\u003cbr\\u003ePopularity: 28\",\"Track: Overpass Graffiti\\u003cbr\\u003ePopularity: 28\",\"Track: Nightmares (feat. Random Impulse, Sway & Wretch 32)\\u003cbr\\u003ePopularity: 28\",\"Track: The City - Live at Sticky Studios; Loose Change EP\\u003cbr\\u003ePopularity: 28\",\"Track: 2step (feat. Potter Payper)\\u003cbr\\u003ePopularity: 28\",\"Track: First Times\\u003cbr\\u003ePopularity: 27\",\"Track: The A Team - Live at the Bedford\\u003cbr\\u003ePopularity: 27\",\"Track: Drown Me Out (feat. Ghetts) - + Ghetts\\u003cbr\\u003ePopularity: 27\",\"Track: Goodbye to You (feat. Dot Rotten)\\u003cbr\\u003ePopularity: 27\",\"Track: Fall - Live at the Bedford\\u003cbr\\u003ePopularity: 25\",\"Track: Homeless - Live at the Bedford\\u003cbr\\u003ePopularity: 25\",\"Track: Firefly - Bravado Dubstep Remix\\u003cbr\\u003ePopularity: 24\",\"Track: The City - Live at the Bedford\\u003cbr\\u003ePopularity: 23\"],\"marker\":{\"color\":[\"blue\",\"blue\",\"blue\",\"gray\",\"gray\",\"gray\",\"gray\",\"gray\",\"gray\",\"gray\",\"gray\",\"gray\",\"gray\",\"gray\",\"gray\",\"gray\",\"gray\",\"gray\",\"gray\",\"gray\",\"gray\",\"gray\",\"gray\",\"gray\",\"gray\",\"gray\",\"gray\",\"gray\",\"gray\",\"gray\",\"gray\",\"gray\",\"gray\",\"gray\",\"gray\",\"gray\",\"gray\",\"gray\",\"gray\",\"gray\",\"gray\",\"gray\",\"gray\",\"gray\",\"gray\",\"gray\",\"gray\",\"gray\",\"gray\",\"gray\",\"gray\",\"gray\",\"gray\",\"gray\",\"gray\",\"gray\",\"gray\",\"gray\",\"gray\",\"gray\",\"gray\",\"gray\",\"gray\",\"gray\",\"gray\",\"gray\",\"gray\",\"gray\",\"gray\",\"gray\",\"gray\",\"gray\",\"gray\",\"gray\",\"gray\",\"gray\",\"gray\",\"gray\",\"gray\",\"gray\",\"gray\",\"gray\",\"gray\",\"gray\",\"gray\",\"gray\",\"gray\",\"gray\",\"gray\",\"gray\",\"gray\",\"gray\",\"gray\",\"gray\",\"gray\",\"gray\",\"gray\",\"gray\",\"gray\",\"gray\",\"gray\",\"gray\",\"gray\",\"gray\",\"gray\",\"gray\",\"gray\",\"gray\",\"gray\",\"gray\",\"gray\",\"gray\",\"gray\",\"gray\",\"gray\",\"gray\",\"gray\",\"gray\",\"gray\",\"gray\",\"gray\",\"gray\",\"gray\",\"gray\",\"gray\",\"gray\",\"gray\",\"gray\",\"gray\",\"gray\",\"gray\",\"gray\",\"gray\",\"gray\",\"gray\",\"gray\",\"gray\",\"gray\",\"gray\",\"gray\",\"gray\",\"gray\",\"gray\",\"gray\",\"gray\",\"gray\",\"gray\",\"gray\",\"gray\",\"gray\",\"gray\",\"gray\",\"gray\",\"gray\",\"gray\",\"gray\",\"gray\",\"gray\",\"gray\",\"gray\",\"gray\",\"gray\",\"gray\",\"gray\",\"gray\",\"gray\",\"gray\",\"gray\",\"gray\",\"gray\",\"gray\",\"gray\"]},\"text\":[87.0,87.0,86.0,83.0,82.0,80.0,78.0,78.0,76.0,75.0,73.0,72.0,72.0,71.0,70.0,70.0,70.0,70.0,68.0,68.0,67.0,67.0,67.0,66.0,66.0,66.0,65.0,65.0,64.0,64.0,63.0,63.0,62.0,62.0,61.0,60.0,60.0,59.0,59.0,59.0,59.0,59.0,58.0,58.0,58.0,58.0,58.0,58.0,58.0,57.0,56.0,56.0,55.0,55.0,55.0,54.0,54.0,53.0,53.0,53.0,53.0,52.0,52.0,52.0,52.0,52.0,51.0,51.0,51.0,50.0,50.0,50.0,50.0,47.0,47.0,47.0,47.0,47.0,46.0,46.0,45.0,45.0,44.0,44.0,44.0,44.0,44.0,43.0,42.0,41.0,41.0,41.0,41.0,41.0,40.0,40.0,40.0,39.0,39.0,38.0,38.0,38.0,38.0,38.0,38.0,37.0,37.0,37.0,37.0,36.0,36.0,36.0,36.0,35.0,35.0,35.0,35.0,35.0,35.0,34.0,34.0,34.0,34.0,34.0,34.0,34.0,34.0,34.0,34.0,34.0,34.0,33.0,33.0,33.0,33.0,33.0,33.0,33.0,32.0,32.0,32.0,32.0,32.0,32.0,31.0,31.0,31.0,31.0,31.0,31.0,30.0,30.0,30.0,30.0,30.0,30.0,29.0,29.0,29.0,28.0,28.0,28.0,28.0,28.0,27.0,27.0,27.0,27.0,25.0,25.0,24.0,23.0],\"textposition\":\"inside\",\"x\":[\"Shape of You\",\"Perfect\",\"Photograph\",\"Shivers\",\"Thinking out Loud\",\"Bad Habits\",\"Castle on the Hill\",\"Galway Girl\",\"I Don't Care (with Justin Bieber)\",\"Happier\",\"Supermarket Flowers\",\"Eyes Closed\",\"Dive\",\"South of the Border (feat. Camila Cabello & Cardi B)\",\"Beautiful People (feat. Khalid)\",\"Lego House\",\"Don't\",\"Photograph\",\"Give Me Love\",\"I See Fire\",\"Tenerife Sea\",\"Thinking out Loud\",\"Sing\",\"Overpass Graffiti\",\"Kiss Me\",\"Visiting Hours\",\"The A Team\",\"Remember The Name (feat. Eminem & 50 Cent)\",\"Nancy Mulligan\",\"What Do I Know?\",\"2step\",\"How Would You Feel (Paean)\",\"Bloodstream\",\"All of the Stars\",\"Take Me Back to London (feat. Stormzy)\",\"Antisocial (with Travis Scott)\",\"Drunk\",\"Don't\",\"American Town\",\"Curtains\",\"First Times\",\"I'm a Mess\",\"Boat\",\"One\",\"You Need Me, I Don't Need You\",\"Cross Me (feat. Chance the Rapper & PnB Rock)\",\"Small Bump\",\"Put It All on Me (feat. Ella Mai)\",\"Best Part of Me (feat. YEBBA)\",\"BLOW (with Chris Stapleton & Bruno Mars)\",\"End Of Youth\",\"Life Goes On\",\"Tides\",\"Afire Love\",\"Collide\",\"The Hills of Aberfeldy\",\"Runaway\",\"Vega\",\"Magical\",\"Love In Slow Motion\",\"Tenerife Sea\",\"Dusty\",\"Colourblind\",\"Stop The Rain\",\"Salt Water\",\"Autumn Leaves - Deluxe Edition\",\"All of the Stars\",\"The Joker And The Queen (feat. Taylor Swift)\",\"One Life\",\"Blue\",\"Wake Me Up\",\"U.N.I.\",\"Afterglow\",\"Shivers - Live\",\"Castle on the Hill - Live\",\"Cold Coffee\",\"2step (feat. Lil Baby)\",\"Sing\",\"Tides - Live\",\"Don't\\u002fNina Medley - Live\",\"I See Fire - Live\",\"The A Team - Live\",\"Lego House - Live\",\"Dive - Live\",\"Eyes Closed - Live\",\"Give Me Love\",\"BLOW - Live\",\"One\",\"Plastic Bag\",\"That’s On Me\",\"Amazing\",\"Punchline\",\"Spring\",\"She\",\"Bloodstream\",\"Firefly\",\"England\",\"Page\",\"American Town\",\"I'm a Mess\",\"One Night\",\"Little Lady (feat. Mikill Pane)\",\"Fall\",\"So\",\"Touch and Go\",\"2step (feat. Leto)\",\"Let It Out\",\"Firefly\",\"The A Team\",\"Sunburn\",\"Be Like You\",\"Where We Land\",\"Magical\",\"Lego House\",\"Little Bird\",\"I Don't Care\",\"I Will Remember You\",\"Penguins\",\"Don't\",\"Galway Girl\",\"2step (feat. 1.Cuz)\",\"2step (feat. Quevedo)\",\"Homeless\",\"Don't\",\"Little Bird\",\"Photograph\",\"Photograph\",\"Shape of You\",\"One\",\"You Need Me, I Don't Need You\",\"Thinking out Loud\",\"Sofa\",\"Blue\",\"Tenerife Sea\",\"Radio (feat. JME)\",\"Thinking out Loud\",\"Sing\",\"Plastic Bag\",\"Lately (feat. Devlin)\",\"I'm a Mess\",\"That’s On Me\",\"Sing\",\"Amazing\",\"Bloodstream\",\"England\",\"Shivers\",\"Welcome To The World\",\"2step (feat. Antytila)\",\"2step (feat. Ultimo)\",\"Spring\",\"Wake Me Up - Live at the Bedford\",\"Family (feat. P Money)\",\"2step (feat. Armaan Malik)\",\"Punchline\",\"Page\",\"You (feat. Wiley)\",\"2step (feat. Budjerah)\",\"Bad Habits\",\"You Need Me, I Don't Need You - Live at the Bedford\",\"2step (feat. Chefin)\",\"Overpass Graffiti\",\"Nightmares (feat. Random Impulse, Sway & Wretch 32)\",\"The City - Live at Sticky Studios; Loose Change EP\",\"2step (feat. Potter Payper)\",\"First Times\",\"The A Team - Live at the Bedford\",\"Drown Me Out (feat. Ghetts) - + Ghetts\",\"Goodbye to You (feat. Dot Rotten)\",\"Fall - Live at the Bedford\",\"Homeless - Live at the Bedford\",\"Firefly - Bravado Dubstep Remix\",\"The City - Live at the Bedford\"],\"y\":[87,87,86,83,82,80,78,78,76,75,73,72,72,71,70,70,70,70,68,68,67,67,67,66,66,66,65,65,64,64,63,63,62,62,61,60,60,59,59,59,59,59,58,58,58,58,58,58,58,57,56,56,55,55,55,54,54,53,53,53,53,52,52,52,52,52,51,51,51,50,50,50,50,47,47,47,47,47,46,46,45,45,44,44,44,44,44,43,42,41,41,41,41,41,40,40,40,39,39,38,38,38,38,38,38,37,37,37,37,36,36,36,36,35,35,35,35,35,35,34,34,34,34,34,34,34,34,34,34,34,34,33,33,33,33,33,33,33,32,32,32,32,32,32,31,31,31,31,31,31,30,30,30,30,30,30,29,29,29,28,28,28,28,28,27,27,27,27,25,25,24,23],\"type\":\"bar\"}],                        {\"template\":{\"data\":{\"histogram2dcontour\":[{\"type\":\"histogram2dcontour\",\"colorbar\":{\"outlinewidth\":0,\"ticks\":\"\"},\"colorscale\":[[0.0,\"#0d0887\"],[0.1111111111111111,\"#46039f\"],[0.2222222222222222,\"#7201a8\"],[0.3333333333333333,\"#9c179e\"],[0.4444444444444444,\"#bd3786\"],[0.5555555555555556,\"#d8576b\"],[0.6666666666666666,\"#ed7953\"],[0.7777777777777778,\"#fb9f3a\"],[0.8888888888888888,\"#fdca26\"],[1.0,\"#f0f921\"]]}],\"choropleth\":[{\"type\":\"choropleth\",\"colorbar\":{\"outlinewidth\":0,\"ticks\":\"\"}}],\"histogram2d\":[{\"type\":\"histogram2d\",\"colorbar\":{\"outlinewidth\":0,\"ticks\":\"\"},\"colorscale\":[[0.0,\"#0d0887\"],[0.1111111111111111,\"#46039f\"],[0.2222222222222222,\"#7201a8\"],[0.3333333333333333,\"#9c179e\"],[0.4444444444444444,\"#bd3786\"],[0.5555555555555556,\"#d8576b\"],[0.6666666666666666,\"#ed7953\"],[0.7777777777777778,\"#fb9f3a\"],[0.8888888888888888,\"#fdca26\"],[1.0,\"#f0f921\"]]}],\"heatmap\":[{\"type\":\"heatmap\",\"colorbar\":{\"outlinewidth\":0,\"ticks\":\"\"},\"colorscale\":[[0.0,\"#0d0887\"],[0.1111111111111111,\"#46039f\"],[0.2222222222222222,\"#7201a8\"],[0.3333333333333333,\"#9c179e\"],[0.4444444444444444,\"#bd3786\"],[0.5555555555555556,\"#d8576b\"],[0.6666666666666666,\"#ed7953\"],[0.7777777777777778,\"#fb9f3a\"],[0.8888888888888888,\"#fdca26\"],[1.0,\"#f0f921\"]]}],\"heatmapgl\":[{\"type\":\"heatmapgl\",\"colorbar\":{\"outlinewidth\":0,\"ticks\":\"\"},\"colorscale\":[[0.0,\"#0d0887\"],[0.1111111111111111,\"#46039f\"],[0.2222222222222222,\"#7201a8\"],[0.3333333333333333,\"#9c179e\"],[0.4444444444444444,\"#bd3786\"],[0.5555555555555556,\"#d8576b\"],[0.6666666666666666,\"#ed7953\"],[0.7777777777777778,\"#fb9f3a\"],[0.8888888888888888,\"#fdca26\"],[1.0,\"#f0f921\"]]}],\"contourcarpet\":[{\"type\":\"contourcarpet\",\"colorbar\":{\"outlinewidth\":0,\"ticks\":\"\"}}],\"contour\":[{\"type\":\"contour\",\"colorbar\":{\"outlinewidth\":0,\"ticks\":\"\"},\"colorscale\":[[0.0,\"#0d0887\"],[0.1111111111111111,\"#46039f\"],[0.2222222222222222,\"#7201a8\"],[0.3333333333333333,\"#9c179e\"],[0.4444444444444444,\"#bd3786\"],[0.5555555555555556,\"#d8576b\"],[0.6666666666666666,\"#ed7953\"],[0.7777777777777778,\"#fb9f3a\"],[0.8888888888888888,\"#fdca26\"],[1.0,\"#f0f921\"]]}],\"surface\":[{\"type\":\"surface\",\"colorbar\":{\"outlinewidth\":0,\"ticks\":\"\"},\"colorscale\":[[0.0,\"#0d0887\"],[0.1111111111111111,\"#46039f\"],[0.2222222222222222,\"#7201a8\"],[0.3333333333333333,\"#9c179e\"],[0.4444444444444444,\"#bd3786\"],[0.5555555555555556,\"#d8576b\"],[0.6666666666666666,\"#ed7953\"],[0.7777777777777778,\"#fb9f3a\"],[0.8888888888888888,\"#fdca26\"],[1.0,\"#f0f921\"]]}],\"mesh3d\":[{\"type\":\"mesh3d\",\"colorbar\":{\"outlinewidth\":0,\"ticks\":\"\"}}],\"scatter\":[{\"fillpattern\":{\"fillmode\":\"overlay\",\"size\":10,\"solidity\":0.2},\"type\":\"scatter\"}],\"parcoords\":[{\"type\":\"parcoords\",\"line\":{\"colorbar\":{\"outlinewidth\":0,\"ticks\":\"\"}}}],\"scatterpolargl\":[{\"type\":\"scatterpolargl\",\"marker\":{\"colorbar\":{\"outlinewidth\":0,\"ticks\":\"\"}}}],\"bar\":[{\"error_x\":{\"color\":\"#2a3f5f\"},\"error_y\":{\"color\":\"#2a3f5f\"},\"marker\":{\"line\":{\"color\":\"#E5ECF6\",\"width\":0.5},\"pattern\":{\"fillmode\":\"overlay\",\"size\":10,\"solidity\":0.2}},\"type\":\"bar\"}],\"scattergeo\":[{\"type\":\"scattergeo\",\"marker\":{\"colorbar\":{\"outlinewidth\":0,\"ticks\":\"\"}}}],\"scatterpolar\":[{\"type\":\"scatterpolar\",\"marker\":{\"colorbar\":{\"outlinewidth\":0,\"ticks\":\"\"}}}],\"histogram\":[{\"marker\":{\"pattern\":{\"fillmode\":\"overlay\",\"size\":10,\"solidity\":0.2}},\"type\":\"histogram\"}],\"scattergl\":[{\"type\":\"scattergl\",\"marker\":{\"colorbar\":{\"outlinewidth\":0,\"ticks\":\"\"}}}],\"scatter3d\":[{\"type\":\"scatter3d\",\"line\":{\"colorbar\":{\"outlinewidth\":0,\"ticks\":\"\"}},\"marker\":{\"colorbar\":{\"outlinewidth\":0,\"ticks\":\"\"}}}],\"scattermapbox\":[{\"type\":\"scattermapbox\",\"marker\":{\"colorbar\":{\"outlinewidth\":0,\"ticks\":\"\"}}}],\"scatterternary\":[{\"type\":\"scatterternary\",\"marker\":{\"colorbar\":{\"outlinewidth\":0,\"ticks\":\"\"}}}],\"scattercarpet\":[{\"type\":\"scattercarpet\",\"marker\":{\"colorbar\":{\"outlinewidth\":0,\"ticks\":\"\"}}}],\"carpet\":[{\"aaxis\":{\"endlinecolor\":\"#2a3f5f\",\"gridcolor\":\"white\",\"linecolor\":\"white\",\"minorgridcolor\":\"white\",\"startlinecolor\":\"#2a3f5f\"},\"baxis\":{\"endlinecolor\":\"#2a3f5f\",\"gridcolor\":\"white\",\"linecolor\":\"white\",\"minorgridcolor\":\"white\",\"startlinecolor\":\"#2a3f5f\"},\"type\":\"carpet\"}],\"table\":[{\"cells\":{\"fill\":{\"color\":\"#EBF0F8\"},\"line\":{\"color\":\"white\"}},\"header\":{\"fill\":{\"color\":\"#C8D4E3\"},\"line\":{\"color\":\"white\"}},\"type\":\"table\"}],\"barpolar\":[{\"marker\":{\"line\":{\"color\":\"#E5ECF6\",\"width\":0.5},\"pattern\":{\"fillmode\":\"overlay\",\"size\":10,\"solidity\":0.2}},\"type\":\"barpolar\"}],\"pie\":[{\"automargin\":true,\"type\":\"pie\"}]},\"layout\":{\"autotypenumbers\":\"strict\",\"colorway\":[\"#636efa\",\"#EF553B\",\"#00cc96\",\"#ab63fa\",\"#FFA15A\",\"#19d3f3\",\"#FF6692\",\"#B6E880\",\"#FF97FF\",\"#FECB52\"],\"font\":{\"color\":\"#2a3f5f\"},\"hovermode\":\"closest\",\"hoverlabel\":{\"align\":\"left\"},\"paper_bgcolor\":\"white\",\"plot_bgcolor\":\"#E5ECF6\",\"polar\":{\"bgcolor\":\"#E5ECF6\",\"angularaxis\":{\"gridcolor\":\"white\",\"linecolor\":\"white\",\"ticks\":\"\"},\"radialaxis\":{\"gridcolor\":\"white\",\"linecolor\":\"white\",\"ticks\":\"\"}},\"ternary\":{\"bgcolor\":\"#E5ECF6\",\"aaxis\":{\"gridcolor\":\"white\",\"linecolor\":\"white\",\"ticks\":\"\"},\"baxis\":{\"gridcolor\":\"white\",\"linecolor\":\"white\",\"ticks\":\"\"},\"caxis\":{\"gridcolor\":\"white\",\"linecolor\":\"white\",\"ticks\":\"\"}},\"coloraxis\":{\"colorbar\":{\"outlinewidth\":0,\"ticks\":\"\"}},\"colorscale\":{\"sequential\":[[0.0,\"#0d0887\"],[0.1111111111111111,\"#46039f\"],[0.2222222222222222,\"#7201a8\"],[0.3333333333333333,\"#9c179e\"],[0.4444444444444444,\"#bd3786\"],[0.5555555555555556,\"#d8576b\"],[0.6666666666666666,\"#ed7953\"],[0.7777777777777778,\"#fb9f3a\"],[0.8888888888888888,\"#fdca26\"],[1.0,\"#f0f921\"]],\"sequentialminus\":[[0.0,\"#0d0887\"],[0.1111111111111111,\"#46039f\"],[0.2222222222222222,\"#7201a8\"],[0.3333333333333333,\"#9c179e\"],[0.4444444444444444,\"#bd3786\"],[0.5555555555555556,\"#d8576b\"],[0.6666666666666666,\"#ed7953\"],[0.7777777777777778,\"#fb9f3a\"],[0.8888888888888888,\"#fdca26\"],[1.0,\"#f0f921\"]],\"diverging\":[[0,\"#8e0152\"],[0.1,\"#c51b7d\"],[0.2,\"#de77ae\"],[0.3,\"#f1b6da\"],[0.4,\"#fde0ef\"],[0.5,\"#f7f7f7\"],[0.6,\"#e6f5d0\"],[0.7,\"#b8e186\"],[0.8,\"#7fbc41\"],[0.9,\"#4d9221\"],[1,\"#276419\"]]},\"xaxis\":{\"gridcolor\":\"white\",\"linecolor\":\"white\",\"ticks\":\"\",\"title\":{\"standoff\":15},\"zerolinecolor\":\"white\",\"automargin\":true,\"zerolinewidth\":2},\"yaxis\":{\"gridcolor\":\"white\",\"linecolor\":\"white\",\"ticks\":\"\",\"title\":{\"standoff\":15},\"zerolinecolor\":\"white\",\"automargin\":true,\"zerolinewidth\":2},\"scene\":{\"xaxis\":{\"backgroundcolor\":\"#E5ECF6\",\"gridcolor\":\"white\",\"linecolor\":\"white\",\"showbackground\":true,\"ticks\":\"\",\"zerolinecolor\":\"white\",\"gridwidth\":2},\"yaxis\":{\"backgroundcolor\":\"#E5ECF6\",\"gridcolor\":\"white\",\"linecolor\":\"white\",\"showbackground\":true,\"ticks\":\"\",\"zerolinecolor\":\"white\",\"gridwidth\":2},\"zaxis\":{\"backgroundcolor\":\"#E5ECF6\",\"gridcolor\":\"white\",\"linecolor\":\"white\",\"showbackground\":true,\"ticks\":\"\",\"zerolinecolor\":\"white\",\"gridwidth\":2}},\"shapedefaults\":{\"line\":{\"color\":\"#2a3f5f\"}},\"annotationdefaults\":{\"arrowcolor\":\"#2a3f5f\",\"arrowhead\":0,\"arrowwidth\":1},\"geo\":{\"bgcolor\":\"white\",\"landcolor\":\"#E5ECF6\",\"subunitcolor\":\"white\",\"showland\":true,\"showlakes\":true,\"lakecolor\":\"white\"},\"title\":{\"x\":0.05},\"mapbox\":{\"style\":\"light\"}}},\"xaxis\":{\"title\":{\"text\":\"Track Name\"},\"tickangle\":-45},\"title\":{\"text\":\"Top 10 Tracks - All\"},\"yaxis\":{\"title\":{\"text\":\"Popularity\"}}},                        {\"responsive\": true}                    ).then(function(){\n",
       "                            \n",
       "var gd = document.getElementById('60c0b9a2-29a2-445b-b100-7e72650495b1');\n",
       "var x = new MutationObserver(function (mutations, observer) {{\n",
       "        var display = window.getComputedStyle(gd).display;\n",
       "        if (!display || display === 'none') {{\n",
       "            console.log([gd, 'removed!']);\n",
       "            Plotly.purge(gd);\n",
       "            observer.disconnect();\n",
       "        }}\n",
       "}});\n",
       "\n",
       "// Listen for the removal of the full notebook cells\n",
       "var notebookContainer = gd.closest('#notebook-container');\n",
       "if (notebookContainer) {{\n",
       "    x.observe(notebookContainer, {childList: true});\n",
       "}}\n",
       "\n",
       "// Listen for the clearing of the current output cell\n",
       "var outputEl = gd.closest('.output');\n",
       "if (outputEl) {{\n",
       "    x.observe(outputEl, {childList: true});\n",
       "}}\n",
       "\n",
       "                        })                };                });            </script>        </div>"
      ]
     },
     "metadata": {},
     "output_type": "display_data"
    }
   ],
   "source": [
    "album_options = [\"All\"] + sorted(df_top10[\"Album\"].unique().tolist())\n",
    "dropdown = widgets.Dropdown(options=album_options, description=\"Album:\")\n",
    "\n",
    "def on_change(change):\n",
    "    if change[\"name\"] == \"value\":\n",
    "        fig = create_bar_chart(change[\"new\"])\n",
    "        fig.show()\n",
    "\n",
    "dropdown.observe(on_change, names=\"value\")\n",
    "display(dropdown)\n",
    "fig = create_bar_chart()\n",
    "fig.show()\n",
    "\n",
    "fig.write_html(\"santhosh_narayanan_track_popularity_by_album.html\")\n",
    "\n"
   ]
  },
  {
   "cell_type": "code",
   "execution_count": 37,
   "id": "6144f759-54e3-4902-8435-eababbf8c882",
   "metadata": {},
   "outputs": [
    {
     "data": {
      "application/vnd.plotly.v1+json": {
       "config": {
        "plotlyServerURL": "https://plot.ly"
       },
       "data": [
        {
         "hoverinfo": "text",
         "hovertext": [
          "Track: Shape of You<br>Popularity: 87",
          "Track: Perfect<br>Popularity: 87",
          "Track: Photograph<br>Popularity: 86",
          "Track: Shivers<br>Popularity: 83",
          "Track: Thinking out Loud<br>Popularity: 82",
          "Track: Bad Habits<br>Popularity: 80",
          "Track: Castle on the Hill<br>Popularity: 78",
          "Track: Galway Girl<br>Popularity: 78",
          "Track: I Don't Care (with Justin Bieber)<br>Popularity: 76",
          "Track: Happier<br>Popularity: 75",
          "Track: Supermarket Flowers<br>Popularity: 73",
          "Track: Eyes Closed<br>Popularity: 72",
          "Track: Dive<br>Popularity: 72",
          "Track: South of the Border (feat. Camila Cabello & Cardi B)<br>Popularity: 71",
          "Track: Beautiful People (feat. Khalid)<br>Popularity: 70",
          "Track: Lego House<br>Popularity: 70",
          "Track: Don't<br>Popularity: 70",
          "Track: Photograph<br>Popularity: 70",
          "Track: Give Me Love<br>Popularity: 68",
          "Track: I See Fire<br>Popularity: 68",
          "Track: Tenerife Sea<br>Popularity: 67",
          "Track: Thinking out Loud<br>Popularity: 67",
          "Track: Sing<br>Popularity: 67",
          "Track: Overpass Graffiti<br>Popularity: 66",
          "Track: Kiss Me<br>Popularity: 66",
          "Track: Visiting Hours<br>Popularity: 66",
          "Track: The A Team<br>Popularity: 65",
          "Track: Remember The Name (feat. Eminem & 50 Cent)<br>Popularity: 65",
          "Track: Nancy Mulligan<br>Popularity: 64",
          "Track: What Do I Know?<br>Popularity: 64",
          "Track: 2step<br>Popularity: 63",
          "Track: How Would You Feel (Paean)<br>Popularity: 63",
          "Track: Bloodstream<br>Popularity: 62",
          "Track: All of the Stars<br>Popularity: 62",
          "Track: Take Me Back to London (feat. Stormzy)<br>Popularity: 61",
          "Track: Antisocial (with Travis Scott)<br>Popularity: 60",
          "Track: Drunk<br>Popularity: 60",
          "Track: Don't<br>Popularity: 59",
          "Track: American Town<br>Popularity: 59",
          "Track: Curtains<br>Popularity: 59",
          "Track: First Times<br>Popularity: 59",
          "Track: I'm a Mess<br>Popularity: 59",
          "Track: Boat<br>Popularity: 58",
          "Track: One<br>Popularity: 58",
          "Track: You Need Me, I Don't Need You<br>Popularity: 58",
          "Track: Cross Me (feat. Chance the Rapper & PnB Rock)<br>Popularity: 58",
          "Track: Small Bump<br>Popularity: 58",
          "Track: Put It All on Me (feat. Ella Mai)<br>Popularity: 58",
          "Track: Best Part of Me (feat. YEBBA)<br>Popularity: 58",
          "Track: BLOW (with Chris Stapleton & Bruno Mars)<br>Popularity: 57",
          "Track: End Of Youth<br>Popularity: 56",
          "Track: Life Goes On<br>Popularity: 56",
          "Track: Tides<br>Popularity: 55",
          "Track: Afire Love<br>Popularity: 55",
          "Track: Collide<br>Popularity: 55",
          "Track: The Hills of Aberfeldy<br>Popularity: 54",
          "Track: Runaway<br>Popularity: 54",
          "Track: Vega<br>Popularity: 53",
          "Track: Magical<br>Popularity: 53",
          "Track: Love In Slow Motion<br>Popularity: 53",
          "Track: Tenerife Sea<br>Popularity: 53",
          "Track: Dusty<br>Popularity: 52",
          "Track: Colourblind<br>Popularity: 52",
          "Track: Stop The Rain<br>Popularity: 52",
          "Track: Salt Water<br>Popularity: 52",
          "Track: Autumn Leaves - Deluxe Edition<br>Popularity: 52",
          "Track: All of the Stars<br>Popularity: 51",
          "Track: The Joker And The Queen (feat. Taylor Swift)<br>Popularity: 51",
          "Track: One Life<br>Popularity: 51",
          "Track: Blue<br>Popularity: 50",
          "Track: Wake Me Up<br>Popularity: 50",
          "Track: U.N.I.<br>Popularity: 50",
          "Track: Afterglow<br>Popularity: 50",
          "Track: Shivers - Live<br>Popularity: 47",
          "Track: Castle on the Hill - Live<br>Popularity: 47",
          "Track: Cold Coffee<br>Popularity: 47",
          "Track: 2step (feat. Lil Baby)<br>Popularity: 47",
          "Track: Sing<br>Popularity: 47",
          "Track: Tides - Live<br>Popularity: 46",
          "Track: Don't/Nina Medley - Live<br>Popularity: 46",
          "Track: I See Fire - Live<br>Popularity: 45",
          "Track: The A Team - Live<br>Popularity: 45",
          "Track: Lego House - Live<br>Popularity: 44",
          "Track: Dive - Live<br>Popularity: 44",
          "Track: Eyes Closed - Live<br>Popularity: 44",
          "Track: Give Me Love<br>Popularity: 44",
          "Track: BLOW - Live<br>Popularity: 44",
          "Track: One<br>Popularity: 43",
          "Track: Plastic Bag<br>Popularity: 42",
          "Track: That’s On Me<br>Popularity: 41",
          "Track: Amazing<br>Popularity: 41",
          "Track: Punchline<br>Popularity: 41",
          "Track: Spring<br>Popularity: 41",
          "Track: She<br>Popularity: 41",
          "Track: Bloodstream<br>Popularity: 40",
          "Track: Firefly<br>Popularity: 40",
          "Track: England<br>Popularity: 40",
          "Track: Page<br>Popularity: 39",
          "Track: American Town<br>Popularity: 39",
          "Track: I'm a Mess<br>Popularity: 38",
          "Track: One Night<br>Popularity: 38",
          "Track: Little Lady (feat. Mikill Pane)<br>Popularity: 38",
          "Track: Fall<br>Popularity: 38",
          "Track: So<br>Popularity: 38",
          "Track: Touch and Go<br>Popularity: 38",
          "Track: 2step (feat. Leto)<br>Popularity: 37",
          "Track: Let It Out<br>Popularity: 37",
          "Track: Firefly<br>Popularity: 37",
          "Track: The A Team<br>Popularity: 37",
          "Track: Sunburn<br>Popularity: 36",
          "Track: Be Like You<br>Popularity: 36",
          "Track: Where We Land<br>Popularity: 36",
          "Track: Magical<br>Popularity: 36",
          "Track: Lego House<br>Popularity: 35",
          "Track: Little Bird<br>Popularity: 35",
          "Track: I Don't Care<br>Popularity: 35",
          "Track: I Will Remember You<br>Popularity: 35",
          "Track: Penguins<br>Popularity: 35",
          "Track: Don't<br>Popularity: 35",
          "Track: Galway Girl<br>Popularity: 34",
          "Track: 2step (feat. 1.Cuz)<br>Popularity: 34",
          "Track: 2step (feat. Quevedo)<br>Popularity: 34",
          "Track: Homeless<br>Popularity: 34",
          "Track: Don't<br>Popularity: 34",
          "Track: Little Bird<br>Popularity: 34",
          "Track: Photograph<br>Popularity: 34",
          "Track: Photograph<br>Popularity: 34",
          "Track: Shape of You<br>Popularity: 34",
          "Track: One<br>Popularity: 34",
          "Track: You Need Me, I Don't Need You<br>Popularity: 34",
          "Track: Thinking out Loud<br>Popularity: 34",
          "Track: Sofa<br>Popularity: 33",
          "Track: Blue<br>Popularity: 33",
          "Track: Tenerife Sea<br>Popularity: 33",
          "Track: Radio (feat. JME)<br>Popularity: 33",
          "Track: Thinking out Loud<br>Popularity: 33",
          "Track: Sing<br>Popularity: 33",
          "Track: Plastic Bag<br>Popularity: 33",
          "Track: Lately (feat. Devlin)<br>Popularity: 32",
          "Track: I'm a Mess<br>Popularity: 32",
          "Track: That’s On Me<br>Popularity: 32",
          "Track: Sing<br>Popularity: 32",
          "Track: Amazing<br>Popularity: 32",
          "Track: Bloodstream<br>Popularity: 32",
          "Track: England<br>Popularity: 31",
          "Track: Shivers<br>Popularity: 31",
          "Track: Welcome To The World<br>Popularity: 31",
          "Track: 2step (feat. Antytila)<br>Popularity: 31",
          "Track: 2step (feat. Ultimo)<br>Popularity: 31",
          "Track: Spring<br>Popularity: 31",
          "Track: Wake Me Up - Live at the Bedford<br>Popularity: 30",
          "Track: Family (feat. P Money)<br>Popularity: 30",
          "Track: 2step (feat. Armaan Malik)<br>Popularity: 30",
          "Track: Punchline<br>Popularity: 30",
          "Track: Page<br>Popularity: 30",
          "Track: You (feat. Wiley)<br>Popularity: 30",
          "Track: 2step (feat. Budjerah)<br>Popularity: 29",
          "Track: Bad Habits<br>Popularity: 29",
          "Track: You Need Me, I Don't Need You - Live at the Bedford<br>Popularity: 29",
          "Track: 2step (feat. Chefin)<br>Popularity: 28",
          "Track: Overpass Graffiti<br>Popularity: 28",
          "Track: Nightmares (feat. Random Impulse, Sway & Wretch 32)<br>Popularity: 28",
          "Track: The City - Live at Sticky Studios; Loose Change EP<br>Popularity: 28",
          "Track: 2step (feat. Potter Payper)<br>Popularity: 28",
          "Track: First Times<br>Popularity: 27",
          "Track: The A Team - Live at the Bedford<br>Popularity: 27",
          "Track: Drown Me Out (feat. Ghetts) - + Ghetts<br>Popularity: 27",
          "Track: Goodbye to You (feat. Dot Rotten)<br>Popularity: 27",
          "Track: Fall - Live at the Bedford<br>Popularity: 25",
          "Track: Homeless - Live at the Bedford<br>Popularity: 25",
          "Track: Firefly - Bravado Dubstep Remix<br>Popularity: 24",
          "Track: The City - Live at the Bedford<br>Popularity: 23"
         ],
         "marker": {
          "color": [
           "blue",
           "blue",
           "blue",
           "gray",
           "gray",
           "gray",
           "gray",
           "gray",
           "gray",
           "gray",
           "gray",
           "gray",
           "gray",
           "gray",
           "gray",
           "gray",
           "gray",
           "gray",
           "gray",
           "gray",
           "gray",
           "gray",
           "gray",
           "gray",
           "gray",
           "gray",
           "gray",
           "gray",
           "gray",
           "gray",
           "gray",
           "gray",
           "gray",
           "gray",
           "gray",
           "gray",
           "gray",
           "gray",
           "gray",
           "gray",
           "gray",
           "gray",
           "gray",
           "gray",
           "gray",
           "gray",
           "gray",
           "gray",
           "gray",
           "gray",
           "gray",
           "gray",
           "gray",
           "gray",
           "gray",
           "gray",
           "gray",
           "gray",
           "gray",
           "gray",
           "gray",
           "gray",
           "gray",
           "gray",
           "gray",
           "gray",
           "gray",
           "gray",
           "gray",
           "gray",
           "gray",
           "gray",
           "gray",
           "gray",
           "gray",
           "gray",
           "gray",
           "gray",
           "gray",
           "gray",
           "gray",
           "gray",
           "gray",
           "gray",
           "gray",
           "gray",
           "gray",
           "gray",
           "gray",
           "gray",
           "gray",
           "gray",
           "gray",
           "gray",
           "gray",
           "gray",
           "gray",
           "gray",
           "gray",
           "gray",
           "gray",
           "gray",
           "gray",
           "gray",
           "gray",
           "gray",
           "gray",
           "gray",
           "gray",
           "gray",
           "gray",
           "gray",
           "gray",
           "gray",
           "gray",
           "gray",
           "gray",
           "gray",
           "gray",
           "gray",
           "gray",
           "gray",
           "gray",
           "gray",
           "gray",
           "gray",
           "gray",
           "gray",
           "gray",
           "gray",
           "gray",
           "gray",
           "gray",
           "gray",
           "gray",
           "gray",
           "gray",
           "gray",
           "gray",
           "gray",
           "gray",
           "gray",
           "gray",
           "gray",
           "gray",
           "gray",
           "gray",
           "gray",
           "gray",
           "gray",
           "gray",
           "gray",
           "gray",
           "gray",
           "gray",
           "gray",
           "gray",
           "gray",
           "gray",
           "gray",
           "gray",
           "gray",
           "gray",
           "gray",
           "gray",
           "gray",
           "gray",
           "gray",
           "gray",
           "gray",
           "gray",
           "gray"
          ]
         },
         "text": [
          87,
          87,
          86,
          83,
          82,
          80,
          78,
          78,
          76,
          75,
          73,
          72,
          72,
          71,
          70,
          70,
          70,
          70,
          68,
          68,
          67,
          67,
          67,
          66,
          66,
          66,
          65,
          65,
          64,
          64,
          63,
          63,
          62,
          62,
          61,
          60,
          60,
          59,
          59,
          59,
          59,
          59,
          58,
          58,
          58,
          58,
          58,
          58,
          58,
          57,
          56,
          56,
          55,
          55,
          55,
          54,
          54,
          53,
          53,
          53,
          53,
          52,
          52,
          52,
          52,
          52,
          51,
          51,
          51,
          50,
          50,
          50,
          50,
          47,
          47,
          47,
          47,
          47,
          46,
          46,
          45,
          45,
          44,
          44,
          44,
          44,
          44,
          43,
          42,
          41,
          41,
          41,
          41,
          41,
          40,
          40,
          40,
          39,
          39,
          38,
          38,
          38,
          38,
          38,
          38,
          37,
          37,
          37,
          37,
          36,
          36,
          36,
          36,
          35,
          35,
          35,
          35,
          35,
          35,
          34,
          34,
          34,
          34,
          34,
          34,
          34,
          34,
          34,
          34,
          34,
          34,
          33,
          33,
          33,
          33,
          33,
          33,
          33,
          32,
          32,
          32,
          32,
          32,
          32,
          31,
          31,
          31,
          31,
          31,
          31,
          30,
          30,
          30,
          30,
          30,
          30,
          29,
          29,
          29,
          28,
          28,
          28,
          28,
          28,
          27,
          27,
          27,
          27,
          25,
          25,
          24,
          23
         ],
         "textposition": "inside",
         "type": "bar",
         "x": [
          "Shape of You",
          "Perfect",
          "Photograph",
          "Shivers",
          "Thinking out Loud",
          "Bad Habits",
          "Castle on the Hill",
          "Galway Girl",
          "I Don't Care (with Justin Bieber)",
          "Happier",
          "Supermarket Flowers",
          "Eyes Closed",
          "Dive",
          "South of the Border (feat. Camila Cabello & Cardi B)",
          "Beautiful People (feat. Khalid)",
          "Lego House",
          "Don't",
          "Photograph",
          "Give Me Love",
          "I See Fire",
          "Tenerife Sea",
          "Thinking out Loud",
          "Sing",
          "Overpass Graffiti",
          "Kiss Me",
          "Visiting Hours",
          "The A Team",
          "Remember The Name (feat. Eminem & 50 Cent)",
          "Nancy Mulligan",
          "What Do I Know?",
          "2step",
          "How Would You Feel (Paean)",
          "Bloodstream",
          "All of the Stars",
          "Take Me Back to London (feat. Stormzy)",
          "Antisocial (with Travis Scott)",
          "Drunk",
          "Don't",
          "American Town",
          "Curtains",
          "First Times",
          "I'm a Mess",
          "Boat",
          "One",
          "You Need Me, I Don't Need You",
          "Cross Me (feat. Chance the Rapper & PnB Rock)",
          "Small Bump",
          "Put It All on Me (feat. Ella Mai)",
          "Best Part of Me (feat. YEBBA)",
          "BLOW (with Chris Stapleton & Bruno Mars)",
          "End Of Youth",
          "Life Goes On",
          "Tides",
          "Afire Love",
          "Collide",
          "The Hills of Aberfeldy",
          "Runaway",
          "Vega",
          "Magical",
          "Love In Slow Motion",
          "Tenerife Sea",
          "Dusty",
          "Colourblind",
          "Stop The Rain",
          "Salt Water",
          "Autumn Leaves - Deluxe Edition",
          "All of the Stars",
          "The Joker And The Queen (feat. Taylor Swift)",
          "One Life",
          "Blue",
          "Wake Me Up",
          "U.N.I.",
          "Afterglow",
          "Shivers - Live",
          "Castle on the Hill - Live",
          "Cold Coffee",
          "2step (feat. Lil Baby)",
          "Sing",
          "Tides - Live",
          "Don't/Nina Medley - Live",
          "I See Fire - Live",
          "The A Team - Live",
          "Lego House - Live",
          "Dive - Live",
          "Eyes Closed - Live",
          "Give Me Love",
          "BLOW - Live",
          "One",
          "Plastic Bag",
          "That’s On Me",
          "Amazing",
          "Punchline",
          "Spring",
          "She",
          "Bloodstream",
          "Firefly",
          "England",
          "Page",
          "American Town",
          "I'm a Mess",
          "One Night",
          "Little Lady (feat. Mikill Pane)",
          "Fall",
          "So",
          "Touch and Go",
          "2step (feat. Leto)",
          "Let It Out",
          "Firefly",
          "The A Team",
          "Sunburn",
          "Be Like You",
          "Where We Land",
          "Magical",
          "Lego House",
          "Little Bird",
          "I Don't Care",
          "I Will Remember You",
          "Penguins",
          "Don't",
          "Galway Girl",
          "2step (feat. 1.Cuz)",
          "2step (feat. Quevedo)",
          "Homeless",
          "Don't",
          "Little Bird",
          "Photograph",
          "Photograph",
          "Shape of You",
          "One",
          "You Need Me, I Don't Need You",
          "Thinking out Loud",
          "Sofa",
          "Blue",
          "Tenerife Sea",
          "Radio (feat. JME)",
          "Thinking out Loud",
          "Sing",
          "Plastic Bag",
          "Lately (feat. Devlin)",
          "I'm a Mess",
          "That’s On Me",
          "Sing",
          "Amazing",
          "Bloodstream",
          "England",
          "Shivers",
          "Welcome To The World",
          "2step (feat. Antytila)",
          "2step (feat. Ultimo)",
          "Spring",
          "Wake Me Up - Live at the Bedford",
          "Family (feat. P Money)",
          "2step (feat. Armaan Malik)",
          "Punchline",
          "Page",
          "You (feat. Wiley)",
          "2step (feat. Budjerah)",
          "Bad Habits",
          "You Need Me, I Don't Need You - Live at the Bedford",
          "2step (feat. Chefin)",
          "Overpass Graffiti",
          "Nightmares (feat. Random Impulse, Sway & Wretch 32)",
          "The City - Live at Sticky Studios; Loose Change EP",
          "2step (feat. Potter Payper)",
          "First Times",
          "The A Team - Live at the Bedford",
          "Drown Me Out (feat. Ghetts) - + Ghetts",
          "Goodbye to You (feat. Dot Rotten)",
          "Fall - Live at the Bedford",
          "Homeless - Live at the Bedford",
          "Firefly - Bravado Dubstep Remix",
          "The City - Live at the Bedford"
         ],
         "y": [
          87,
          87,
          86,
          83,
          82,
          80,
          78,
          78,
          76,
          75,
          73,
          72,
          72,
          71,
          70,
          70,
          70,
          70,
          68,
          68,
          67,
          67,
          67,
          66,
          66,
          66,
          65,
          65,
          64,
          64,
          63,
          63,
          62,
          62,
          61,
          60,
          60,
          59,
          59,
          59,
          59,
          59,
          58,
          58,
          58,
          58,
          58,
          58,
          58,
          57,
          56,
          56,
          55,
          55,
          55,
          54,
          54,
          53,
          53,
          53,
          53,
          52,
          52,
          52,
          52,
          52,
          51,
          51,
          51,
          50,
          50,
          50,
          50,
          47,
          47,
          47,
          47,
          47,
          46,
          46,
          45,
          45,
          44,
          44,
          44,
          44,
          44,
          43,
          42,
          41,
          41,
          41,
          41,
          41,
          40,
          40,
          40,
          39,
          39,
          38,
          38,
          38,
          38,
          38,
          38,
          37,
          37,
          37,
          37,
          36,
          36,
          36,
          36,
          35,
          35,
          35,
          35,
          35,
          35,
          34,
          34,
          34,
          34,
          34,
          34,
          34,
          34,
          34,
          34,
          34,
          34,
          33,
          33,
          33,
          33,
          33,
          33,
          33,
          32,
          32,
          32,
          32,
          32,
          32,
          31,
          31,
          31,
          31,
          31,
          31,
          30,
          30,
          30,
          30,
          30,
          30,
          29,
          29,
          29,
          28,
          28,
          28,
          28,
          28,
          27,
          27,
          27,
          27,
          25,
          25,
          24,
          23
         ]
        }
       ],
       "layout": {
        "template": {
         "data": {
          "bar": [
           {
            "error_x": {
             "color": "#2a3f5f"
            },
            "error_y": {
             "color": "#2a3f5f"
            },
            "marker": {
             "line": {
              "color": "#E5ECF6",
              "width": 0.5
             },
             "pattern": {
              "fillmode": "overlay",
              "size": 10,
              "solidity": 0.2
             }
            },
            "type": "bar"
           }
          ],
          "barpolar": [
           {
            "marker": {
             "line": {
              "color": "#E5ECF6",
              "width": 0.5
             },
             "pattern": {
              "fillmode": "overlay",
              "size": 10,
              "solidity": 0.2
             }
            },
            "type": "barpolar"
           }
          ],
          "carpet": [
           {
            "aaxis": {
             "endlinecolor": "#2a3f5f",
             "gridcolor": "white",
             "linecolor": "white",
             "minorgridcolor": "white",
             "startlinecolor": "#2a3f5f"
            },
            "baxis": {
             "endlinecolor": "#2a3f5f",
             "gridcolor": "white",
             "linecolor": "white",
             "minorgridcolor": "white",
             "startlinecolor": "#2a3f5f"
            },
            "type": "carpet"
           }
          ],
          "choropleth": [
           {
            "colorbar": {
             "outlinewidth": 0,
             "ticks": ""
            },
            "type": "choropleth"
           }
          ],
          "contour": [
           {
            "colorbar": {
             "outlinewidth": 0,
             "ticks": ""
            },
            "colorscale": [
             [
              0,
              "#0d0887"
             ],
             [
              0.1111111111111111,
              "#46039f"
             ],
             [
              0.2222222222222222,
              "#7201a8"
             ],
             [
              0.3333333333333333,
              "#9c179e"
             ],
             [
              0.4444444444444444,
              "#bd3786"
             ],
             [
              0.5555555555555556,
              "#d8576b"
             ],
             [
              0.6666666666666666,
              "#ed7953"
             ],
             [
              0.7777777777777778,
              "#fb9f3a"
             ],
             [
              0.8888888888888888,
              "#fdca26"
             ],
             [
              1,
              "#f0f921"
             ]
            ],
            "type": "contour"
           }
          ],
          "contourcarpet": [
           {
            "colorbar": {
             "outlinewidth": 0,
             "ticks": ""
            },
            "type": "contourcarpet"
           }
          ],
          "heatmap": [
           {
            "colorbar": {
             "outlinewidth": 0,
             "ticks": ""
            },
            "colorscale": [
             [
              0,
              "#0d0887"
             ],
             [
              0.1111111111111111,
              "#46039f"
             ],
             [
              0.2222222222222222,
              "#7201a8"
             ],
             [
              0.3333333333333333,
              "#9c179e"
             ],
             [
              0.4444444444444444,
              "#bd3786"
             ],
             [
              0.5555555555555556,
              "#d8576b"
             ],
             [
              0.6666666666666666,
              "#ed7953"
             ],
             [
              0.7777777777777778,
              "#fb9f3a"
             ],
             [
              0.8888888888888888,
              "#fdca26"
             ],
             [
              1,
              "#f0f921"
             ]
            ],
            "type": "heatmap"
           }
          ],
          "heatmapgl": [
           {
            "colorbar": {
             "outlinewidth": 0,
             "ticks": ""
            },
            "colorscale": [
             [
              0,
              "#0d0887"
             ],
             [
              0.1111111111111111,
              "#46039f"
             ],
             [
              0.2222222222222222,
              "#7201a8"
             ],
             [
              0.3333333333333333,
              "#9c179e"
             ],
             [
              0.4444444444444444,
              "#bd3786"
             ],
             [
              0.5555555555555556,
              "#d8576b"
             ],
             [
              0.6666666666666666,
              "#ed7953"
             ],
             [
              0.7777777777777778,
              "#fb9f3a"
             ],
             [
              0.8888888888888888,
              "#fdca26"
             ],
             [
              1,
              "#f0f921"
             ]
            ],
            "type": "heatmapgl"
           }
          ],
          "histogram": [
           {
            "marker": {
             "pattern": {
              "fillmode": "overlay",
              "size": 10,
              "solidity": 0.2
             }
            },
            "type": "histogram"
           }
          ],
          "histogram2d": [
           {
            "colorbar": {
             "outlinewidth": 0,
             "ticks": ""
            },
            "colorscale": [
             [
              0,
              "#0d0887"
             ],
             [
              0.1111111111111111,
              "#46039f"
             ],
             [
              0.2222222222222222,
              "#7201a8"
             ],
             [
              0.3333333333333333,
              "#9c179e"
             ],
             [
              0.4444444444444444,
              "#bd3786"
             ],
             [
              0.5555555555555556,
              "#d8576b"
             ],
             [
              0.6666666666666666,
              "#ed7953"
             ],
             [
              0.7777777777777778,
              "#fb9f3a"
             ],
             [
              0.8888888888888888,
              "#fdca26"
             ],
             [
              1,
              "#f0f921"
             ]
            ],
            "type": "histogram2d"
           }
          ],
          "histogram2dcontour": [
           {
            "colorbar": {
             "outlinewidth": 0,
             "ticks": ""
            },
            "colorscale": [
             [
              0,
              "#0d0887"
             ],
             [
              0.1111111111111111,
              "#46039f"
             ],
             [
              0.2222222222222222,
              "#7201a8"
             ],
             [
              0.3333333333333333,
              "#9c179e"
             ],
             [
              0.4444444444444444,
              "#bd3786"
             ],
             [
              0.5555555555555556,
              "#d8576b"
             ],
             [
              0.6666666666666666,
              "#ed7953"
             ],
             [
              0.7777777777777778,
              "#fb9f3a"
             ],
             [
              0.8888888888888888,
              "#fdca26"
             ],
             [
              1,
              "#f0f921"
             ]
            ],
            "type": "histogram2dcontour"
           }
          ],
          "mesh3d": [
           {
            "colorbar": {
             "outlinewidth": 0,
             "ticks": ""
            },
            "type": "mesh3d"
           }
          ],
          "parcoords": [
           {
            "line": {
             "colorbar": {
              "outlinewidth": 0,
              "ticks": ""
             }
            },
            "type": "parcoords"
           }
          ],
          "pie": [
           {
            "automargin": true,
            "type": "pie"
           }
          ],
          "scatter": [
           {
            "fillpattern": {
             "fillmode": "overlay",
             "size": 10,
             "solidity": 0.2
            },
            "type": "scatter"
           }
          ],
          "scatter3d": [
           {
            "line": {
             "colorbar": {
              "outlinewidth": 0,
              "ticks": ""
             }
            },
            "marker": {
             "colorbar": {
              "outlinewidth": 0,
              "ticks": ""
             }
            },
            "type": "scatter3d"
           }
          ],
          "scattercarpet": [
           {
            "marker": {
             "colorbar": {
              "outlinewidth": 0,
              "ticks": ""
             }
            },
            "type": "scattercarpet"
           }
          ],
          "scattergeo": [
           {
            "marker": {
             "colorbar": {
              "outlinewidth": 0,
              "ticks": ""
             }
            },
            "type": "scattergeo"
           }
          ],
          "scattergl": [
           {
            "marker": {
             "colorbar": {
              "outlinewidth": 0,
              "ticks": ""
             }
            },
            "type": "scattergl"
           }
          ],
          "scattermapbox": [
           {
            "marker": {
             "colorbar": {
              "outlinewidth": 0,
              "ticks": ""
             }
            },
            "type": "scattermapbox"
           }
          ],
          "scatterpolar": [
           {
            "marker": {
             "colorbar": {
              "outlinewidth": 0,
              "ticks": ""
             }
            },
            "type": "scatterpolar"
           }
          ],
          "scatterpolargl": [
           {
            "marker": {
             "colorbar": {
              "outlinewidth": 0,
              "ticks": ""
             }
            },
            "type": "scatterpolargl"
           }
          ],
          "scatterternary": [
           {
            "marker": {
             "colorbar": {
              "outlinewidth": 0,
              "ticks": ""
             }
            },
            "type": "scatterternary"
           }
          ],
          "surface": [
           {
            "colorbar": {
             "outlinewidth": 0,
             "ticks": ""
            },
            "colorscale": [
             [
              0,
              "#0d0887"
             ],
             [
              0.1111111111111111,
              "#46039f"
             ],
             [
              0.2222222222222222,
              "#7201a8"
             ],
             [
              0.3333333333333333,
              "#9c179e"
             ],
             [
              0.4444444444444444,
              "#bd3786"
             ],
             [
              0.5555555555555556,
              "#d8576b"
             ],
             [
              0.6666666666666666,
              "#ed7953"
             ],
             [
              0.7777777777777778,
              "#fb9f3a"
             ],
             [
              0.8888888888888888,
              "#fdca26"
             ],
             [
              1,
              "#f0f921"
             ]
            ],
            "type": "surface"
           }
          ],
          "table": [
           {
            "cells": {
             "fill": {
              "color": "#EBF0F8"
             },
             "line": {
              "color": "white"
             }
            },
            "header": {
             "fill": {
              "color": "#C8D4E3"
             },
             "line": {
              "color": "white"
             }
            },
            "type": "table"
           }
          ]
         },
         "layout": {
          "annotationdefaults": {
           "arrowcolor": "#2a3f5f",
           "arrowhead": 0,
           "arrowwidth": 1
          },
          "autotypenumbers": "strict",
          "coloraxis": {
           "colorbar": {
            "outlinewidth": 0,
            "ticks": ""
           }
          },
          "colorscale": {
           "diverging": [
            [
             0,
             "#8e0152"
            ],
            [
             0.1,
             "#c51b7d"
            ],
            [
             0.2,
             "#de77ae"
            ],
            [
             0.3,
             "#f1b6da"
            ],
            [
             0.4,
             "#fde0ef"
            ],
            [
             0.5,
             "#f7f7f7"
            ],
            [
             0.6,
             "#e6f5d0"
            ],
            [
             0.7,
             "#b8e186"
            ],
            [
             0.8,
             "#7fbc41"
            ],
            [
             0.9,
             "#4d9221"
            ],
            [
             1,
             "#276419"
            ]
           ],
           "sequential": [
            [
             0,
             "#0d0887"
            ],
            [
             0.1111111111111111,
             "#46039f"
            ],
            [
             0.2222222222222222,
             "#7201a8"
            ],
            [
             0.3333333333333333,
             "#9c179e"
            ],
            [
             0.4444444444444444,
             "#bd3786"
            ],
            [
             0.5555555555555556,
             "#d8576b"
            ],
            [
             0.6666666666666666,
             "#ed7953"
            ],
            [
             0.7777777777777778,
             "#fb9f3a"
            ],
            [
             0.8888888888888888,
             "#fdca26"
            ],
            [
             1,
             "#f0f921"
            ]
           ],
           "sequentialminus": [
            [
             0,
             "#0d0887"
            ],
            [
             0.1111111111111111,
             "#46039f"
            ],
            [
             0.2222222222222222,
             "#7201a8"
            ],
            [
             0.3333333333333333,
             "#9c179e"
            ],
            [
             0.4444444444444444,
             "#bd3786"
            ],
            [
             0.5555555555555556,
             "#d8576b"
            ],
            [
             0.6666666666666666,
             "#ed7953"
            ],
            [
             0.7777777777777778,
             "#fb9f3a"
            ],
            [
             0.8888888888888888,
             "#fdca26"
            ],
            [
             1,
             "#f0f921"
            ]
           ]
          },
          "colorway": [
           "#636efa",
           "#EF553B",
           "#00cc96",
           "#ab63fa",
           "#FFA15A",
           "#19d3f3",
           "#FF6692",
           "#B6E880",
           "#FF97FF",
           "#FECB52"
          ],
          "font": {
           "color": "#2a3f5f"
          },
          "geo": {
           "bgcolor": "white",
           "lakecolor": "white",
           "landcolor": "#E5ECF6",
           "showlakes": true,
           "showland": true,
           "subunitcolor": "white"
          },
          "hoverlabel": {
           "align": "left"
          },
          "hovermode": "closest",
          "mapbox": {
           "style": "light"
          },
          "paper_bgcolor": "white",
          "plot_bgcolor": "#E5ECF6",
          "polar": {
           "angularaxis": {
            "gridcolor": "white",
            "linecolor": "white",
            "ticks": ""
           },
           "bgcolor": "#E5ECF6",
           "radialaxis": {
            "gridcolor": "white",
            "linecolor": "white",
            "ticks": ""
           }
          },
          "scene": {
           "xaxis": {
            "backgroundcolor": "#E5ECF6",
            "gridcolor": "white",
            "gridwidth": 2,
            "linecolor": "white",
            "showbackground": true,
            "ticks": "",
            "zerolinecolor": "white"
           },
           "yaxis": {
            "backgroundcolor": "#E5ECF6",
            "gridcolor": "white",
            "gridwidth": 2,
            "linecolor": "white",
            "showbackground": true,
            "ticks": "",
            "zerolinecolor": "white"
           },
           "zaxis": {
            "backgroundcolor": "#E5ECF6",
            "gridcolor": "white",
            "gridwidth": 2,
            "linecolor": "white",
            "showbackground": true,
            "ticks": "",
            "zerolinecolor": "white"
           }
          },
          "shapedefaults": {
           "line": {
            "color": "#2a3f5f"
           }
          },
          "ternary": {
           "aaxis": {
            "gridcolor": "white",
            "linecolor": "white",
            "ticks": ""
           },
           "baxis": {
            "gridcolor": "white",
            "linecolor": "white",
            "ticks": ""
           },
           "bgcolor": "#E5ECF6",
           "caxis": {
            "gridcolor": "white",
            "linecolor": "white",
            "ticks": ""
           }
          },
          "title": {
           "x": 0.05
          },
          "xaxis": {
           "automargin": true,
           "gridcolor": "white",
           "linecolor": "white",
           "ticks": "",
           "title": {
            "standoff": 15
           },
           "zerolinecolor": "white",
           "zerolinewidth": 2
          },
          "yaxis": {
           "automargin": true,
           "gridcolor": "white",
           "linecolor": "white",
           "ticks": "",
           "title": {
            "standoff": 15
           },
           "zerolinecolor": "white",
           "zerolinewidth": 2
          }
         }
        },
        "title": {
         "text": "Top 10 Tracks - All"
        },
        "xaxis": {
         "tickangle": -45,
         "title": {
          "text": "Track Name"
         }
        },
        "yaxis": {
         "title": {
          "text": "Popularity"
         }
        }
       }
      },
      "text/html": [
       "<div>                            <div id=\"85f6176c-cf60-47b0-b715-0eed8a90b731\" class=\"plotly-graph-div\" style=\"height:525px; width:100%;\"></div>            <script type=\"text/javascript\">                require([\"plotly\"], function(Plotly) {                    window.PLOTLYENV=window.PLOTLYENV || {};                                    if (document.getElementById(\"85f6176c-cf60-47b0-b715-0eed8a90b731\")) {                    Plotly.newPlot(                        \"85f6176c-cf60-47b0-b715-0eed8a90b731\",                        [{\"hoverinfo\":\"text\",\"hovertext\":[\"Track: Shape of You\\u003cbr\\u003ePopularity: 87\",\"Track: Perfect\\u003cbr\\u003ePopularity: 87\",\"Track: Photograph\\u003cbr\\u003ePopularity: 86\",\"Track: Shivers\\u003cbr\\u003ePopularity: 83\",\"Track: Thinking out Loud\\u003cbr\\u003ePopularity: 82\",\"Track: Bad Habits\\u003cbr\\u003ePopularity: 80\",\"Track: Castle on the Hill\\u003cbr\\u003ePopularity: 78\",\"Track: Galway Girl\\u003cbr\\u003ePopularity: 78\",\"Track: I Don't Care (with Justin Bieber)\\u003cbr\\u003ePopularity: 76\",\"Track: Happier\\u003cbr\\u003ePopularity: 75\",\"Track: Supermarket Flowers\\u003cbr\\u003ePopularity: 73\",\"Track: Eyes Closed\\u003cbr\\u003ePopularity: 72\",\"Track: Dive\\u003cbr\\u003ePopularity: 72\",\"Track: South of the Border (feat. Camila Cabello & Cardi B)\\u003cbr\\u003ePopularity: 71\",\"Track: Beautiful People (feat. Khalid)\\u003cbr\\u003ePopularity: 70\",\"Track: Lego House\\u003cbr\\u003ePopularity: 70\",\"Track: Don't\\u003cbr\\u003ePopularity: 70\",\"Track: Photograph\\u003cbr\\u003ePopularity: 70\",\"Track: Give Me Love\\u003cbr\\u003ePopularity: 68\",\"Track: I See Fire\\u003cbr\\u003ePopularity: 68\",\"Track: Tenerife Sea\\u003cbr\\u003ePopularity: 67\",\"Track: Thinking out Loud\\u003cbr\\u003ePopularity: 67\",\"Track: Sing\\u003cbr\\u003ePopularity: 67\",\"Track: Overpass Graffiti\\u003cbr\\u003ePopularity: 66\",\"Track: Kiss Me\\u003cbr\\u003ePopularity: 66\",\"Track: Visiting Hours\\u003cbr\\u003ePopularity: 66\",\"Track: The A Team\\u003cbr\\u003ePopularity: 65\",\"Track: Remember The Name (feat. Eminem & 50 Cent)\\u003cbr\\u003ePopularity: 65\",\"Track: Nancy Mulligan\\u003cbr\\u003ePopularity: 64\",\"Track: What Do I Know?\\u003cbr\\u003ePopularity: 64\",\"Track: 2step\\u003cbr\\u003ePopularity: 63\",\"Track: How Would You Feel (Paean)\\u003cbr\\u003ePopularity: 63\",\"Track: Bloodstream\\u003cbr\\u003ePopularity: 62\",\"Track: All of the Stars\\u003cbr\\u003ePopularity: 62\",\"Track: Take Me Back to London (feat. Stormzy)\\u003cbr\\u003ePopularity: 61\",\"Track: Antisocial (with Travis Scott)\\u003cbr\\u003ePopularity: 60\",\"Track: Drunk\\u003cbr\\u003ePopularity: 60\",\"Track: Don't\\u003cbr\\u003ePopularity: 59\",\"Track: American Town\\u003cbr\\u003ePopularity: 59\",\"Track: Curtains\\u003cbr\\u003ePopularity: 59\",\"Track: First Times\\u003cbr\\u003ePopularity: 59\",\"Track: I'm a Mess\\u003cbr\\u003ePopularity: 59\",\"Track: Boat\\u003cbr\\u003ePopularity: 58\",\"Track: One\\u003cbr\\u003ePopularity: 58\",\"Track: You Need Me, I Don't Need You\\u003cbr\\u003ePopularity: 58\",\"Track: Cross Me (feat. Chance the Rapper & PnB Rock)\\u003cbr\\u003ePopularity: 58\",\"Track: Small Bump\\u003cbr\\u003ePopularity: 58\",\"Track: Put It All on Me (feat. Ella Mai)\\u003cbr\\u003ePopularity: 58\",\"Track: Best Part of Me (feat. YEBBA)\\u003cbr\\u003ePopularity: 58\",\"Track: BLOW (with Chris Stapleton & Bruno Mars)\\u003cbr\\u003ePopularity: 57\",\"Track: End Of Youth\\u003cbr\\u003ePopularity: 56\",\"Track: Life Goes On\\u003cbr\\u003ePopularity: 56\",\"Track: Tides\\u003cbr\\u003ePopularity: 55\",\"Track: Afire Love\\u003cbr\\u003ePopularity: 55\",\"Track: Collide\\u003cbr\\u003ePopularity: 55\",\"Track: The Hills of Aberfeldy\\u003cbr\\u003ePopularity: 54\",\"Track: Runaway\\u003cbr\\u003ePopularity: 54\",\"Track: Vega\\u003cbr\\u003ePopularity: 53\",\"Track: Magical\\u003cbr\\u003ePopularity: 53\",\"Track: Love In Slow Motion\\u003cbr\\u003ePopularity: 53\",\"Track: Tenerife Sea\\u003cbr\\u003ePopularity: 53\",\"Track: Dusty\\u003cbr\\u003ePopularity: 52\",\"Track: Colourblind\\u003cbr\\u003ePopularity: 52\",\"Track: Stop The Rain\\u003cbr\\u003ePopularity: 52\",\"Track: Salt Water\\u003cbr\\u003ePopularity: 52\",\"Track: Autumn Leaves - Deluxe Edition\\u003cbr\\u003ePopularity: 52\",\"Track: All of the Stars\\u003cbr\\u003ePopularity: 51\",\"Track: The Joker And The Queen (feat. Taylor Swift)\\u003cbr\\u003ePopularity: 51\",\"Track: One Life\\u003cbr\\u003ePopularity: 51\",\"Track: Blue\\u003cbr\\u003ePopularity: 50\",\"Track: Wake Me Up\\u003cbr\\u003ePopularity: 50\",\"Track: U.N.I.\\u003cbr\\u003ePopularity: 50\",\"Track: Afterglow\\u003cbr\\u003ePopularity: 50\",\"Track: Shivers - Live\\u003cbr\\u003ePopularity: 47\",\"Track: Castle on the Hill - Live\\u003cbr\\u003ePopularity: 47\",\"Track: Cold Coffee\\u003cbr\\u003ePopularity: 47\",\"Track: 2step (feat. Lil Baby)\\u003cbr\\u003ePopularity: 47\",\"Track: Sing\\u003cbr\\u003ePopularity: 47\",\"Track: Tides - Live\\u003cbr\\u003ePopularity: 46\",\"Track: Don't\\u002fNina Medley - Live\\u003cbr\\u003ePopularity: 46\",\"Track: I See Fire - Live\\u003cbr\\u003ePopularity: 45\",\"Track: The A Team - Live\\u003cbr\\u003ePopularity: 45\",\"Track: Lego House - Live\\u003cbr\\u003ePopularity: 44\",\"Track: Dive - Live\\u003cbr\\u003ePopularity: 44\",\"Track: Eyes Closed - Live\\u003cbr\\u003ePopularity: 44\",\"Track: Give Me Love\\u003cbr\\u003ePopularity: 44\",\"Track: BLOW - Live\\u003cbr\\u003ePopularity: 44\",\"Track: One\\u003cbr\\u003ePopularity: 43\",\"Track: Plastic Bag\\u003cbr\\u003ePopularity: 42\",\"Track: That’s On Me\\u003cbr\\u003ePopularity: 41\",\"Track: Amazing\\u003cbr\\u003ePopularity: 41\",\"Track: Punchline\\u003cbr\\u003ePopularity: 41\",\"Track: Spring\\u003cbr\\u003ePopularity: 41\",\"Track: She\\u003cbr\\u003ePopularity: 41\",\"Track: Bloodstream\\u003cbr\\u003ePopularity: 40\",\"Track: Firefly\\u003cbr\\u003ePopularity: 40\",\"Track: England\\u003cbr\\u003ePopularity: 40\",\"Track: Page\\u003cbr\\u003ePopularity: 39\",\"Track: American Town\\u003cbr\\u003ePopularity: 39\",\"Track: I'm a Mess\\u003cbr\\u003ePopularity: 38\",\"Track: One Night\\u003cbr\\u003ePopularity: 38\",\"Track: Little Lady (feat. Mikill Pane)\\u003cbr\\u003ePopularity: 38\",\"Track: Fall\\u003cbr\\u003ePopularity: 38\",\"Track: So\\u003cbr\\u003ePopularity: 38\",\"Track: Touch and Go\\u003cbr\\u003ePopularity: 38\",\"Track: 2step (feat. Leto)\\u003cbr\\u003ePopularity: 37\",\"Track: Let It Out\\u003cbr\\u003ePopularity: 37\",\"Track: Firefly\\u003cbr\\u003ePopularity: 37\",\"Track: The A Team\\u003cbr\\u003ePopularity: 37\",\"Track: Sunburn\\u003cbr\\u003ePopularity: 36\",\"Track: Be Like You\\u003cbr\\u003ePopularity: 36\",\"Track: Where We Land\\u003cbr\\u003ePopularity: 36\",\"Track: Magical\\u003cbr\\u003ePopularity: 36\",\"Track: Lego House\\u003cbr\\u003ePopularity: 35\",\"Track: Little Bird\\u003cbr\\u003ePopularity: 35\",\"Track: I Don't Care\\u003cbr\\u003ePopularity: 35\",\"Track: I Will Remember You\\u003cbr\\u003ePopularity: 35\",\"Track: Penguins\\u003cbr\\u003ePopularity: 35\",\"Track: Don't\\u003cbr\\u003ePopularity: 35\",\"Track: Galway Girl\\u003cbr\\u003ePopularity: 34\",\"Track: 2step (feat. 1.Cuz)\\u003cbr\\u003ePopularity: 34\",\"Track: 2step (feat. Quevedo)\\u003cbr\\u003ePopularity: 34\",\"Track: Homeless\\u003cbr\\u003ePopularity: 34\",\"Track: Don't\\u003cbr\\u003ePopularity: 34\",\"Track: Little Bird\\u003cbr\\u003ePopularity: 34\",\"Track: Photograph\\u003cbr\\u003ePopularity: 34\",\"Track: Photograph\\u003cbr\\u003ePopularity: 34\",\"Track: Shape of You\\u003cbr\\u003ePopularity: 34\",\"Track: One\\u003cbr\\u003ePopularity: 34\",\"Track: You Need Me, I Don't Need You\\u003cbr\\u003ePopularity: 34\",\"Track: Thinking out Loud\\u003cbr\\u003ePopularity: 34\",\"Track: Sofa\\u003cbr\\u003ePopularity: 33\",\"Track: Blue\\u003cbr\\u003ePopularity: 33\",\"Track: Tenerife Sea\\u003cbr\\u003ePopularity: 33\",\"Track: Radio (feat. JME)\\u003cbr\\u003ePopularity: 33\",\"Track: Thinking out Loud\\u003cbr\\u003ePopularity: 33\",\"Track: Sing\\u003cbr\\u003ePopularity: 33\",\"Track: Plastic Bag\\u003cbr\\u003ePopularity: 33\",\"Track: Lately (feat. Devlin)\\u003cbr\\u003ePopularity: 32\",\"Track: I'm a Mess\\u003cbr\\u003ePopularity: 32\",\"Track: That’s On Me\\u003cbr\\u003ePopularity: 32\",\"Track: Sing\\u003cbr\\u003ePopularity: 32\",\"Track: Amazing\\u003cbr\\u003ePopularity: 32\",\"Track: Bloodstream\\u003cbr\\u003ePopularity: 32\",\"Track: England\\u003cbr\\u003ePopularity: 31\",\"Track: Shivers\\u003cbr\\u003ePopularity: 31\",\"Track: Welcome To The World\\u003cbr\\u003ePopularity: 31\",\"Track: 2step (feat. Antytila)\\u003cbr\\u003ePopularity: 31\",\"Track: 2step (feat. Ultimo)\\u003cbr\\u003ePopularity: 31\",\"Track: Spring\\u003cbr\\u003ePopularity: 31\",\"Track: Wake Me Up - Live at the Bedford\\u003cbr\\u003ePopularity: 30\",\"Track: Family (feat. P Money)\\u003cbr\\u003ePopularity: 30\",\"Track: 2step (feat. Armaan Malik)\\u003cbr\\u003ePopularity: 30\",\"Track: Punchline\\u003cbr\\u003ePopularity: 30\",\"Track: Page\\u003cbr\\u003ePopularity: 30\",\"Track: You (feat. Wiley)\\u003cbr\\u003ePopularity: 30\",\"Track: 2step (feat. Budjerah)\\u003cbr\\u003ePopularity: 29\",\"Track: Bad Habits\\u003cbr\\u003ePopularity: 29\",\"Track: You Need Me, I Don't Need You - Live at the Bedford\\u003cbr\\u003ePopularity: 29\",\"Track: 2step (feat. Chefin)\\u003cbr\\u003ePopularity: 28\",\"Track: Overpass Graffiti\\u003cbr\\u003ePopularity: 28\",\"Track: Nightmares (feat. Random Impulse, Sway & Wretch 32)\\u003cbr\\u003ePopularity: 28\",\"Track: The City - Live at Sticky Studios; Loose Change EP\\u003cbr\\u003ePopularity: 28\",\"Track: 2step (feat. Potter Payper)\\u003cbr\\u003ePopularity: 28\",\"Track: First Times\\u003cbr\\u003ePopularity: 27\",\"Track: The A Team - Live at the Bedford\\u003cbr\\u003ePopularity: 27\",\"Track: Drown Me Out (feat. Ghetts) - + Ghetts\\u003cbr\\u003ePopularity: 27\",\"Track: Goodbye to You (feat. Dot Rotten)\\u003cbr\\u003ePopularity: 27\",\"Track: Fall - Live at the Bedford\\u003cbr\\u003ePopularity: 25\",\"Track: Homeless - Live at the Bedford\\u003cbr\\u003ePopularity: 25\",\"Track: Firefly - Bravado Dubstep Remix\\u003cbr\\u003ePopularity: 24\",\"Track: The City - Live at the Bedford\\u003cbr\\u003ePopularity: 23\"],\"marker\":{\"color\":[\"blue\",\"blue\",\"blue\",\"gray\",\"gray\",\"gray\",\"gray\",\"gray\",\"gray\",\"gray\",\"gray\",\"gray\",\"gray\",\"gray\",\"gray\",\"gray\",\"gray\",\"gray\",\"gray\",\"gray\",\"gray\",\"gray\",\"gray\",\"gray\",\"gray\",\"gray\",\"gray\",\"gray\",\"gray\",\"gray\",\"gray\",\"gray\",\"gray\",\"gray\",\"gray\",\"gray\",\"gray\",\"gray\",\"gray\",\"gray\",\"gray\",\"gray\",\"gray\",\"gray\",\"gray\",\"gray\",\"gray\",\"gray\",\"gray\",\"gray\",\"gray\",\"gray\",\"gray\",\"gray\",\"gray\",\"gray\",\"gray\",\"gray\",\"gray\",\"gray\",\"gray\",\"gray\",\"gray\",\"gray\",\"gray\",\"gray\",\"gray\",\"gray\",\"gray\",\"gray\",\"gray\",\"gray\",\"gray\",\"gray\",\"gray\",\"gray\",\"gray\",\"gray\",\"gray\",\"gray\",\"gray\",\"gray\",\"gray\",\"gray\",\"gray\",\"gray\",\"gray\",\"gray\",\"gray\",\"gray\",\"gray\",\"gray\",\"gray\",\"gray\",\"gray\",\"gray\",\"gray\",\"gray\",\"gray\",\"gray\",\"gray\",\"gray\",\"gray\",\"gray\",\"gray\",\"gray\",\"gray\",\"gray\",\"gray\",\"gray\",\"gray\",\"gray\",\"gray\",\"gray\",\"gray\",\"gray\",\"gray\",\"gray\",\"gray\",\"gray\",\"gray\",\"gray\",\"gray\",\"gray\",\"gray\",\"gray\",\"gray\",\"gray\",\"gray\",\"gray\",\"gray\",\"gray\",\"gray\",\"gray\",\"gray\",\"gray\",\"gray\",\"gray\",\"gray\",\"gray\",\"gray\",\"gray\",\"gray\",\"gray\",\"gray\",\"gray\",\"gray\",\"gray\",\"gray\",\"gray\",\"gray\",\"gray\",\"gray\",\"gray\",\"gray\",\"gray\",\"gray\",\"gray\",\"gray\",\"gray\",\"gray\",\"gray\",\"gray\",\"gray\",\"gray\",\"gray\",\"gray\",\"gray\",\"gray\",\"gray\",\"gray\",\"gray\"]},\"text\":[87.0,87.0,86.0,83.0,82.0,80.0,78.0,78.0,76.0,75.0,73.0,72.0,72.0,71.0,70.0,70.0,70.0,70.0,68.0,68.0,67.0,67.0,67.0,66.0,66.0,66.0,65.0,65.0,64.0,64.0,63.0,63.0,62.0,62.0,61.0,60.0,60.0,59.0,59.0,59.0,59.0,59.0,58.0,58.0,58.0,58.0,58.0,58.0,58.0,57.0,56.0,56.0,55.0,55.0,55.0,54.0,54.0,53.0,53.0,53.0,53.0,52.0,52.0,52.0,52.0,52.0,51.0,51.0,51.0,50.0,50.0,50.0,50.0,47.0,47.0,47.0,47.0,47.0,46.0,46.0,45.0,45.0,44.0,44.0,44.0,44.0,44.0,43.0,42.0,41.0,41.0,41.0,41.0,41.0,40.0,40.0,40.0,39.0,39.0,38.0,38.0,38.0,38.0,38.0,38.0,37.0,37.0,37.0,37.0,36.0,36.0,36.0,36.0,35.0,35.0,35.0,35.0,35.0,35.0,34.0,34.0,34.0,34.0,34.0,34.0,34.0,34.0,34.0,34.0,34.0,34.0,33.0,33.0,33.0,33.0,33.0,33.0,33.0,32.0,32.0,32.0,32.0,32.0,32.0,31.0,31.0,31.0,31.0,31.0,31.0,30.0,30.0,30.0,30.0,30.0,30.0,29.0,29.0,29.0,28.0,28.0,28.0,28.0,28.0,27.0,27.0,27.0,27.0,25.0,25.0,24.0,23.0],\"textposition\":\"inside\",\"x\":[\"Shape of You\",\"Perfect\",\"Photograph\",\"Shivers\",\"Thinking out Loud\",\"Bad Habits\",\"Castle on the Hill\",\"Galway Girl\",\"I Don't Care (with Justin Bieber)\",\"Happier\",\"Supermarket Flowers\",\"Eyes Closed\",\"Dive\",\"South of the Border (feat. Camila Cabello & Cardi B)\",\"Beautiful People (feat. Khalid)\",\"Lego House\",\"Don't\",\"Photograph\",\"Give Me Love\",\"I See Fire\",\"Tenerife Sea\",\"Thinking out Loud\",\"Sing\",\"Overpass Graffiti\",\"Kiss Me\",\"Visiting Hours\",\"The A Team\",\"Remember The Name (feat. Eminem & 50 Cent)\",\"Nancy Mulligan\",\"What Do I Know?\",\"2step\",\"How Would You Feel (Paean)\",\"Bloodstream\",\"All of the Stars\",\"Take Me Back to London (feat. Stormzy)\",\"Antisocial (with Travis Scott)\",\"Drunk\",\"Don't\",\"American Town\",\"Curtains\",\"First Times\",\"I'm a Mess\",\"Boat\",\"One\",\"You Need Me, I Don't Need You\",\"Cross Me (feat. Chance the Rapper & PnB Rock)\",\"Small Bump\",\"Put It All on Me (feat. Ella Mai)\",\"Best Part of Me (feat. YEBBA)\",\"BLOW (with Chris Stapleton & Bruno Mars)\",\"End Of Youth\",\"Life Goes On\",\"Tides\",\"Afire Love\",\"Collide\",\"The Hills of Aberfeldy\",\"Runaway\",\"Vega\",\"Magical\",\"Love In Slow Motion\",\"Tenerife Sea\",\"Dusty\",\"Colourblind\",\"Stop The Rain\",\"Salt Water\",\"Autumn Leaves - Deluxe Edition\",\"All of the Stars\",\"The Joker And The Queen (feat. Taylor Swift)\",\"One Life\",\"Blue\",\"Wake Me Up\",\"U.N.I.\",\"Afterglow\",\"Shivers - Live\",\"Castle on the Hill - Live\",\"Cold Coffee\",\"2step (feat. Lil Baby)\",\"Sing\",\"Tides - Live\",\"Don't\\u002fNina Medley - Live\",\"I See Fire - Live\",\"The A Team - Live\",\"Lego House - Live\",\"Dive - Live\",\"Eyes Closed - Live\",\"Give Me Love\",\"BLOW - Live\",\"One\",\"Plastic Bag\",\"That’s On Me\",\"Amazing\",\"Punchline\",\"Spring\",\"She\",\"Bloodstream\",\"Firefly\",\"England\",\"Page\",\"American Town\",\"I'm a Mess\",\"One Night\",\"Little Lady (feat. Mikill Pane)\",\"Fall\",\"So\",\"Touch and Go\",\"2step (feat. Leto)\",\"Let It Out\",\"Firefly\",\"The A Team\",\"Sunburn\",\"Be Like You\",\"Where We Land\",\"Magical\",\"Lego House\",\"Little Bird\",\"I Don't Care\",\"I Will Remember You\",\"Penguins\",\"Don't\",\"Galway Girl\",\"2step (feat. 1.Cuz)\",\"2step (feat. Quevedo)\",\"Homeless\",\"Don't\",\"Little Bird\",\"Photograph\",\"Photograph\",\"Shape of You\",\"One\",\"You Need Me, I Don't Need You\",\"Thinking out Loud\",\"Sofa\",\"Blue\",\"Tenerife Sea\",\"Radio (feat. JME)\",\"Thinking out Loud\",\"Sing\",\"Plastic Bag\",\"Lately (feat. Devlin)\",\"I'm a Mess\",\"That’s On Me\",\"Sing\",\"Amazing\",\"Bloodstream\",\"England\",\"Shivers\",\"Welcome To The World\",\"2step (feat. Antytila)\",\"2step (feat. Ultimo)\",\"Spring\",\"Wake Me Up - Live at the Bedford\",\"Family (feat. P Money)\",\"2step (feat. Armaan Malik)\",\"Punchline\",\"Page\",\"You (feat. Wiley)\",\"2step (feat. Budjerah)\",\"Bad Habits\",\"You Need Me, I Don't Need You - Live at the Bedford\",\"2step (feat. Chefin)\",\"Overpass Graffiti\",\"Nightmares (feat. Random Impulse, Sway & Wretch 32)\",\"The City - Live at Sticky Studios; Loose Change EP\",\"2step (feat. Potter Payper)\",\"First Times\",\"The A Team - Live at the Bedford\",\"Drown Me Out (feat. Ghetts) - + Ghetts\",\"Goodbye to You (feat. Dot Rotten)\",\"Fall - Live at the Bedford\",\"Homeless - Live at the Bedford\",\"Firefly - Bravado Dubstep Remix\",\"The City - Live at the Bedford\"],\"y\":[87,87,86,83,82,80,78,78,76,75,73,72,72,71,70,70,70,70,68,68,67,67,67,66,66,66,65,65,64,64,63,63,62,62,61,60,60,59,59,59,59,59,58,58,58,58,58,58,58,57,56,56,55,55,55,54,54,53,53,53,53,52,52,52,52,52,51,51,51,50,50,50,50,47,47,47,47,47,46,46,45,45,44,44,44,44,44,43,42,41,41,41,41,41,40,40,40,39,39,38,38,38,38,38,38,37,37,37,37,36,36,36,36,35,35,35,35,35,35,34,34,34,34,34,34,34,34,34,34,34,34,33,33,33,33,33,33,33,32,32,32,32,32,32,31,31,31,31,31,31,30,30,30,30,30,30,29,29,29,28,28,28,28,28,27,27,27,27,25,25,24,23],\"type\":\"bar\"}],                        {\"template\":{\"data\":{\"histogram2dcontour\":[{\"type\":\"histogram2dcontour\",\"colorbar\":{\"outlinewidth\":0,\"ticks\":\"\"},\"colorscale\":[[0.0,\"#0d0887\"],[0.1111111111111111,\"#46039f\"],[0.2222222222222222,\"#7201a8\"],[0.3333333333333333,\"#9c179e\"],[0.4444444444444444,\"#bd3786\"],[0.5555555555555556,\"#d8576b\"],[0.6666666666666666,\"#ed7953\"],[0.7777777777777778,\"#fb9f3a\"],[0.8888888888888888,\"#fdca26\"],[1.0,\"#f0f921\"]]}],\"choropleth\":[{\"type\":\"choropleth\",\"colorbar\":{\"outlinewidth\":0,\"ticks\":\"\"}}],\"histogram2d\":[{\"type\":\"histogram2d\",\"colorbar\":{\"outlinewidth\":0,\"ticks\":\"\"},\"colorscale\":[[0.0,\"#0d0887\"],[0.1111111111111111,\"#46039f\"],[0.2222222222222222,\"#7201a8\"],[0.3333333333333333,\"#9c179e\"],[0.4444444444444444,\"#bd3786\"],[0.5555555555555556,\"#d8576b\"],[0.6666666666666666,\"#ed7953\"],[0.7777777777777778,\"#fb9f3a\"],[0.8888888888888888,\"#fdca26\"],[1.0,\"#f0f921\"]]}],\"heatmap\":[{\"type\":\"heatmap\",\"colorbar\":{\"outlinewidth\":0,\"ticks\":\"\"},\"colorscale\":[[0.0,\"#0d0887\"],[0.1111111111111111,\"#46039f\"],[0.2222222222222222,\"#7201a8\"],[0.3333333333333333,\"#9c179e\"],[0.4444444444444444,\"#bd3786\"],[0.5555555555555556,\"#d8576b\"],[0.6666666666666666,\"#ed7953\"],[0.7777777777777778,\"#fb9f3a\"],[0.8888888888888888,\"#fdca26\"],[1.0,\"#f0f921\"]]}],\"heatmapgl\":[{\"type\":\"heatmapgl\",\"colorbar\":{\"outlinewidth\":0,\"ticks\":\"\"},\"colorscale\":[[0.0,\"#0d0887\"],[0.1111111111111111,\"#46039f\"],[0.2222222222222222,\"#7201a8\"],[0.3333333333333333,\"#9c179e\"],[0.4444444444444444,\"#bd3786\"],[0.5555555555555556,\"#d8576b\"],[0.6666666666666666,\"#ed7953\"],[0.7777777777777778,\"#fb9f3a\"],[0.8888888888888888,\"#fdca26\"],[1.0,\"#f0f921\"]]}],\"contourcarpet\":[{\"type\":\"contourcarpet\",\"colorbar\":{\"outlinewidth\":0,\"ticks\":\"\"}}],\"contour\":[{\"type\":\"contour\",\"colorbar\":{\"outlinewidth\":0,\"ticks\":\"\"},\"colorscale\":[[0.0,\"#0d0887\"],[0.1111111111111111,\"#46039f\"],[0.2222222222222222,\"#7201a8\"],[0.3333333333333333,\"#9c179e\"],[0.4444444444444444,\"#bd3786\"],[0.5555555555555556,\"#d8576b\"],[0.6666666666666666,\"#ed7953\"],[0.7777777777777778,\"#fb9f3a\"],[0.8888888888888888,\"#fdca26\"],[1.0,\"#f0f921\"]]}],\"surface\":[{\"type\":\"surface\",\"colorbar\":{\"outlinewidth\":0,\"ticks\":\"\"},\"colorscale\":[[0.0,\"#0d0887\"],[0.1111111111111111,\"#46039f\"],[0.2222222222222222,\"#7201a8\"],[0.3333333333333333,\"#9c179e\"],[0.4444444444444444,\"#bd3786\"],[0.5555555555555556,\"#d8576b\"],[0.6666666666666666,\"#ed7953\"],[0.7777777777777778,\"#fb9f3a\"],[0.8888888888888888,\"#fdca26\"],[1.0,\"#f0f921\"]]}],\"mesh3d\":[{\"type\":\"mesh3d\",\"colorbar\":{\"outlinewidth\":0,\"ticks\":\"\"}}],\"scatter\":[{\"fillpattern\":{\"fillmode\":\"overlay\",\"size\":10,\"solidity\":0.2},\"type\":\"scatter\"}],\"parcoords\":[{\"type\":\"parcoords\",\"line\":{\"colorbar\":{\"outlinewidth\":0,\"ticks\":\"\"}}}],\"scatterpolargl\":[{\"type\":\"scatterpolargl\",\"marker\":{\"colorbar\":{\"outlinewidth\":0,\"ticks\":\"\"}}}],\"bar\":[{\"error_x\":{\"color\":\"#2a3f5f\"},\"error_y\":{\"color\":\"#2a3f5f\"},\"marker\":{\"line\":{\"color\":\"#E5ECF6\",\"width\":0.5},\"pattern\":{\"fillmode\":\"overlay\",\"size\":10,\"solidity\":0.2}},\"type\":\"bar\"}],\"scattergeo\":[{\"type\":\"scattergeo\",\"marker\":{\"colorbar\":{\"outlinewidth\":0,\"ticks\":\"\"}}}],\"scatterpolar\":[{\"type\":\"scatterpolar\",\"marker\":{\"colorbar\":{\"outlinewidth\":0,\"ticks\":\"\"}}}],\"histogram\":[{\"marker\":{\"pattern\":{\"fillmode\":\"overlay\",\"size\":10,\"solidity\":0.2}},\"type\":\"histogram\"}],\"scattergl\":[{\"type\":\"scattergl\",\"marker\":{\"colorbar\":{\"outlinewidth\":0,\"ticks\":\"\"}}}],\"scatter3d\":[{\"type\":\"scatter3d\",\"line\":{\"colorbar\":{\"outlinewidth\":0,\"ticks\":\"\"}},\"marker\":{\"colorbar\":{\"outlinewidth\":0,\"ticks\":\"\"}}}],\"scattermapbox\":[{\"type\":\"scattermapbox\",\"marker\":{\"colorbar\":{\"outlinewidth\":0,\"ticks\":\"\"}}}],\"scatterternary\":[{\"type\":\"scatterternary\",\"marker\":{\"colorbar\":{\"outlinewidth\":0,\"ticks\":\"\"}}}],\"scattercarpet\":[{\"type\":\"scattercarpet\",\"marker\":{\"colorbar\":{\"outlinewidth\":0,\"ticks\":\"\"}}}],\"carpet\":[{\"aaxis\":{\"endlinecolor\":\"#2a3f5f\",\"gridcolor\":\"white\",\"linecolor\":\"white\",\"minorgridcolor\":\"white\",\"startlinecolor\":\"#2a3f5f\"},\"baxis\":{\"endlinecolor\":\"#2a3f5f\",\"gridcolor\":\"white\",\"linecolor\":\"white\",\"minorgridcolor\":\"white\",\"startlinecolor\":\"#2a3f5f\"},\"type\":\"carpet\"}],\"table\":[{\"cells\":{\"fill\":{\"color\":\"#EBF0F8\"},\"line\":{\"color\":\"white\"}},\"header\":{\"fill\":{\"color\":\"#C8D4E3\"},\"line\":{\"color\":\"white\"}},\"type\":\"table\"}],\"barpolar\":[{\"marker\":{\"line\":{\"color\":\"#E5ECF6\",\"width\":0.5},\"pattern\":{\"fillmode\":\"overlay\",\"size\":10,\"solidity\":0.2}},\"type\":\"barpolar\"}],\"pie\":[{\"automargin\":true,\"type\":\"pie\"}]},\"layout\":{\"autotypenumbers\":\"strict\",\"colorway\":[\"#636efa\",\"#EF553B\",\"#00cc96\",\"#ab63fa\",\"#FFA15A\",\"#19d3f3\",\"#FF6692\",\"#B6E880\",\"#FF97FF\",\"#FECB52\"],\"font\":{\"color\":\"#2a3f5f\"},\"hovermode\":\"closest\",\"hoverlabel\":{\"align\":\"left\"},\"paper_bgcolor\":\"white\",\"plot_bgcolor\":\"#E5ECF6\",\"polar\":{\"bgcolor\":\"#E5ECF6\",\"angularaxis\":{\"gridcolor\":\"white\",\"linecolor\":\"white\",\"ticks\":\"\"},\"radialaxis\":{\"gridcolor\":\"white\",\"linecolor\":\"white\",\"ticks\":\"\"}},\"ternary\":{\"bgcolor\":\"#E5ECF6\",\"aaxis\":{\"gridcolor\":\"white\",\"linecolor\":\"white\",\"ticks\":\"\"},\"baxis\":{\"gridcolor\":\"white\",\"linecolor\":\"white\",\"ticks\":\"\"},\"caxis\":{\"gridcolor\":\"white\",\"linecolor\":\"white\",\"ticks\":\"\"}},\"coloraxis\":{\"colorbar\":{\"outlinewidth\":0,\"ticks\":\"\"}},\"colorscale\":{\"sequential\":[[0.0,\"#0d0887\"],[0.1111111111111111,\"#46039f\"],[0.2222222222222222,\"#7201a8\"],[0.3333333333333333,\"#9c179e\"],[0.4444444444444444,\"#bd3786\"],[0.5555555555555556,\"#d8576b\"],[0.6666666666666666,\"#ed7953\"],[0.7777777777777778,\"#fb9f3a\"],[0.8888888888888888,\"#fdca26\"],[1.0,\"#f0f921\"]],\"sequentialminus\":[[0.0,\"#0d0887\"],[0.1111111111111111,\"#46039f\"],[0.2222222222222222,\"#7201a8\"],[0.3333333333333333,\"#9c179e\"],[0.4444444444444444,\"#bd3786\"],[0.5555555555555556,\"#d8576b\"],[0.6666666666666666,\"#ed7953\"],[0.7777777777777778,\"#fb9f3a\"],[0.8888888888888888,\"#fdca26\"],[1.0,\"#f0f921\"]],\"diverging\":[[0,\"#8e0152\"],[0.1,\"#c51b7d\"],[0.2,\"#de77ae\"],[0.3,\"#f1b6da\"],[0.4,\"#fde0ef\"],[0.5,\"#f7f7f7\"],[0.6,\"#e6f5d0\"],[0.7,\"#b8e186\"],[0.8,\"#7fbc41\"],[0.9,\"#4d9221\"],[1,\"#276419\"]]},\"xaxis\":{\"gridcolor\":\"white\",\"linecolor\":\"white\",\"ticks\":\"\",\"title\":{\"standoff\":15},\"zerolinecolor\":\"white\",\"automargin\":true,\"zerolinewidth\":2},\"yaxis\":{\"gridcolor\":\"white\",\"linecolor\":\"white\",\"ticks\":\"\",\"title\":{\"standoff\":15},\"zerolinecolor\":\"white\",\"automargin\":true,\"zerolinewidth\":2},\"scene\":{\"xaxis\":{\"backgroundcolor\":\"#E5ECF6\",\"gridcolor\":\"white\",\"linecolor\":\"white\",\"showbackground\":true,\"ticks\":\"\",\"zerolinecolor\":\"white\",\"gridwidth\":2},\"yaxis\":{\"backgroundcolor\":\"#E5ECF6\",\"gridcolor\":\"white\",\"linecolor\":\"white\",\"showbackground\":true,\"ticks\":\"\",\"zerolinecolor\":\"white\",\"gridwidth\":2},\"zaxis\":{\"backgroundcolor\":\"#E5ECF6\",\"gridcolor\":\"white\",\"linecolor\":\"white\",\"showbackground\":true,\"ticks\":\"\",\"zerolinecolor\":\"white\",\"gridwidth\":2}},\"shapedefaults\":{\"line\":{\"color\":\"#2a3f5f\"}},\"annotationdefaults\":{\"arrowcolor\":\"#2a3f5f\",\"arrowhead\":0,\"arrowwidth\":1},\"geo\":{\"bgcolor\":\"white\",\"landcolor\":\"#E5ECF6\",\"subunitcolor\":\"white\",\"showland\":true,\"showlakes\":true,\"lakecolor\":\"white\"},\"title\":{\"x\":0.05},\"mapbox\":{\"style\":\"light\"}}},\"xaxis\":{\"title\":{\"text\":\"Track Name\"},\"tickangle\":-45},\"title\":{\"text\":\"Top 10 Tracks - All\"},\"yaxis\":{\"title\":{\"text\":\"Popularity\"}}},                        {\"responsive\": true}                    ).then(function(){\n",
       "                            \n",
       "var gd = document.getElementById('85f6176c-cf60-47b0-b715-0eed8a90b731');\n",
       "var x = new MutationObserver(function (mutations, observer) {{\n",
       "        var display = window.getComputedStyle(gd).display;\n",
       "        if (!display || display === 'none') {{\n",
       "            console.log([gd, 'removed!']);\n",
       "            Plotly.purge(gd);\n",
       "            observer.disconnect();\n",
       "        }}\n",
       "}});\n",
       "\n",
       "// Listen for the removal of the full notebook cells\n",
       "var notebookContainer = gd.closest('#notebook-container');\n",
       "if (notebookContainer) {{\n",
       "    x.observe(notebookContainer, {childList: true});\n",
       "}}\n",
       "\n",
       "// Listen for the clearing of the current output cell\n",
       "var outputEl = gd.closest('.output');\n",
       "if (outputEl) {{\n",
       "    x.observe(outputEl, {childList: true});\n",
       "}}\n",
       "\n",
       "                        })                };                });            </script>        </div>"
      ]
     },
     "metadata": {},
     "output_type": "display_data"
    }
   ],
   "source": [
    "artist_name = \"Ed Sheeran\"\n",
    "artist_id = get_artist_id(artist_name)\n",
    "albums = get_albums(artist_id)\n",
    "\n",
    "all_tracks = []\n",
    "for album_id, album_name in albums:\n",
    "    all_tracks.extend(get_tracks(album_id, album_name))\n",
    "\n",
    "df = pd.DataFrame(all_tracks, columns=[\"Track\", \"Album\", \"Popularity\"])\n",
    "df = df.sort_values(by=\"Popularity\", ascending=False)\n",
    "df_top10 = df.groupby(\"Album\").head(10)\n",
    "\n",
    "display(create_bar_chart())\n",
    "fig.write_html(\"ed_sheeran_track_popularity_by_album.html\")"
   ]
  }
 ],
 "metadata": {
  "kernelspec": {
   "display_name": "Python 3 (ipykernel)",
   "language": "python",
   "name": "python3"
  },
  "language_info": {
   "codemirror_mode": {
    "name": "ipython",
    "version": 3
   },
   "file_extension": ".py",
   "mimetype": "text/x-python",
   "name": "python",
   "nbconvert_exporter": "python",
   "pygments_lexer": "ipython3",
   "version": "3.12.1"
  },
  "widgets": {
   "application/vnd.jupyter.widget-state+json": {
    "state": {
     "0df28d8c56a24b678cd04037dff35ae8": {
      "model_module": "@jupyter-widgets/controls",
      "model_module_version": "2.0.0",
      "model_name": "DescriptionStyleModel",
      "state": {
       "description_width": ""
      }
     },
     "2fe4356a70b347659172625cb5a736ff": {
      "model_module": "@jupyter-widgets/controls",
      "model_module_version": "2.0.0",
      "model_name": "DropdownModel",
      "state": {
       "_options_labels": [
        "All",
        "+",
        "+-=÷× (Tour Collection)",
        "+-=÷× (Tour Collection: Live)",
        "- (Deluxe)",
        "2step (The Remixes)",
        "5",
        "=",
        "= (Tour Edition)",
        "Autumn Variations",
        "Autumn Variations (Fan Living Room Sessions)",
        "Live at the Bedford",
        "Loose Change",
        "No.5 Collaborations Project",
        "No.6 Collaborations Project",
        "x (10th Anniversary Edition)",
        "x (Deluxe Edition)",
        "x (Wembley Edition)",
        "÷ (Deluxe)"
       ],
       "description": "Album:",
       "index": 0,
       "layout": "IPY_MODEL_9dd84598d52b4a9c972d8d30143424d2",
       "style": "IPY_MODEL_ad5cab6d764041318a9102358c6b4788"
      }
     },
     "31f2aa69593348518ea1dedf843330cf": {
      "model_module": "@jupyter-widgets/base",
      "model_module_version": "2.0.0",
      "model_name": "LayoutModel",
      "state": {}
     },
     "326102918b6e42969f48439ba1841893": {
      "model_module": "@jupyter-widgets/controls",
      "model_module_version": "2.0.0",
      "model_name": "DescriptionStyleModel",
      "state": {
       "description_width": ""
      }
     },
     "39b6da71c2834dd3a5c73f0f1f612680": {
      "model_module": "@jupyter-widgets/controls",
      "model_module_version": "2.0.0",
      "model_name": "DescriptionStyleModel",
      "state": {
       "description_width": ""
      }
     },
     "4b782cec4dee4b83bc06eb0d8d6b1127": {
      "model_module": "@jupyter-widgets/controls",
      "model_module_version": "2.0.0",
      "model_name": "DescriptionStyleModel",
      "state": {
       "description_width": ""
      }
     },
     "6544d00605ba4d71850619921dc75164": {
      "model_module": "@jupyter-widgets/controls",
      "model_module_version": "2.0.0",
      "model_name": "DropdownModel",
      "state": {
       "_options_labels": [
        "All",
        "36 Vayadhinile (Original Motion Picture Soundtrack)",
        "Atta Kathi (Original Motion Picture Soundtrack)",
        "Billa Ranga (Original Motion Picture Soundtrack)",
        "Cuckoo (Original Background Score)",
        "Dasara (Original Background Score)",
        "Dasara (Original Motion Picture Soundtrack)",
        "Enakkul Oruvan (Original Motion Picture Soundtrack)",
        "Faadu - A Love Story (Original Series Soundtrack)",
        "I Love Santhosh Narayanan",
        "Iraivi (Original Background Score)",
        "Jagame Thandhiram (Kannada) [Original Motion Picture Soundtrack]",
        "Jagame Thandhiram (Malayalam) [Original Motion Picture Soundtrack]",
        "Jagame Thandhiram (Original Background Score)",
        "Jagame Thandhiram (Original Motion Picture Soundtrack)",
        "Jagame Thandhiram (Telugu) [Original Motion Picture Soundtrack]",
        "Jigarthanda (Original Motion Picture Soundtrack)",
        "Jigarthanda DoubleX (Original Score)",
        "Jigarthanda DoubleX - Hindi (Original Motion Picture Soundtrack)",
        "Jigarthanda DoubleX - Kannada (Original Motion Picture Soundtrack)",
        "Jigarthanda DoubleX - Telugu (Original Motion Picture Soundtrack)",
        "Kaala (Original Soundtrack)",
        "Kaala (Tamil) [Original Motion Picture Soundtrack]",
        "Kaala (Telugu) [Original Motion Picture Soundtrack]",
        "Kaala Karikaalan (Original Motion Picture Soundtrack)",
        "Kabali (Original Background Score) [Original Motion Picture Soundtrack]",
        "Kalki 2898 AD (Original Motion Picture Soundtrack)",
        "Karnan (Original Score)",
        "Love Waves (Tamil)",
        "Madras (Original Background Score)",
        "Madras (Original Motion Picture Soundtrack)",
        "Maha Purusha (Original Motion Picture Soundtrack)",
        "Mahaan (Malayalam) [Original Motion Picture Soundtrack]",
        "Mahaan (Original Motion Picture Soundtrack)",
        "Mahaan (Telugu) [Original Motion Picture Soundtrack]",
        "Meyaadha Maan (Original Motion Picture Soundtrack)",
        "Pariyerum Perumal (Original Background Score)",
        "Penguin (Malayalam) [Original Motion Picture Soundtrack]",
        "Penguin (Original Motion Picture Soundtrack)",
        "Penguin (Telugu) [Original Motion Picture Soundtrack]",
        "Pizza (Original Background Score)",
        "Pizza (Original Motion Picture Soundtrack)",
        "VadaChennai (Original Motion Picture Soundtrack)",
        "VadaChennai (Original Sound Track)"
       ],
       "description": "Album:",
       "index": 0,
       "layout": "IPY_MODEL_31f2aa69593348518ea1dedf843330cf",
       "style": "IPY_MODEL_0df28d8c56a24b678cd04037dff35ae8"
      }
     },
     "6a0d3dc086de4ea8a712b6f626fa869c": {
      "model_module": "@jupyter-widgets/base",
      "model_module_version": "2.0.0",
      "model_name": "LayoutModel",
      "state": {}
     },
     "7311e336397d45a1a952d7333be916f1": {
      "model_module": "@jupyter-widgets/controls",
      "model_module_version": "2.0.0",
      "model_name": "DropdownModel",
      "state": {
       "_options_labels": [
        "All",
        "2.0 (Original Sound Track)",
        "99 Songs (Original Motion Picture Soundtrack)",
        "99 Songs (Original Score)",
        "99 Songs (Tamil) [Original Motion Picture Soundtrack]",
        "99 Songs (Telugu) [Original Motion Picture Soundtrack]",
        "A.R. Rahman Hits, Vol.2",
        "Atrangi Re",
        "Chekka Chivantha Vaanam (Original Motion Picture Soundtrack)",
        "Chhaava (Original Motion Picture Soundtrack)",
        "Dil Bechara (Original Motion Picture Soundtrack)",
        "En Swasa Katre (Karaoke)",
        "Enthiran (Original Background Score)",
        "Galatta Kalyaanam",
        "Harmony with A.R. Rahman",
        "Hits Of Vairamuthu",
        "Husma (Original Motion Picture Soundtrack)",
        "Indian (Original Soundtrack)",
        "Iruvar (Original Soundtrack)",
        "Jeans (Original Background Score)",
        "Jodi (Original Motion Picture Soundtrack)",
        "Kadhal Desam (Original Motion Picture Soundtrack)",
        "Kadhalar Dhinam (Original Motion Picture Soundtrack)",
        "Kochadaiiyaan (Original Score)",
        "Le Musk (Original Soundtrack)",
        "Maamannan (Original Motion Picture Soundtrack)",
        "Mimi (Original Motion Picture Soundtrack)",
        "Mudhalvan (Original Soundtrack)",
        "Nawab (Original Motion Picture Soundtrack)",
        "Nayakudu (Original Motion Picture Soundtrack)",
        "PS-2 (Hindi) [Original Motion Picture Soundtrack]",
        "PS-2 (Kannada) [Original Motion Picture Soundtrack]",
        "PS-2 (Malayalam) [Original Motion Picture Soundtrack]",
        "Padayappa (Original Soundtrack)",
        "Pemwatha (Original Motion Picture Soundtrack)",
        "Pippa (Original Motion Picture Soundtrack)",
        "Ponniyin Selvan (Original Score)",
        "Ponniyin Selvan Part - 2 (Original Motion Picture Soundtrack)",
        "Raayan (Original Background Score)",
        "Randaka Randaka - A.R. Rahman & Harris Jayaraj",
        "Rani Se Mardaani",
        "Ratchagan (Original Motion Picture Soundtrack)",
        "Sangamam (Karaoke)",
        "Sangamam (Original Soundtrack)",
        "Sapnay (Original Motion Picture Soundtrack)",
        "Sillunu Oru Kaadhal (Original Soundtrack)",
        "Sivaji",
        "Thaalam (Original Motion Picture Soundtrack)",
        "Varalaru (Original Motion Picture Soundtrack)",
        "Vendhu Thanindhathu Kaadu (Original Score)",
        "Why? (The Musical)"
       ],
       "description": "Album:",
       "index": 0,
       "layout": "IPY_MODEL_e856fc86a2374446bf292cacba54fa78",
       "style": "IPY_MODEL_4b782cec4dee4b83bc06eb0d8d6b1127"
      }
     },
     "82774ea6b4b94da29d7e5a880fb08d86": {
      "model_module": "@jupyter-widgets/controls",
      "model_module_version": "2.0.0",
      "model_name": "DescriptionStyleModel",
      "state": {
       "description_width": ""
      }
     },
     "9cde913dca0946cbab46f308b44defc4": {
      "model_module": "@jupyter-widgets/controls",
      "model_module_version": "2.0.0",
      "model_name": "DropdownModel",
      "state": {
       "_options_labels": [
        "All",
        "36 Vayadhinile (Original Motion Picture Soundtrack)",
        "Atta Kathi (Original Motion Picture Soundtrack)",
        "Billa Ranga (Original Motion Picture Soundtrack)",
        "Cuckoo (Original Background Score)",
        "Dasara (Original Background Score)",
        "Dasara (Original Motion Picture Soundtrack)",
        "Enakkul Oruvan (Original Motion Picture Soundtrack)",
        "Faadu - A Love Story (Original Series Soundtrack)",
        "I Love Santhosh Narayanan",
        "Iraivi (Original Background Score)",
        "Jagame Thandhiram (Kannada) [Original Motion Picture Soundtrack]",
        "Jagame Thandhiram (Malayalam) [Original Motion Picture Soundtrack]",
        "Jagame Thandhiram (Original Background Score)",
        "Jagame Thandhiram (Original Motion Picture Soundtrack)",
        "Jagame Thandhiram (Telugu) [Original Motion Picture Soundtrack]",
        "Jigarthanda (Original Motion Picture Soundtrack)",
        "Jigarthanda DoubleX (Original Score)",
        "Jigarthanda DoubleX - Hindi (Original Motion Picture Soundtrack)",
        "Jigarthanda DoubleX - Kannada (Original Motion Picture Soundtrack)",
        "Jigarthanda DoubleX - Telugu (Original Motion Picture Soundtrack)",
        "Kaala (Original Soundtrack)",
        "Kaala (Tamil) [Original Motion Picture Soundtrack]",
        "Kaala (Telugu) [Original Motion Picture Soundtrack]",
        "Kaala Karikaalan (Original Motion Picture Soundtrack)",
        "Kabali (Original Background Score) [Original Motion Picture Soundtrack]",
        "Kalki 2898 AD (Original Motion Picture Soundtrack)",
        "Karnan (Original Score)",
        "Love Waves (Tamil)",
        "Madras (Original Background Score)",
        "Madras (Original Motion Picture Soundtrack)",
        "Maha Purusha (Original Motion Picture Soundtrack)",
        "Mahaan (Malayalam) [Original Motion Picture Soundtrack]",
        "Mahaan (Original Motion Picture Soundtrack)",
        "Mahaan (Telugu) [Original Motion Picture Soundtrack]",
        "Meyaadha Maan (Original Motion Picture Soundtrack)",
        "Pariyerum Perumal (Original Background Score)",
        "Penguin (Malayalam) [Original Motion Picture Soundtrack]",
        "Penguin (Original Motion Picture Soundtrack)",
        "Penguin (Telugu) [Original Motion Picture Soundtrack]",
        "Pizza (Original Background Score)",
        "Pizza (Original Motion Picture Soundtrack)",
        "VadaChennai (Original Motion Picture Soundtrack)",
        "VadaChennai (Original Sound Track)"
       ],
       "description": "Album:",
       "index": 0,
       "layout": "IPY_MODEL_a4444cdbfec44c73b5b7811a6858c82d",
       "style": "IPY_MODEL_82774ea6b4b94da29d7e5a880fb08d86"
      }
     },
     "9ce2bbee620a4da9b5751af94144faa6": {
      "model_module": "@jupyter-widgets/controls",
      "model_module_version": "2.0.0",
      "model_name": "DropdownModel",
      "state": {
       "_options_labels": [
        "All",
        "36 Vayadhinile (Original Motion Picture Soundtrack)",
        "Atta Kathi (Original Motion Picture Soundtrack)",
        "Billa Ranga (Original Motion Picture Soundtrack)",
        "Cuckoo (Original Background Score)",
        "Dasara (Original Background Score)",
        "Dasara (Original Motion Picture Soundtrack)",
        "Enakkul Oruvan (Original Motion Picture Soundtrack)",
        "Faadu - A Love Story (Original Series Soundtrack)",
        "I Love Santhosh Narayanan",
        "Iraivi (Original Background Score)",
        "Jagame Thandhiram (Kannada) [Original Motion Picture Soundtrack]",
        "Jagame Thandhiram (Malayalam) [Original Motion Picture Soundtrack]",
        "Jagame Thandhiram (Original Background Score)",
        "Jagame Thandhiram (Original Motion Picture Soundtrack)",
        "Jagame Thandhiram (Telugu) [Original Motion Picture Soundtrack]",
        "Jigarthanda (Original Motion Picture Soundtrack)",
        "Jigarthanda DoubleX (Original Score)",
        "Jigarthanda DoubleX - Hindi (Original Motion Picture Soundtrack)",
        "Jigarthanda DoubleX - Kannada (Original Motion Picture Soundtrack)",
        "Jigarthanda DoubleX - Telugu (Original Motion Picture Soundtrack)",
        "Kaala (Original Soundtrack)",
        "Kaala (Tamil) [Original Motion Picture Soundtrack]",
        "Kaala (Telugu) [Original Motion Picture Soundtrack]",
        "Kaala Karikaalan (Original Motion Picture Soundtrack)",
        "Kabali (Original Background Score) [Original Motion Picture Soundtrack]",
        "Kalki 2898 AD (Original Motion Picture Soundtrack)",
        "Karnan (Original Score)",
        "Love Waves (Tamil)",
        "Madras (Original Background Score)",
        "Madras (Original Motion Picture Soundtrack)",
        "Maha Purusha (Original Motion Picture Soundtrack)",
        "Mahaan (Malayalam) [Original Motion Picture Soundtrack]",
        "Mahaan (Original Motion Picture Soundtrack)",
        "Mahaan (Telugu) [Original Motion Picture Soundtrack]",
        "Meyaadha Maan (Original Motion Picture Soundtrack)",
        "Pariyerum Perumal (Original Background Score)",
        "Penguin (Malayalam) [Original Motion Picture Soundtrack]",
        "Penguin (Original Motion Picture Soundtrack)",
        "Penguin (Telugu) [Original Motion Picture Soundtrack]",
        "Pizza (Original Background Score)",
        "Pizza (Original Motion Picture Soundtrack)",
        "VadaChennai (Original Motion Picture Soundtrack)",
        "VadaChennai (Original Sound Track)"
       ],
       "description": "Album:",
       "index": 0,
       "layout": "IPY_MODEL_6a0d3dc086de4ea8a712b6f626fa869c",
       "style": "IPY_MODEL_c227f28235ec44368323f20886940aeb"
      }
     },
     "9dd84598d52b4a9c972d8d30143424d2": {
      "model_module": "@jupyter-widgets/base",
      "model_module_version": "2.0.0",
      "model_name": "LayoutModel",
      "state": {}
     },
     "a4444cdbfec44c73b5b7811a6858c82d": {
      "model_module": "@jupyter-widgets/base",
      "model_module_version": "2.0.0",
      "model_name": "LayoutModel",
      "state": {}
     },
     "ad5cab6d764041318a9102358c6b4788": {
      "model_module": "@jupyter-widgets/controls",
      "model_module_version": "2.0.0",
      "model_name": "DescriptionStyleModel",
      "state": {
       "description_width": ""
      }
     },
     "c227f28235ec44368323f20886940aeb": {
      "model_module": "@jupyter-widgets/controls",
      "model_module_version": "2.0.0",
      "model_name": "DescriptionStyleModel",
      "state": {
       "description_width": ""
      }
     },
     "d45349dd5b304ac4aef53f418f7bd90f": {
      "model_module": "@jupyter-widgets/controls",
      "model_module_version": "2.0.0",
      "model_name": "DropdownModel",
      "state": {
       "_options_labels": [
        "All",
        "2.0 (Original Sound Track)",
        "99 Songs (Original Motion Picture Soundtrack)",
        "99 Songs (Original Score)",
        "99 Songs (Tamil) [Original Motion Picture Soundtrack]",
        "99 Songs (Telugu) [Original Motion Picture Soundtrack]",
        "A.R. Rahman Hits, Vol.2",
        "Atrangi Re",
        "Chekka Chivantha Vaanam (Original Motion Picture Soundtrack)",
        "Chhaava (Original Motion Picture Soundtrack)",
        "Dil Bechara (Original Motion Picture Soundtrack)",
        "En Swasa Katre (Karaoke)",
        "Enthiran (Original Background Score)",
        "Galatta Kalyaanam",
        "Harmony with A.R. Rahman",
        "Hits Of Vairamuthu",
        "Husma (Original Motion Picture Soundtrack)",
        "Indian (Original Soundtrack)",
        "Iruvar (Original Soundtrack)",
        "Jeans (Original Background Score)",
        "Jodi (Original Motion Picture Soundtrack)",
        "Kadhal Desam (Original Motion Picture Soundtrack)",
        "Kadhalar Dhinam (Original Motion Picture Soundtrack)",
        "Kochadaiiyaan (Original Score)",
        "Le Musk (Original Soundtrack)",
        "Maamannan (Original Motion Picture Soundtrack)",
        "Mimi (Original Motion Picture Soundtrack)",
        "Mudhalvan (Original Soundtrack)",
        "Nawab (Original Motion Picture Soundtrack)",
        "Nayakudu (Original Motion Picture Soundtrack)",
        "PS-2 (Hindi) [Original Motion Picture Soundtrack]",
        "PS-2 (Kannada) [Original Motion Picture Soundtrack]",
        "PS-2 (Malayalam) [Original Motion Picture Soundtrack]",
        "Padayappa (Original Soundtrack)",
        "Pemwatha (Original Motion Picture Soundtrack)",
        "Pippa (Original Motion Picture Soundtrack)",
        "Ponniyin Selvan (Original Score)",
        "Ponniyin Selvan Part - 2 (Original Motion Picture Soundtrack)",
        "Raayan (Original Background Score)",
        "Randaka Randaka - A.R. Rahman & Harris Jayaraj",
        "Rani Se Mardaani",
        "Ratchagan (Original Motion Picture Soundtrack)",
        "Sangamam (Karaoke)",
        "Sangamam (Original Soundtrack)",
        "Sapnay (Original Motion Picture Soundtrack)",
        "Sillunu Oru Kaadhal (Original Soundtrack)",
        "Sivaji",
        "Thaalam (Original Motion Picture Soundtrack)",
        "Varalaru (Original Motion Picture Soundtrack)",
        "Vendhu Thanindhathu Kaadu (Original Score)",
        "Why? (The Musical)"
       ],
       "description": "Album:",
       "index": 0,
       "layout": "IPY_MODEL_e09a397e7a2947019d2deb53b2e926a3",
       "style": "IPY_MODEL_326102918b6e42969f48439ba1841893"
      }
     },
     "defedbe27238479ca6531a9b67a9c61a": {
      "model_module": "@jupyter-widgets/controls",
      "model_module_version": "2.0.0",
      "model_name": "DropdownModel",
      "state": {
       "_options_labels": [
        "All",
        "2.0 (Original Sound Track)",
        "99 Songs (Original Motion Picture Soundtrack)",
        "99 Songs (Original Score)",
        "99 Songs (Tamil) [Original Motion Picture Soundtrack]",
        "99 Songs (Telugu) [Original Motion Picture Soundtrack]",
        "A.R. Rahman Hits, Vol.2",
        "Atrangi Re",
        "Chekka Chivantha Vaanam (Original Motion Picture Soundtrack)",
        "Chhaava (Original Motion Picture Soundtrack)",
        "Dil Bechara (Original Motion Picture Soundtrack)",
        "En Swasa Katre (Karaoke)",
        "Enthiran (Original Background Score)",
        "Galatta Kalyaanam",
        "Harmony with A.R. Rahman",
        "Hits Of Vairamuthu",
        "Husma (Original Motion Picture Soundtrack)",
        "Indian (Original Soundtrack)",
        "Iruvar (Original Soundtrack)",
        "Jeans (Original Background Score)",
        "Jodi (Original Motion Picture Soundtrack)",
        "Kadhal Desam (Original Motion Picture Soundtrack)",
        "Kadhalar Dhinam (Original Motion Picture Soundtrack)",
        "Kochadaiiyaan (Original Score)",
        "Le Musk (Original Soundtrack)",
        "Maamannan (Original Motion Picture Soundtrack)",
        "Mimi (Original Motion Picture Soundtrack)",
        "Mudhalvan (Original Soundtrack)",
        "Nawab (Original Motion Picture Soundtrack)",
        "Nayakudu (Original Motion Picture Soundtrack)",
        "PS-2 (Hindi) [Original Motion Picture Soundtrack]",
        "PS-2 (Kannada) [Original Motion Picture Soundtrack]",
        "PS-2 (Malayalam) [Original Motion Picture Soundtrack]",
        "Padayappa (Original Soundtrack)",
        "Pemwatha (Original Motion Picture Soundtrack)",
        "Pippa (Original Motion Picture Soundtrack)",
        "Ponniyin Selvan (Original Score)",
        "Ponniyin Selvan Part - 2 (Original Motion Picture Soundtrack)",
        "Raayan (Original Background Score)",
        "Randaka Randaka - A.R. Rahman & Harris Jayaraj",
        "Rani Se Mardaani",
        "Ratchagan (Original Motion Picture Soundtrack)",
        "Sangamam (Karaoke)",
        "Sangamam (Original Soundtrack)",
        "Sapnay (Original Motion Picture Soundtrack)",
        "Sillunu Oru Kaadhal (Original Soundtrack)",
        "Sivaji",
        "Thaalam (Original Motion Picture Soundtrack)",
        "Varalaru (Original Motion Picture Soundtrack)",
        "Vendhu Thanindhathu Kaadu (Original Score)",
        "Why? (The Musical)"
       ],
       "description": "Album:",
       "index": 0,
       "layout": "IPY_MODEL_f57ff79cca6e47b28f60a26c2ca31d92",
       "style": "IPY_MODEL_39b6da71c2834dd3a5c73f0f1f612680"
      }
     },
     "e09a397e7a2947019d2deb53b2e926a3": {
      "model_module": "@jupyter-widgets/base",
      "model_module_version": "2.0.0",
      "model_name": "LayoutModel",
      "state": {}
     },
     "e856fc86a2374446bf292cacba54fa78": {
      "model_module": "@jupyter-widgets/base",
      "model_module_version": "2.0.0",
      "model_name": "LayoutModel",
      "state": {}
     },
     "f57ff79cca6e47b28f60a26c2ca31d92": {
      "model_module": "@jupyter-widgets/base",
      "model_module_version": "2.0.0",
      "model_name": "LayoutModel",
      "state": {}
     }
    },
    "version_major": 2,
    "version_minor": 0
   }
  }
 },
 "nbformat": 4,
 "nbformat_minor": 5
}
