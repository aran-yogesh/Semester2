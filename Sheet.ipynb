{
 "cells": [
  {
   "cell_type": "markdown",
   "id": "3465322f-7b7c-4dc8-ac43-a92e931ce58c",
   "metadata": {},
   "source": [
    "# Midterm 2"
   ]
  },
  {
   "cell_type": "code",
   "execution_count": 2,
   "id": "ccfad630-360a-4556-8c04-6708c11f8fec",
   "metadata": {},
   "outputs": [
    {
     "name": "stdout",
     "output_type": "stream",
     "text": [
      "0.161\n"
     ]
    }
   ],
   "source": [
    "import math\n",
    "\n",
    "def logistic_regression(T, H, w0, w1, w2):\n",
    "    z = w0 + w1*T + w2*H\n",
    "    p_storm = 1 / (1 + math.exp(-z))\n",
    "    p_not_storm = 1 - p_storm\n",
    "    return p_not_storm\n",
    "\n",
    "T = 74\n",
    "H = 89\n",
    "w0 = 0.788\n",
    "w1 = 0.002\n",
    "w2 = 0.008\n",
    "\n",
    "p_not_storm = logistic_regression(T, H, w0, w1, w2)\n",
    "print(round(p_not_storm, 3))\n"
   ]
  },
  {
   "cell_type": "code",
   "execution_count": 5,
   "id": "96afa0e7-3eaf-4d3e-9005-b19279e7df56",
   "metadata": {},
   "outputs": [
    {
     "name": "stdout",
     "output_type": "stream",
     "text": [
      "g_bar(0) = -1.99\n"
     ]
    }
   ],
   "source": [
    "import numpy as np\n",
    "\n",
    "\n",
    "g = [-1.87, -2.5, -1.51, -2.08]\n",
    "\n",
    "\n",
    "g_bar = np.mean(g)\n",
    "\n",
    "\n",
    "print(f\"g_bar(0) = {round(g_bar_0, 2)}\")"
   ]
  },
  {
   "cell_type": "code",
   "execution_count": 1,
   "id": "6d2d2687-9b30-4495-a7d2-364cce1654a3",
   "metadata": {},
   "outputs": [
    {
     "name": "stdout",
     "output_type": "stream",
     "text": [
      " Purple 4.33, y = 5.67\n",
      " Yellow 7.50, y = 4.25\n"
     ]
    }
   ],
   "source": [
    "import numpy as np\n",
    "import matplotlib.pyplot as plt\n",
    "\n",
    "\n",
    "purple_cluster = np.array([\n",
    "    [4, 4],\n",
    "    [4, 7],\n",
    "    [5, 6]\n",
    "])\n",
    "\n",
    "\n",
    "yellow_cluster = np.array([\n",
    "    [6, 6],\n",
    "    [7, 4],\n",
    "    [8, 3],\n",
    "    [9, 4]\n",
    "])\n",
    "\n",
    "p_c = np.mean(purple_cluster, axis=0)\n",
    "y_c = np.mean(yellow_cluster, axis=0)\n",
    "\n",
    "print(f\" Purple {p_c[0]:.2f}, y = {p_c[1]:.2f}\")\n",
    "print(f\" Yellow {y_c[0]:.2f}, y = {y_c[1]:.2f}\")\n"
   ]
  },
  {
   "cell_type": "code",
   "execution_count": 19,
   "id": "b3d2ca4d-26fb-4f29-b5a1-74b5f50ea1a2",
   "metadata": {},
   "outputs": [
    {
     "data": {
      "text/plain": [
       "1.671"
      ]
     },
     "execution_count": 19,
     "metadata": {},
     "output_type": "execute_result"
    }
   ],
   "source": [
    "import pandas as pd\n",
    "from sklearn.linear_model import LinearRegression\n",
    "from sklearn.preprocessing import StandardScaler\n",
    "from sklearn.metrics import mean_squared_error\n",
    "import numpy as np\n",
    "\n",
    "\n",
    "df = pd.read_csv('/Users/aran/Desktop/Semester_2/machine learning/assignment/w2.csv')\n",
    "\n",
    "\n",
    "X = df.iloc[0:5].values  \n",
    "y = df.iloc[:, -1].values  \n",
    "\n",
    "\n",
    "scaler = StandardScaler()\n",
    "X_scaled = scaler.fit_transform(X)\n",
    "\n",
    "n = len(X_scaled)\n",
    "squared_errors = []\n",
    "\n",
    "for i in range(n):\n",
    "\n",
    "    X_train = np.delete(X_scaled, i, axis=0)\n",
    "    y_train = np.delete(y, i)\n",
    "    X_val = X_scaled[i].reshape(1, -1)\n",
    "    y_val = y[i]\n",
    "\n",
    "\n",
    "    model = LinearRegression()\n",
    "    model.fit(X_train, y_train)\n",
    "\n",
    "    y_pred = model.predict(X_val)\n",
    "    squared_errors.append((y_pred[0] - y_val) ** 2)\n",
    "\n",
    "\n",
    "loocv_mse = np.mean(squared_errors)\n",
    "loocv_mse_rounded = round(loocv_mse, 3)\n",
    "loocv_mse_rounded"
   ]
  }
 ],
 "metadata": {
  "kernelspec": {
   "display_name": "Python 3 (ipykernel)",
   "language": "python",
   "name": "python3"
  },
  "language_info": {
   "codemirror_mode": {
    "name": "ipython",
    "version": 3
   },
   "file_extension": ".py",
   "mimetype": "text/x-python",
   "name": "python",
   "nbconvert_exporter": "python",
   "pygments_lexer": "ipython3",
   "version": "3.12.1"
  },
  "widgets": {
   "application/vnd.jupyter.widget-state+json": {
    "state": {},
    "version_major": 2,
    "version_minor": 0
   }
  }
 },
 "nbformat": 4,
 "nbformat_minor": 5
}
