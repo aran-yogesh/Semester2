{
 "cells": [
  {
   "cell_type": "markdown",
   "id": "9b462d44-2d5c-4cea-b969-4cf19cb3614d",
   "metadata": {},
   "source": [
    "### Bias and vairance (vineeth's code)"
   ]
  },
  {
   "cell_type": "code",
   "execution_count": 2,
   "id": "7a5279a8-9337-4624-8e01-d0267e022279",
   "metadata": {},
   "outputs": [
    {
     "name": "stdout",
     "output_type": "stream",
     "text": [
      "Constant model - Bias squared: 0.4469833029447595, Variance: 1.7749370367472766e-30, Total error: 0.4469833029447595\n",
      "Linear model - Bias squared: 0.43462887519290133, Variance: 0.659263888888889, Total error: 1.0938927640817904\n",
      "Regularized model - Bias squared: 0.4346288900667452, Variance: 0.658682755092493, Total error: 1.0933116451592382\n"
     ]
    }
   ],
   "source": [
    "import numpy as np\n",
    "import pandas as pd\n",
    "from sklearn.datasets import load_iris\n",
    "from sklearn.model_selection import train_test_split\n",
    "from sklearn.linear_model import LinearRegression\n",
    "from sklearn.dummy import DummyRegressor\n",
    "from sklearn.linear_model import Ridge\n",
    "\n",
    "\n",
    "def f(X):\n",
    "    # Define the true function\n",
    "    return np.mean(X, axis=1)\n",
    "\n",
    "def calculate_bias_variance(model, X_train, y_train, X_test, y_test):\n",
    "    # Train the model\n",
    "    model.fit(X_train, y_train)\n",
    "\n",
    "    # Calculate the average prediction\n",
    "    average_prediction = np.mean(model.predict(X_test))\n",
    "\n",
    "    # Calculate the bias\n",
    "    bias = np.mean((average_prediction - y_test)**2)\n",
    "\n",
    "    # Calculate the variance\n",
    "    variance = np.mean(np.var(model.predict(X_test), axis=0))\n",
    "\n",
    "    return bias, variance\n",
    "\n",
    "def main():\n",
    "    # Load the Iris dataset\n",
    "    iris = load_iris()\n",
    "    X = iris.data\n",
    "    y = f(X)  # Apply the true function\n",
    "\n",
    "    # Split the dataset into training and testing sets\n",
    "    X_train, X_test, y_train, y_test = train_test_split(X, y, test_size=0.2, random_state=42)\n",
    "\n",
    "    # Create a constant model\n",
    "    constant_model = DummyRegressor(strategy='mean')\n",
    "    constant_bias, constant_variance = calculate_bias_variance(constant_model, X_train, y_train, X_test, y_test)\n",
    "    constant_error = constant_bias**2 + constant_variance\n",
    "\n",
    "    # Create a linear model\n",
    "    linear_model = LinearRegression()\n",
    "    linear_bias, linear_variance = calculate_bias_variance(linear_model, X_train, y_train, X_test, y_test)\n",
    "    linear_error = linear_bias**2 + linear_variance\n",
    "\n",
    "    # Create a regularized model\n",
    "    lambda_reg = 0.1\n",
    "    regularized_model = Ridge(alpha=lambda_reg)\n",
    "    regularized_bias, regularized_variance = calculate_bias_variance(regularized_model, X_train, y_train, X_test, y_test)\n",
    "    regularized_error = regularized_bias**2 + regularized_variance\n",
    "\n",
    "\n",
    "    print(f\"Constant model - Bias squared: {constant_bias**2}, Variance: {constant_variance}, Total error: {constant_error}\")\n",
    "    print(f\"Linear model - Bias squared: {linear_bias**2}, Variance: {linear_variance}, Total error: {linear_error}\")\n",
    "    print(f\"Regularized model - Bias squared: {regularized_bias**2}, Variance: {regularized_variance}, Total error: {regularized_error}\")\n",
    "\n",
    "\n",
    "main()"
   ]
  },
  {
   "cell_type": "markdown",
   "id": "821179cb-e828-4b2a-a9f4-04929f64c98f",
   "metadata": {},
   "source": [
    "### bias and variance my code "
   ]
  },
  {
   "cell_type": "code",
   "execution_count": 1,
   "id": "597871a8-3c43-41ce-9418-c2e4cf97785f",
   "metadata": {},
   "outputs": [
    {
     "name": "stdout",
     "output_type": "stream",
     "text": [
      "Bias-Variance Decomposition:\n",
      "Constant (Dummy):\n",
      "\tBias²: 0.5187\n",
      "\tVariance: 0.0012\n",
      "\tMSE: 0.5200\n",
      "\n",
      "Linear Regression:\n",
      "\tBias²: 0.4347\n",
      "\tVariance: 0.0081\n",
      "\tMSE: 0.4428\n",
      "\n",
      "Ridge Regression:\n",
      "\tBias²: 0.5212\n",
      "\tVariance: 0.0072\n",
      "\tMSE: 0.5284\n",
      "\n"
     ]
    },
    {
     "data": {
      "image/png": "[encoded data removed]",
      "text/plain": [
       "<Figure size 640x480 with 1 Axes>"
      ]
     },
     "metadata": {},
     "output_type": "display_data"
    }
   ],
   "source": [
    "import numpy as np\n",
    "import pandas as pd\n",
    "from sklearn.model_selection import train_test_split\n",
    "from sklearn.linear_model import LinearRegression, Ridge\n",
    "from sklearn.dummy import DummyRegressor\n",
    "import matplotlib.pyplot as plt\n",
    "\n",
    "def calculate_bias_variance(X, y, model, num_runs=50, test_size=0.2, random_state=None):\n",
    "    predictions = []\n",
    "\n",
    "    for i in range(num_runs):\n",
    "        X_train, X_test, y_train, y_test = train_test_split(\n",
    "            X, y, test_size=test_size, random_state=random_state\n",
    "        )\n",
    "        model.fit(X_train, y_train)\n",
    "        preds = model.predict(X_test)\n",
    "        predictions.append(preds)\n",
    "\n",
    "    predictions = np.array(predictions)\n",
    "    avg_pred = np.mean(predictions, axis=0)\n",
    "\n",
    "    # Bias squared: how far avg prediction is from true values\n",
    "    bias_squared = np.mean((y_test - avg_pred) ** 2)\n",
    "\n",
    "    # Variance: how much predictions vary across runs\n",
    "    variance = np.mean(np.var(predictions, axis=0))\n",
    "\n",
    "    # Total error (Mean Squared Error)\n",
    "    mse = bias_squared + variance\n",
    "\n",
    "    return bias_squared, variance, mse\n",
    "\n",
    "def main():\n",
    "    # 👇 Replace this part with your professor's dataset        \n",
    "    \n",
    "    #----------------------------------------------------------------------------\n",
    "\n",
    "    # df = pd.read_csv('your_dataset.csv')  # 👈 your dataset filename \n",
    "    \n",
    "    #----------------------------------------------------------------------------\n",
    "\n",
    "    #X = df[[\"feature1\", \"feature2\"]].values\n",
    "    #y = df[\"target\"].values\n",
    "\n",
    "    #----------------------------------------------------------------------------\n",
    "    \n",
    "    \n",
    "    df = pd.DataFrame({                \n",
    "        \"x\": np.linspace(0, 10, 100),\n",
    "        \"y\": np.sin(np.linspace(0, 10, 100)) + np.random.normal(0, 0.3, 100)\n",
    "    })\n",
    "\n",
    "    X = df[[\"x\"]].values\n",
    "    y = df[\"y\"].values\n",
    "\n",
    "    #----------------------------------------------------------------------------\n",
    "\n",
    "    # Models to evaluate\n",
    "    models = {\n",
    "        \"Constant (Dummy)\": DummyRegressor(strategy='mean'),\n",
    "        \"Linear Regression\": LinearRegression(),\n",
    "        \"Ridge Regression\": Ridge(alpha=0.1)\n",
    "    }\n",
    "\n",
    "    results = {}\n",
    "\n",
    "    for name, model in models.items():\n",
    "        bias2, var, mse = calculate_bias_variance(X, y, model, num_runs=100)\n",
    "        results[name] = (bias2, var, mse)\n",
    "\n",
    "    # 📊 Print summarized results\n",
    "    print(\"Bias-Variance Decomposition:\")\n",
    "    for model, (bias2, var, mse) in results.items():\n",
    "        print(f\"{model}:\\n\\tBias²: {bias2:.4f}\\n\\tVariance: {var:.4f}\\n\\tMSE: {mse:.4f}\\n\")\n",
    "\n",
    "    # Visualizing results\n",
    "    labels = list(results.keys())\n",
    "    biases = [results[label][0] for label in labels]\n",
    "    variances = [results[label][1] for label in labels]\n",
    "    mse_values = [results[label][2] for label in labels]\n",
    "\n",
    "    x = np.arange(len(labels))\n",
    "    width = 0.25\n",
    "\n",
    "    plt.bar(x - width, biases, width, label='Bias²')\n",
    "    plt.bar(x, variances, width, label='Variance')\n",
    "    plt.bar(x + width, mse_values, width, label='MSE')\n",
    "\n",
    "    plt.xticks(x, labels)\n",
    "    plt.ylabel(\"Error Value\")\n",
    "    plt.title(\"Bias-Variance Decomposition\")\n",
    "    plt.legend()\n",
    "    plt.grid(axis='y')\n",
    "    plt.show()\n",
    "\n",
    "if __name__ == \"__main__\":\n",
    "    main()"
   ]
  },
  {
   "cell_type": "markdown",
   "id": "909c8c1c-5571-494b-9b8d-039646199c95",
   "metadata": {},
   "source": [
    "### Average value "
   ]
  },
  {
   "cell_type": "code",
   "execution_count": 2,
   "id": "780ca7f5-d3e6-46c0-b581-55adf71ef913",
   "metadata": {},
   "outputs": [
    {
     "name": "stdout",
     "output_type": "stream",
     "text": [
      "Average value of g(x) at x=0: -1.89\n"
     ]
    }
   ],
   "source": [
    "g_values_at_0 = [-1.52, -2.5, -1.51, -2.02]\n",
    "\n",
    "average_g_at_0 = sum(g_values_at_0) / len(g_values_at_0)\n",
    "\n",
    "print(f\"Average value of g(x) at x=0: {average_g_at_0:.2f}\")"
   ]
  },
  {
   "cell_type": "code",
   "execution_count": null,
   "id": "b493fc88-bc1f-494b-829e-feb9740b446d",
   "metadata": {},
   "outputs": [],
   "source": []
  }
 ],
 "metadata": {
  "kernelspec": {
   "display_name": "Python 3 (ipykernel)",
   "language": "python",
   "name": "python3"
  },
  "language_info": {
   "codemirror_mode": {
    "name": "ipython",
    "version": 3
   },
   "file_extension": ".py",
   "mimetype": "text/x-python",
   "name": "python",
   "nbconvert_exporter": "python",
   "pygments_lexer": "ipython3",
   "version": "3.12.1"
  },
  "widgets": {
   "application/vnd.jupyter.widget-state+json": {
    "state": {},
    "version_major": 2,
    "version_minor": 0
   }
  }
 },
 "nbformat": 4,
 "nbformat_minor": 5
}
